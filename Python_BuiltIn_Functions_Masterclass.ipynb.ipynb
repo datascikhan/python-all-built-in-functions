{
 "cells": [
  {
   "cell_type": "markdown",
   "id": "e5dfb647-eecb-4898-9bec-4975b3e62542",
   "metadata": {},
   "source": [
    "\n",
    "# 🐍 Introduction to Python Functions (Built-in Functions)\n",
    "\n",
    "Python mein **functions** chhote code blocks hote hain jo kisi specific kaam ko karne ke liye use kiye jaate hain.  \n",
    "Jab bhi humein koi kaam baar-baar karna ho, to hum uske liye ek function bana lete hain.  \n",
    "Isse humara code **chhota, saaf aur samajhne mein aasan** ho jaata hai.  \n",
    "\n",
    "Functions ka use karne ka sabse bada fayda ye hai ki humein **same code bar-bar likhne ki zarurat nahi padti**.  \n",
    "Bas ek baar function bana do, aur jahan bhi zarurat ho, uska naam likh kar use kar lo.  \n",
    "\n",
    "---\n",
    "\n",
    "## 🔸 Types of Functions in Python\n",
    "\n",
    "Python mein **do tarah ke functions** hote hain:\n",
    "\n",
    "### 1️⃣ Built-in Functions\n",
    "- Ye functions Python ke andar **pehle se hi bane hote hain**.  \n",
    "- Inhe hum **directly use kar sakte hain** bina khud likhe.  \n",
    "- Common examples: `print()`, `len()`, `type()` etc.  \n",
    "\n",
    "### 2️⃣ User-defined Functions\n",
    "- Ye wo functions hote hain jo **hum khud banate hain** apne program ki zarurat ke hisaab se.  \n",
    "- Inme hum **apna logic likhte hain** taake koi specific kaam ho sake.  \n",
    "\n",
    "---\n",
    "\n",
    "## 🔹 Built-in Functions\n",
    "**Built-in functions** Python ke sath hi aate hain aur ye humein common tasks jaise:  \n",
    "- data type check karna  \n",
    "- list ya string ki length nikalna  \n",
    "- maximum ya minimum value dhoondhna  \n",
    "jaise kaam **bahut asaani se** karne mein madad karte hain.  \n",
    "\n",
    "---\n",
    "\n",
    "## 🔹 User-defined Functions\n",
    "**User-defined functions** humein flexibility dete hain **apna custom code likhne ki**,  \n",
    "jisse hum apni programming needs ke mutabiq naye functions bana sakte hain.  \n",
    "\n",
    "---\n",
    "\n",
    "## 💡 Conclusion\n",
    "In dono types ke functions ki wajah se **Python ek powerful aur easy-to-use language** ban jaati hai.  \n",
    "Functions code ko organize karne, samajhne aur reuse karne ka best tarika hain.  \n",
    "\n"
   ]
  },
  {
   "cell_type": "markdown",
   "id": "af48c8a9-4254-4e37-afdd-0e3a3002591c",
   "metadata": {},
   "source": [
    "## Text & String Conversion\n",
    "\n",
    "- str() \n",
    "- len() \n",
    "- print() \n",
    "- format() \n",
    "- chr() \n",
    "- ord() \n",
    "- repr()"
   ]
  },
  {
   "cell_type": "markdown",
   "id": "aca48f68-0335-4d3a-b790-55b63996505a",
   "metadata": {},
   "source": [
    "### 🔹 1️⃣ `str()` Function\n",
    "\n",
    "`str()` function kisi bhi value ko **string (text)** mein convert karta hai.  \n",
    "Chahe wo number ho, list ho, ya koi aur data type — ye sabko string form mein badal deta hai.\n",
    "\n"
   ]
  },
  {
   "cell_type": "code",
   "execution_count": 8,
   "id": "868b6bdd-15e3-4dba-bded-e25f3d1a4140",
   "metadata": {},
   "outputs": [
    {
     "name": "stdout",
     "output_type": "stream",
     "text": [
      "123\n",
      "<class 'str'>\n"
     ]
    }
   ],
   "source": [
    "# Example 1: Number to string\n",
    "\n",
    "num = 123\n",
    "text = str(num)\n",
    "print(str(text))\n",
    "print(type(text))"
   ]
  },
  {
   "cell_type": "code",
   "execution_count": 9,
   "id": "f0d3bd35-54cc-4d96-838a-b31358770bfc",
   "metadata": {},
   "outputs": [
    {
     "name": "stdout",
     "output_type": "stream",
     "text": [
      "10\n"
     ]
    }
   ],
   "source": [
    "num1 = 10\n",
    "print(str(num1))"
   ]
  },
  {
   "cell_type": "code",
   "execution_count": 11,
   "id": "d4c5b3c8-8728-47f3-9be4-b4617e8fb011",
   "metadata": {},
   "outputs": [
    {
     "name": "stdout",
     "output_type": "stream",
     "text": [
      "3.14159\n"
     ]
    }
   ],
   "source": [
    "# Example 2: Float to string\n",
    "pi = 3.14159\n",
    "print(str(pi))"
   ]
  },
  {
   "cell_type": "code",
   "execution_count": 12,
   "id": "2748a5f2-daf7-48ff-96cd-042fc1bb3f11",
   "metadata": {},
   "outputs": [
    {
     "name": "stdout",
     "output_type": "stream",
     "text": [
      "True\n"
     ]
    }
   ],
   "source": [
    "# Example 3: Boolean to string\n",
    "flag = True\n",
    "print(str(flag))"
   ]
  },
  {
   "cell_type": "code",
   "execution_count": 13,
   "id": "d032b651-deda-4005-8d8b-61fe197ee535",
   "metadata": {},
   "outputs": [
    {
     "name": "stdout",
     "output_type": "stream",
     "text": [
      "[10, 20, 30]\n"
     ]
    }
   ],
   "source": [
    "# Example 4: List to string\n",
    "my_list = [10, 20, 30]\n",
    "print(str(my_list))"
   ]
  },
  {
   "cell_type": "code",
   "execution_count": 17,
   "id": "a52e86e6-ed9b-4b11-bc5c-ba1f1670db53",
   "metadata": {},
   "outputs": [
    {
     "name": "stdout",
     "output_type": "stream",
     "text": [
      "My age is 25\n"
     ]
    }
   ],
   "source": [
    "# Example 5: Combining string and int using str()\n",
    "age = 25\n",
    "print(\"My age is\" + \" \" +str(age))"
   ]
  },
  {
   "cell_type": "markdown",
   "id": "d0a690a2-8a6e-4f00-98cb-06eab61407db",
   "metadata": {},
   "source": [
    "### 🔹 2️⃣ len() Function\n",
    "\n",
    "- len() function kisi bhi sequence (jaise string, list, tuple, dictionary) ki length (total elements) batata hai.\n"
   ]
  },
  {
   "cell_type": "code",
   "execution_count": 19,
   "id": "e9160f39-f464-4ed4-b26a-6d6807e464c6",
   "metadata": {},
   "outputs": [
    {
     "name": "stdout",
     "output_type": "stream",
     "text": [
      "6\n"
     ]
    }
   ],
   "source": [
    "# Example 1: String ki length\n",
    "text = \"Python\"\n",
    "print(len(text))"
   ]
  },
  {
   "cell_type": "code",
   "execution_count": 20,
   "id": "461eeb92-c40b-4d2a-aee7-e860a33f0a3b",
   "metadata": {},
   "outputs": [
    {
     "name": "stdout",
     "output_type": "stream",
     "text": [
      "19\n"
     ]
    }
   ],
   "source": [
    "course = \"Data Science and AI\"\n",
    "print(len(course))"
   ]
  },
  {
   "cell_type": "code",
   "execution_count": 21,
   "id": "4d224985-27d7-4063-a776-7a2bd919cddd",
   "metadata": {},
   "outputs": [
    {
     "name": "stdout",
     "output_type": "stream",
     "text": [
      "4\n"
     ]
    }
   ],
   "source": [
    "# Example 2: List ki length\n",
    "fruits = [\"apple\", \"banana\", \"cherry\", \"orange\"]\n",
    "print(len(fruits))"
   ]
  },
  {
   "cell_type": "code",
   "execution_count": 22,
   "id": "c7d162d0-a7b9-46cf-ac8e-62f607ac49de",
   "metadata": {},
   "outputs": [
    {
     "name": "stdout",
     "output_type": "stream",
     "text": [
      "3\n"
     ]
    }
   ],
   "source": [
    "# Example 3: Dictionary ki length (keys count)\n",
    "\n",
    "info = {\"Name\": \"Ahmed\", \"Age\": 20, \"City\": \"Lahore\"}\n",
    "print(len(info))"
   ]
  },
  {
   "cell_type": "code",
   "execution_count": 23,
   "id": "e5b4a208-5dc9-46bd-b2c3-9fc26c94545a",
   "metadata": {},
   "outputs": [
    {
     "name": "stdout",
     "output_type": "stream",
     "text": [
      "0\n"
     ]
    }
   ],
   "source": [
    "\n",
    "# Example 4: Empty string\n",
    "\n",
    "empty = \"\"\n",
    "print(len(empty))"
   ]
  },
  {
   "cell_type": "code",
   "execution_count": 24,
   "id": "029ec19b-2101-477b-80d0-01af3260fcd5",
   "metadata": {},
   "outputs": [
    {
     "name": "stdout",
     "output_type": "stream",
     "text": [
      "4\n"
     ]
    }
   ],
   "source": [
    "# Example 5: Nested list\n",
    "matrix = [[1,2], [3,4], [5,6], [7,8]]\n",
    "print(len(matrix))"
   ]
  },
  {
   "cell_type": "markdown",
   "id": "0cdd71eb-27dd-4134-8093-1f149e863ea6",
   "metadata": {},
   "source": [
    "### 🔹 3️⃣ print() Function\n",
    "\n",
    "- print() function output screen par data display karne ke liye use hota hai.\n",
    "- Ye Python ka sabse basic aur commonly used function hai.\n"
   ]
  },
  {
   "cell_type": "code",
   "execution_count": 26,
   "id": "065d42a0-537c-4bb3-b7a0-0df126007e34",
   "metadata": {},
   "outputs": [
    {
     "name": "stdout",
     "output_type": "stream",
     "text": [
      "Hello! World\n"
     ]
    }
   ],
   "source": [
    "# Example 1: Python First Program print karna\n",
    "print(\"Hello! World\")"
   ]
  },
  {
   "cell_type": "code",
   "execution_count": 27,
   "id": "a6b71b3f-4d76-4744-adaa-cb6b44fffc92",
   "metadata": {},
   "outputs": [
    {
     "name": "stdout",
     "output_type": "stream",
     "text": [
      "Name: Noman Age: 20 city: Islamabad\n"
     ]
    }
   ],
   "source": [
    "# Example 2: Multiple values print karna\n",
    "name = \"Noman\"\n",
    "age = 20\n",
    "city = \"Islamabad\"\n",
    "print(\"Name:\", name, \"Age:\", age, \"city:\", city)"
   ]
  },
  {
   "cell_type": "code",
   "execution_count": 28,
   "id": "a7299486-c86b-40e4-80d2-b4de8ba71695",
   "metadata": {},
   "outputs": [
    {
     "name": "stdout",
     "output_type": "stream",
     "text": [
      " I Love Python.\n"
     ]
    }
   ],
   "source": [
    "# Example 3: String formatting ke sath\n",
    "leanguage = \"Python\"\n",
    "print(f\" I Love {leanguage}.\")"
   ]
  },
  {
   "cell_type": "code",
   "execution_count": 31,
   "id": "8b9a1be1-0999-40fe-ab14-90a41bfbb6bd",
   "metadata": {},
   "outputs": [
    {
     "name": "stdout",
     "output_type": "stream",
     "text": [
      "Hello! World Hello! World\n"
     ]
    }
   ],
   "source": [
    "# Example 4: End parameter use karna\n",
    "print(\"Hello! World\",  end=\" \")\n",
    "print(\"Hello! World\")"
   ]
  },
  {
   "cell_type": "code",
   "execution_count": 33,
   "id": "a156bc35-ddd9-46bf-b1fe-194efb9e792a",
   "metadata": {},
   "outputs": [
    {
     "name": "stdout",
     "output_type": "stream",
     "text": [
      "26-10-2025\n"
     ]
    }
   ],
   "source": [
    "print(\"26\", \"10\", \"2025\", sep=\"-\")"
   ]
  },
  {
   "cell_type": "markdown",
   "id": "a600521d-fbfa-4e39-bc1d-1247157dee09",
   "metadata": {},
   "source": [
    "### 🔹 4️⃣ format() Function\n",
    "\n",
    "- format() function string ke andar dynamic values insert karne ke liye use hota hai.\n",
    "- Ye code ko readable aur professional banata hai.\n"
   ]
  },
  {
   "cell_type": "code",
   "execution_count": 36,
   "id": "518c670a-6d8e-4212-95c4-8ec3c67368e7",
   "metadata": {},
   "outputs": [
    {
     "name": "stdout",
     "output_type": "stream",
     "text": [
      "My name is Ahmed\n"
     ]
    }
   ],
   "source": [
    "# Example 1: Simple format use\n",
    "msg = \"My name is {}\".format(\"Ahmed\")\n",
    "print(msg)"
   ]
  },
  {
   "cell_type": "code",
   "execution_count": 37,
   "id": "c251d283-23f2-4523-af18-27ae65a38540",
   "metadata": {},
   "outputs": [
    {
     "name": "stdout",
     "output_type": "stream",
     "text": [
      "Name: Ahmed, Age: 30, City: Lahore\n"
     ]
    }
   ],
   "source": [
    "# Example 2: Multiple placeholders\n",
    "info = \"Name: {}, Age: {}, City: {}\".format(\"Ahmed\", 30, \"Lahore\")\n",
    "print(info)"
   ]
  },
  {
   "cell_type": "code",
   "execution_count": 38,
   "id": "5680e9ee-b75c-47be-8de5-1b86a70c4d96",
   "metadata": {},
   "outputs": [
    {
     "name": "stdout",
     "output_type": "stream",
     "text": [
      "This is Banana and that is Apple\n"
     ]
    }
   ],
   "source": [
    "# Example 3: Using index positions\n",
    "data = \"This is {1} and that is {0}\".format(\"Apple\", \"Banana\")\n",
    "print(data)"
   ]
  },
  {
   "cell_type": "code",
   "execution_count": 41,
   "id": "029bcb17-b341-4197-afe1-a6a85ce8e35c",
   "metadata": {},
   "outputs": [
    {
     "name": "stdout",
     "output_type": "stream",
     "text": [
      "Hello, Ahmed! You are 30 years old.\n"
     ]
    }
   ],
   "source": [
    "# Example 4: Named placeholders\n",
    "print(\"Hello, {name}! You are {age} years old.\".format(name = \"Ahmed\", age = 30))"
   ]
  },
  {
   "cell_type": "code",
   "execution_count": 42,
   "id": "8cc948c7-85e3-4f8d-a5dd-608d479b30e1",
   "metadata": {},
   "outputs": [
    {
     "name": "stdout",
     "output_type": "stream",
     "text": [
      "Value of Pi: 3.14\n"
     ]
    }
   ],
   "source": [
    "# Example 5: Formatting numbers\n",
    "num = 3.14159265\n",
    "print(\"Value of Pi: {:.2f}\".format(num))"
   ]
  },
  {
   "cell_type": "markdown",
   "id": "6067f205-0113-49d2-97b3-93e8b7e58491",
   "metadata": {},
   "source": [
    "## 🔹 5️⃣ chr() Function\n",
    "\n",
    "- chr() function ek Unicode number ko uske corresponding character mein convert karta hai.\n",
    "\n"
   ]
  },
  {
   "cell_type": "code",
   "execution_count": 48,
   "id": "ef4a2bf6-de29-44ec-a9c9-677e719c8792",
   "metadata": {},
   "outputs": [
    {
     "name": "stdout",
     "output_type": "stream",
     "text": [
      "@\n"
     ]
    }
   ],
   "source": [
    "\n",
    "# Example 1: Basic use\n",
    "print(chr(64))"
   ]
  },
  {
   "cell_type": "code",
   "execution_count": 49,
   "id": "eb26ef66-bbe3-46e4-9c61-6dc3a0d07c68",
   "metadata": {},
   "outputs": [
    {
     "name": "stdout",
     "output_type": "stream",
     "text": [
      "a\n"
     ]
    }
   ],
   "source": [
    "# Example 2: Lowercase letter\n",
    "print(chr(97))"
   ]
  },
  {
   "cell_type": "code",
   "execution_count": 50,
   "id": "f49d1198-b00c-4ca3-aa05-30f3ba16415c",
   "metadata": {},
   "outputs": [
    {
     "name": "stdout",
     "output_type": "stream",
     "text": [
      "$\n"
     ]
    }
   ],
   "source": [
    "\n",
    "# Example 3: Symbol character\n",
    "print(chr(36))"
   ]
  },
  {
   "cell_type": "code",
   "execution_count": 53,
   "id": "e590cb33-680b-47d8-9cb0-894335df9e8d",
   "metadata": {},
   "outputs": [
    {
     "name": "stdout",
     "output_type": "stream",
     "text": [
      " \n"
     ]
    }
   ],
   "source": [
    "# Example 4: Space character\n",
    "print(chr(32))"
   ]
  },
  {
   "cell_type": "code",
   "execution_count": 54,
   "id": "aba4953b-9aa0-4bde-8c32-d42cc185e65c",
   "metadata": {},
   "outputs": [
    {
     "name": "stdout",
     "output_type": "stream",
     "text": [
      "😉\n"
     ]
    }
   ],
   "source": [
    "# Example 5: Emoji character\n",
    "print(chr(128521))"
   ]
  },
  {
   "cell_type": "code",
   "execution_count": 58,
   "id": "62dfe494-9aa8-4c03-b94e-a57404a44e27",
   "metadata": {},
   "outputs": [
    {
     "name": "stdout",
     "output_type": "stream",
     "text": [
      "\n",
      "\n"
     ]
    }
   ],
   "source": [
    "print(chr(10))"
   ]
  },
  {
   "cell_type": "code",
   "execution_count": 59,
   "id": "c5558ef9-b154-4848-8781-d8cce8bb3269",
   "metadata": {},
   "outputs": [
    {
     "name": "stdout",
     "output_type": "stream",
     "text": [
      "\u0014\n"
     ]
    }
   ],
   "source": [
    "print(chr(20))"
   ]
  },
  {
   "cell_type": "code",
   "execution_count": 61,
   "id": "368efb0f-f9e8-49ce-aa42-9157260843b4",
   "metadata": {},
   "outputs": [
    {
     "name": "stdout",
     "output_type": "stream",
     "text": [
      "Ǝ\n"
     ]
    }
   ],
   "source": [
    "print(chr(398))"
   ]
  },
  {
   "cell_type": "markdown",
   "id": "6fcfcba1-bc31-4a0b-80bf-b0b21b8f596f",
   "metadata": {},
   "source": [
    "###🔹 6️⃣ ord() Function\n",
    "\n",
    "\n",
    "- ord() function kisi character ka Unicode number (integer code) return karta hai.\n",
    "- Ye chr() ka opposite function hai."
   ]
  },
  {
   "cell_type": "code",
   "execution_count": 65,
   "id": "645edac4-080b-48a6-ac4e-11d9fa491699",
   "metadata": {},
   "outputs": [
    {
     "name": "stdout",
     "output_type": "stream",
     "text": [
      "46\n"
     ]
    }
   ],
   "source": [
    "print(ord(\".\"))"
   ]
  },
  {
   "cell_type": "code",
   "execution_count": 66,
   "id": "cf1069e8-9abe-4e86-bfae-cf4d6b99441e",
   "metadata": {},
   "outputs": [
    {
     "name": "stdout",
     "output_type": "stream",
     "text": [
      "62\n"
     ]
    }
   ],
   "source": [
    "print(ord(\">\"))"
   ]
  },
  {
   "cell_type": "code",
   "execution_count": 67,
   "id": "5a5d9f40-6ee3-47a9-8d8e-e1a4291f7c4c",
   "metadata": {},
   "outputs": [
    {
     "name": "stdout",
     "output_type": "stream",
     "text": [
      "60\n"
     ]
    }
   ],
   "source": [
    "print(ord(\"<\"))"
   ]
  },
  {
   "cell_type": "code",
   "execution_count": 68,
   "id": "cd6e9f6d-ce19-4321-a42d-79e5641a390d",
   "metadata": {},
   "outputs": [
    {
     "name": "stdout",
     "output_type": "stream",
     "text": [
      "42\n"
     ]
    }
   ],
   "source": [
    "print(ord(\"*\"))"
   ]
  },
  {
   "cell_type": "code",
   "execution_count": 69,
   "id": "3eb38b65-9aaa-4008-bf69-e835559a2340",
   "metadata": {},
   "outputs": [
    {
     "name": "stdout",
     "output_type": "stream",
     "text": [
      "38\n"
     ]
    }
   ],
   "source": [
    "print(ord(\"&\"))"
   ]
  },
  {
   "cell_type": "code",
   "execution_count": 70,
   "id": "17b6b6b4-d919-4387-9ed7-11fa137b38a9",
   "metadata": {},
   "outputs": [
    {
     "name": "stdout",
     "output_type": "stream",
     "text": [
      "64\n"
     ]
    }
   ],
   "source": [
    "print(ord(\"@\"))"
   ]
  },
  {
   "cell_type": "code",
   "execution_count": 72,
   "id": "5fc940c7-f765-4321-8b8e-e68e6fe19a0e",
   "metadata": {},
   "outputs": [
    {
     "name": "stdout",
     "output_type": "stream",
     "text": [
      "40\n"
     ]
    }
   ],
   "source": [
    "print(ord('('))"
   ]
  },
  {
   "cell_type": "markdown",
   "id": "83ef5e56-7c3c-42a9-98d8-e608ea8677c9",
   "metadata": {},
   "source": [
    "### 🔹 7️⃣ repr() Function\n",
    "\n",
    "- repr() function kisi object ka string representation deta hai, jo debugging aur development mein kaafi useful hota hai.\n",
    "- Ye object ko aise string mein convert karta hai jise Python interpreter samajh sake.\n"
   ]
  },
  {
   "cell_type": "code",
   "execution_count": 79,
   "id": "7f56c023-388a-4019-a6ee-fa8067a9a494",
   "metadata": {},
   "outputs": [
    {
     "name": "stdout",
     "output_type": "stream",
     "text": [
      "'Hello! World'\n"
     ]
    }
   ],
   "source": [
    "\n",
    "# Example 1: String representation\n",
    "text = \"Hello! World\"\n",
    "print(repr(text))"
   ]
  },
  {
   "cell_type": "code",
   "execution_count": 80,
   "id": "dbf678b1-f1dc-4d16-9b79-76a37222aa4e",
   "metadata": {},
   "outputs": [
    {
     "name": "stdout",
     "output_type": "stream",
     "text": [
      "'Hello\\nWorld!'\n"
     ]
    }
   ],
   "source": [
    "# Example 2: With special characters\n",
    "text = \"Hello\\nWorld!\"\n",
    "print(repr(text))"
   ]
  },
  {
   "cell_type": "code",
   "execution_count": 81,
   "id": "9acc0648-ecda-4cfe-ab23-ddaa21bc04ce",
   "metadata": {},
   "outputs": [
    {
     "name": "stdout",
     "output_type": "stream",
     "text": [
      "[10, 20, 30]\n"
     ]
    }
   ],
   "source": [
    "# Example 3: List representation\n",
    "\n",
    "data = [10, 20, 30]\n",
    "print(repr(data))"
   ]
  },
  {
   "cell_type": "code",
   "execution_count": 82,
   "id": "aa8d6e99-9481-49a1-b076-e746d1e15e38",
   "metadata": {},
   "outputs": [
    {
     "name": "stdout",
     "output_type": "stream",
     "text": [
      "True\n"
     ]
    }
   ],
   "source": [
    "# Example 4: Boolean value\n",
    "print(repr(True))"
   ]
  },
  {
   "cell_type": "code",
   "execution_count": 1,
   "id": "37ef738f-a523-47fc-9be1-a9b7954b2b3c",
   "metadata": {},
   "outputs": [
    {
     "name": "stdout",
     "output_type": "stream",
     "text": [
      "<__main__.student object at 0x705c5d7f5400>\n"
     ]
    }
   ],
   "source": [
    "# Example 5: Object representation\n",
    "\n",
    "class student:\n",
    "    def __init__(self, name):\n",
    "        self.name = name\n",
    "\n",
    "obj = student(\"ahmed\")\n",
    "print(repr(obj))"
   ]
  },
  {
   "cell_type": "markdown",
   "id": "623e02cf-c083-4771-aa14-c15142c61c7c",
   "metadata": {},
   "source": [
    "---------------------------------------------------------------------------------"
   ]
  },
  {
   "cell_type": "markdown",
   "id": "43c0c23f-0fb8-4cbe-b4f9-5c1e5882286a",
   "metadata": {},
   "source": [
    "### Type Conversion / Data Handling Functions in Python\n",
    "- int()\n",
    "- float()\n",
    "- bool()\n",
    "- list()\n",
    "- tuple()\n",
    "- set()\n",
    "- dict()\n",
    "\n",
    "\n",
    "\n",
    "Python mein type conversion ka matlab hota hai **ek data type ko doosre data type mein badalna**.  \n",
    "Is process ko **type casting** bhi kaha jaata hai.  \n",
    "\n",
    "Python mein kuch built-in functions hote hain jo data ko ek type se doosre mein convert karne ke liye use kiye jaate hain —  \n",
    "jaise `int()`, `float()`, `bool()`, `list()`, `tuple()`, `set()`, aur `dict()`.\n",
    "\n"
   ]
  },
  {
   "cell_type": "markdown",
   "id": "cb9fb1cc-6dfa-4b81-8d03-7f9791d0672e",
   "metadata": {},
   "source": [
    "## 🔹 1️⃣ `int()` Function\n",
    "\n",
    "\n",
    "`int()` function kisi value ko **integer (poora number)** mein convert karta hai.  \n",
    "Agar value decimal ya string form mein ho, to ye usse integer type bana deta hai.\n"
   ]
  },
  {
   "cell_type": "code",
   "execution_count": 92,
   "id": "5ef66ba5-90bd-4f6b-8440-9cf8f4f59c95",
   "metadata": {},
   "outputs": [
    {
     "name": "stdout",
     "output_type": "stream",
     "text": [
      "12\n"
     ]
    }
   ],
   "source": [
    "# Example 1: Float to integer\n",
    "num = 12.9\n",
    "print(int(num))"
   ]
  },
  {
   "cell_type": "code",
   "execution_count": 93,
   "id": "752c5aa2-5bbc-4cfc-9897-33b9aee2fcb6",
   "metadata": {},
   "outputs": [
    {
     "name": "stdout",
     "output_type": "stream",
     "text": [
      "300\n"
     ]
    }
   ],
   "source": [
    "# Example 2: String number to integer\n",
    "value = \"300\"\n",
    "print(int(value))"
   ]
  },
  {
   "cell_type": "code",
   "execution_count": 99,
   "id": "71d7feb5-a6b9-41a6-92c0-5572bdad2ed2",
   "metadata": {},
   "outputs": [
    {
     "name": "stdout",
     "output_type": "stream",
     "text": [
      "1\n",
      "0\n"
     ]
    }
   ],
   "source": [
    "# Example 3: Boolean to integer\n",
    "print(int(True))\n",
    "print(int(False))"
   ]
  },
  {
   "cell_type": "code",
   "execution_count": 100,
   "id": "b578cb43-0208-4476-9da3-eb066ccfb9f3",
   "metadata": {},
   "outputs": [
    {
     "name": "stdout",
     "output_type": "stream",
     "text": [
      "6\n"
     ]
    }
   ],
   "source": [
    "# Example 4: Mathematical expression result\n",
    "result = int(3.99 + 2.01)\n",
    "print(result)"
   ]
  },
  {
   "cell_type": "code",
   "execution_count": 102,
   "id": "dd748e3e-7a90-4a53-b757-be3de50f9a43",
   "metadata": {},
   "outputs": [
    {
     "name": "stdout",
     "output_type": "stream",
     "text": [
      "30\n"
     ]
    }
   ],
   "source": [
    "# Example 5: Converting input (string) to integer\n",
    "user_input = \"25\"\n",
    "age = int(user_input)\n",
    "print(age + 5)"
   ]
  },
  {
   "cell_type": "markdown",
   "id": "75c1acad-3066-4d47-a837-fdc39087e2ef",
   "metadata": {},
   "source": [
    "### 🔹 2️⃣ float() Function\n",
    "\n",
    "- float() function kisi value ko floating-point number (decimal) mein convert karta hai.\n"
   ]
  },
  {
   "cell_type": "code",
   "execution_count": 109,
   "id": "23de8b9f-a8c3-43bf-9954-a7d70b9906fb",
   "metadata": {},
   "outputs": [
    {
     "name": "stdout",
     "output_type": "stream",
     "text": [
      "100.0\n"
     ]
    }
   ],
   "source": [
    "# Example 1: Integer to float\n",
    "\n",
    "num = 100\n",
    "print(float(num))"
   ]
  },
  {
   "cell_type": "code",
   "execution_count": 110,
   "id": "9323387b-f472-47e4-9031-5fec07f6325b",
   "metadata": {},
   "outputs": [
    {
     "name": "stdout",
     "output_type": "stream",
     "text": [
      "3.15\n"
     ]
    }
   ],
   "source": [
    "# Example 2: String number to float\n",
    "value = \"3.15\"\n",
    "print(float(value))"
   ]
  },
  {
   "cell_type": "code",
   "execution_count": 111,
   "id": "ef3d515e-3e2e-41f9-b0d6-c56d2cab6287",
   "metadata": {},
   "outputs": [
    {
     "name": "stdout",
     "output_type": "stream",
     "text": [
      "1.0\n",
      "0.0\n"
     ]
    }
   ],
   "source": [
    "\n",
    "# Example 3: Boolean to float\n",
    "print(float(True))\n",
    "print(float(False))"
   ]
  },
  {
   "cell_type": "code",
   "execution_count": 114,
   "id": "240145f2-c9fe-4fe2-843b-a42658840c1b",
   "metadata": {},
   "outputs": [
    {
     "name": "stdout",
     "output_type": "stream",
     "text": [
      "2.5\n",
      "0.4\n"
     ]
    }
   ],
   "source": [
    "# Example 4: Mathematical expression\n",
    "x = 5\n",
    "y = 2\n",
    "print(float(x/y))\n",
    "\n",
    "num1 = 20\n",
    "num2 = 50\n",
    "print(num1 / num2)"
   ]
  },
  {
   "cell_type": "code",
   "execution_count": 116,
   "id": "6825dfe0-f150-45f4-9775-91366963b5e9",
   "metadata": {},
   "outputs": [
    {
     "name": "stdout",
     "output_type": "stream",
     "text": [
      "109.99\n"
     ]
    }
   ],
   "source": [
    "# Example 5: Converting price input\n",
    "price = \"99.99\"\n",
    "print(float(price) + 10)"
   ]
  },
  {
   "cell_type": "markdown",
   "id": "f271c697-0934-4361-8503-b76d141bad37",
   "metadata": {},
   "source": [
    "### 🔹 3️⃣ bool() Function\n",
    "\n",
    "\n",
    "- bool() function kisi value ko True ya False mein convert karta hai.\n",
    "- Empty values (jaise 0, \"\", [], {}) False hoti hain, aur baaki sab True.\n"
   ]
  },
  {
   "cell_type": "code",
   "execution_count": 123,
   "id": "0f5f40b4-b1e7-4c93-9f15-84ff1cec5f01",
   "metadata": {},
   "outputs": [
    {
     "name": "stdout",
     "output_type": "stream",
     "text": [
      "True\n",
      "False\n"
     ]
    }
   ],
   "source": [
    "# Example 1: Numbers\n",
    "print(bool(1))\n",
    "print(bool(0))"
   ]
  },
  {
   "cell_type": "code",
   "execution_count": 124,
   "id": "1e27477f-de51-465b-a632-14b58fe5942d",
   "metadata": {},
   "outputs": [
    {
     "name": "stdout",
     "output_type": "stream",
     "text": [
      "True\n",
      "False\n"
     ]
    }
   ],
   "source": [
    "# Example 2: Strings\n",
    "print(bool(\"Python\"))\n",
    "print(bool(\"\"))"
   ]
  },
  {
   "cell_type": "code",
   "execution_count": 125,
   "id": "9c3e1634-1511-4d19-9d53-e427269cd3b7",
   "metadata": {},
   "outputs": [
    {
     "name": "stdout",
     "output_type": "stream",
     "text": [
      "True\n",
      "False\n"
     ]
    }
   ],
   "source": [
    "# Example 3: Lists\n",
    "print(bool([10, 20, 30]))\n",
    "print(bool([]))"
   ]
  },
  {
   "cell_type": "code",
   "execution_count": 128,
   "id": "36bd413a-679c-41ff-889a-9410220a9217",
   "metadata": {},
   "outputs": [
    {
     "name": "stdout",
     "output_type": "stream",
     "text": [
      "False\n"
     ]
    }
   ],
   "source": [
    "# Example 4: None value\n",
    "print(bool(None))"
   ]
  },
  {
   "cell_type": "code",
   "execution_count": 130,
   "id": "8e819500-d327-4860-b2a8-126a0711215a",
   "metadata": {},
   "outputs": [
    {
     "name": "stdout",
     "output_type": "stream",
     "text": [
      "True\n"
     ]
    }
   ],
   "source": [
    "# Example 5: Condition check\n",
    "is_adult = bool(18 > 15)\n",
    "print(is_adult)"
   ]
  },
  {
   "cell_type": "markdown",
   "id": "712b99e2-e15c-4205-9855-dad3c2661741",
   "metadata": {},
   "source": [
    "### 🔹 4️⃣ list() Function\n",
    "\n",
    "- list() function kisi iterable (jaise string, tuple, set, dictionary) ko list mein convert karta hai.\n",
    "- List mutable hoti hai (change ki ja sakti hai).\n"
   ]
  },
  {
   "cell_type": "code",
   "execution_count": 162,
   "id": "bb4d2cb5-3f05-43cc-a75d-4670e21c7bb1",
   "metadata": {},
   "outputs": [
    {
     "name": "stdout",
     "output_type": "stream",
     "text": [
      "['K', 'a', 'm', 'r', 'a', 'n']\n",
      "['S', 'i', 'n', 'd', 'i']\n"
     ]
    }
   ],
   "source": [
    "# Example 1: String to list\n",
    "\n",
    "name = \"Kamran\"\n",
    "print(list(name))\n",
    "\n",
    "leanguage = \"Sindi\"\n",
    "print(list(leanguage))"
   ]
  },
  {
   "cell_type": "code",
   "execution_count": 163,
   "id": "631891b4-fd0a-4314-a2a2-1376b546542b",
   "metadata": {},
   "outputs": [
    {
     "name": "stdout",
     "output_type": "stream",
     "text": [
      "[1, 2, 3, 4, 5]\n"
     ]
    }
   ],
   "source": [
    "# Example 2: Tuple to list\n",
    "tup = (1, 2, 3, 4, 5)\n",
    "print(list(tup))"
   ]
  },
  {
   "cell_type": "code",
   "execution_count": 164,
   "id": "fffae58e-6dec-4def-849a-e6e11ddb07c7",
   "metadata": {},
   "outputs": [
    {
     "name": "stdout",
     "output_type": "stream",
     "text": [
      "[50, 20, 40, 10, 30]\n"
     ]
    }
   ],
   "source": [
    "# Example 3: Set to list\n",
    "se = {10, 20, 30, 40, 50, 50}\n",
    "print(list(se))"
   ]
  },
  {
   "cell_type": "code",
   "execution_count": 165,
   "id": "4a31beb7-6fc4-431f-a47d-c128ff4bca18",
   "metadata": {},
   "outputs": [
    {
     "name": "stdout",
     "output_type": "stream",
     "text": [
      "['num1', 'num2']\n"
     ]
    }
   ],
   "source": [
    "# Example 4: Dictionary keys to list\n",
    "dic = {\"num1\": 100, \"num2\": 200}\n",
    "print(list(dic))"
   ]
  },
  {
   "cell_type": "code",
   "execution_count": 166,
   "id": "36ff4608-e88c-4fbe-967c-61de569b88b8",
   "metadata": {},
   "outputs": [
    {
     "name": "stdout",
     "output_type": "stream",
     "text": [
      "[0, 1, 2, 3, 4, 5, 6, 7, 8, 9]\n"
     ]
    }
   ],
   "source": [
    "# Example 5: Range to list\n",
    "nums = list(range(10))\n",
    "print(nums)"
   ]
  },
  {
   "cell_type": "markdown",
   "id": "8a1bc75e-8f1c-49f0-a257-2c6670390be7",
   "metadata": {},
   "source": [
    "\n",
    "### 🔹 5️⃣ tuple() Function\n",
    "\n",
    "- tuple() function kisi iterable (list, string, set, etc.) ko tuple mein convert karta hai.\n",
    "- Tuple immutable hoti hai (change nahi hoti).\n"
   ]
  },
  {
   "cell_type": "code",
   "execution_count": 168,
   "id": "7fb460a3-d780-44ab-bbcf-0df2a6d07899",
   "metadata": {},
   "outputs": [
    {
     "name": "stdout",
     "output_type": "stream",
     "text": [
      "(10, 20, 30, 40, 50)\n"
     ]
    }
   ],
   "source": [
    "# Example 1: List to tuple\n",
    "my_list = [10, 20, 30, 40, 50]\n",
    "print(tuple(my_list))"
   ]
  },
  {
   "cell_type": "code",
   "execution_count": 169,
   "id": "4c052e84-4f96-46b1-a0db-17ae14e68a82",
   "metadata": {},
   "outputs": [
    {
     "name": "stdout",
     "output_type": "stream",
     "text": [
      "('H', 'e', 'l', 'l', 'o', '!')\n"
     ]
    }
   ],
   "source": [
    "# Example 2: String to tuple\n",
    "word = \"Hello!\"\n",
    "print(tuple(word))"
   ]
  },
  {
   "cell_type": "code",
   "execution_count": 170,
   "id": "12714c62-28aa-45ad-9c5f-391c6b227925",
   "metadata": {},
   "outputs": [
    {
     "name": "stdout",
     "output_type": "stream",
     "text": [
      "(50, 20, 40, 10, 30)\n"
     ]
    }
   ],
   "source": [
    "# Example 3: Set to tuple\n",
    "se = {10, 20, 30, 40, 50, 50}\n",
    "print(tuple(se))"
   ]
  },
  {
   "cell_type": "code",
   "execution_count": 171,
   "id": "4fc1e758-cca2-4307-9b62-48e95b67f1b5",
   "metadata": {},
   "outputs": [
    {
     "name": "stdout",
     "output_type": "stream",
     "text": [
      "(0, 1, 2, 3, 4)\n"
     ]
    }
   ],
   "source": [
    "# Example 4: Range to tuple\n",
    "nums = tuple(range(5))\n",
    "print(nums)"
   ]
  },
  {
   "cell_type": "code",
   "execution_count": 172,
   "id": "1ed35a07-89ba-4abd-99ff-c00919b0211e",
   "metadata": {},
   "outputs": [
    {
     "name": "stdout",
     "output_type": "stream",
     "text": [
      "([10, 20], [30, 40], [50, 60])\n"
     ]
    }
   ],
   "source": [
    "# Example 5: Nested list to tuple\n",
    "nested_list = [[10, 20], [30, 40], [50, 60]]\n",
    "print(tuple(nested_list))"
   ]
  },
  {
   "cell_type": "markdown",
   "id": "a1087a48-9c3e-4903-9a54-35739e7b3026",
   "metadata": {},
   "source": [
    "### 6️⃣ set() Function\n",
    "\n",
    "- set() function kisi iterable ko set mein convert karta hai.\n",
    "- Set ek unordered collection hoti hai jisme duplicate elements nahi hote.\n"
   ]
  },
  {
   "cell_type": "code",
   "execution_count": 179,
   "id": "846e9325-3865-441b-b648-3fd872324a5d",
   "metadata": {},
   "outputs": [
    {
     "name": "stdout",
     "output_type": "stream",
     "text": [
      "{1, 2, 3, 4, 5, 6, 7}\n"
     ]
    }
   ],
   "source": [
    "# Example 1: List to set\n",
    "numbers = [1, 2, 3, 2, 4,3, 3, 5, 5, 7, 6 , 7]\n",
    "print(set(numbers))"
   ]
  },
  {
   "cell_type": "code",
   "execution_count": 180,
   "id": "c994b90c-dea3-4ca2-a74d-c5ab43ed4926",
   "metadata": {},
   "outputs": [
    {
     "name": "stdout",
     "output_type": "stream",
     "text": [
      "{'y', 't', 'n', 'h', 'o', 'P'}\n"
     ]
    }
   ],
   "source": [
    "# Example 2: String to set\n",
    "word = \"Python\"\n",
    "print(set(word))"
   ]
  },
  {
   "cell_type": "code",
   "execution_count": 184,
   "id": "09b27562-e113-4f7f-ab96-022b09e006ce",
   "metadata": {},
   "outputs": [
    {
     "name": "stdout",
     "output_type": "stream",
     "text": [
      "{40, 10, 50, 20, 30}\n"
     ]
    }
   ],
   "source": [
    "# Example 3: Tuple to set\n",
    "t = (10, 20, 30, 40, 40, 40, 50, 50, 50, 50, 50, 50)\n",
    "print(set(t))"
   ]
  },
  {
   "cell_type": "code",
   "execution_count": 185,
   "id": "a0f454fb-e44b-4b7d-9ab3-bfe8fb82cb06",
   "metadata": {},
   "outputs": [
    {
     "name": "stdout",
     "output_type": "stream",
     "text": [
      "{'Laptop', 'Monitor', 'Keyboard', 'Mouse'}\n"
     ]
    }
   ],
   "source": [
    "# Example 4: Remove duplicates from list\n",
    "items = [\"Laptop\", \"Laptop\", \"Mouse\", \"Mouse\", \"Keyboard\", \"Keyboard\", \"Monitor\", \"Monitor\"]\n",
    "print(set(items))"
   ]
  },
  {
   "cell_type": "code",
   "execution_count": 186,
   "id": "bef51e68-49e3-4c7a-9683-8e8743433575",
   "metadata": {},
   "outputs": [
    {
     "name": "stdout",
     "output_type": "stream",
     "text": [
      "{50, 20, 40, 10, 60, 30}\n"
     ]
    }
   ],
   "source": [
    "# Example 5: Set operations\n",
    "num1 = set([10, 20, 30])\n",
    "num2 = set([40, 50, 60])\n",
    "print(num1.union(num2))"
   ]
  },
  {
   "cell_type": "markdown",
   "id": "fab38309-e701-4266-9939-9a80480d06b8",
   "metadata": {},
   "source": [
    "### 🔹 7️⃣ dict() Function\n",
    "\n",
    "- dict() function key-value pairs se ek dictionary banata hai.\n",
    "- Dictionary ek mapping data type hoti hai jo data ko key ke through store karti hai.\n"
   ]
  },
  {
   "cell_type": "code",
   "execution_count": 193,
   "id": "8a125fb2-c38e-49f2-9bfb-b9d7cc1b1551",
   "metadata": {},
   "outputs": [
    {
     "name": "stdout",
     "output_type": "stream",
     "text": [
      "{'Name': 'Ahmed', 'Age': 20}\n"
     ]
    }
   ],
   "source": [
    "# Example 1: Tuple pairs to dict\n",
    "pairs = [(\"Name\", \"Ahmed\"), (\"Age\", 20)]\n",
    "print(dict(pairs))"
   ]
  },
  {
   "cell_type": "code",
   "execution_count": 194,
   "id": "b98c1938-380b-442f-8810-5502b1a45da2",
   "metadata": {},
   "outputs": [
    {
     "name": "stdout",
     "output_type": "stream",
     "text": [
      "{'name': 'Ahmed', 'age': 20, 'city': 'Lahore'}\n"
     ]
    }
   ],
   "source": [
    "# Example 2: Using keyword arguments\n",
    "info = dict(name = \"Ahmed\", age = 20, city = \"Lahore\")\n",
    "print(dict(info))"
   ]
  },
  {
   "cell_type": "code",
   "execution_count": 195,
   "id": "d0159831-9887-4d51-af56-692935c2e5f4",
   "metadata": {},
   "outputs": [
    {
     "name": "stdout",
     "output_type": "stream",
     "text": [
      "{}\n"
     ]
    }
   ],
   "source": [
    "# Example 3: Empty dictionary\n",
    "\n",
    "d = dict()\n",
    "print(d)"
   ]
  },
  {
   "cell_type": "code",
   "execution_count": 196,
   "id": "5497aff0-4274-4247-bfed-31433f616b02",
   "metadata": {},
   "outputs": [
    {
     "name": "stdout",
     "output_type": "stream",
     "text": [
      "{'num1': 10, 'num2': 20}\n"
     ]
    }
   ],
   "source": [
    "\n",
    "# Example 4: List of lists\n",
    "data = [[\"num1\", 10], [\"num2\", 20]]\n",
    "print(dict(data))"
   ]
  },
  {
   "cell_type": "code",
   "execution_count": 198,
   "id": "7d6b4a78-5efc-4b82-848e-f855ed817a94",
   "metadata": {},
   "outputs": [
    {
     "name": "stdout",
     "output_type": "stream",
     "text": [
      "{0: 0, 1: 1, 2: 4, 3: 9}\n"
     ]
    }
   ],
   "source": [
    "# Example 5: Dictionary comprehension\n",
    "squares = dict([ ( x, x**2) for x in range(4)])\n",
    "print(squares)"
   ]
  },
  {
   "cell_type": "markdown",
   "id": "3738ac87-d4a3-4022-b2e4-e176875051ce",
   "metadata": {},
   "source": [
    "\n",
    "### ✅ Conclusion\n",
    "\n",
    "- **Type conversion functions** Python mein **data** ko ek **form** se **doosre** **form** mein convert karne ke  liye use hote hain.\n",
    "- Ye humein **data** ko handle karne, modify karne aur logically use karne mein madad karte hain.\n",
    "- Unka sahi istemaal **program** ko **flexible** aur **error-free** banata hai."
   ]
  },
  {
   "cell_type": "markdown",
   "id": "55f1b24a-f7ac-4059-be1b-a580c8072381",
   "metadata": {},
   "source": [
    "----------------------------------------------------------------------------------"
   ]
  },
  {
   "cell_type": "markdown",
   "id": "a48ab5a0-0495-4b26-8522-5779ffe517ef",
   "metadata": {},
   "source": [
    "# Iteration / Sequence Control Functions in Python\n",
    "- enumerate() \n",
    "- zip() \n",
    "- map()\n",
    "- filter() \n",
    "- sorted() \n",
    "- reversed()\n",
    "\n",
    "\n",
    "- Python mein **iteration** aur **sequence control functions** humein **collections (jaise list, tuple, string, etc.)** par efficiently kaam karne mein madad karte hain.  \n",
    "- In **functions** ka use **data** ko **loop karne**, **combine karne**, **filter karne**, ya **sort karne** ke liye use hotein hai.  \n",
    "\n",
    "- Is section mein hum seekhenge:  \n",
    " `enumerate()`, `zip()`, `map()`, `filter()`, `sorted()`, `reversed()`\n",
    "\n",
    "\n"
   ]
  },
  {
   "cell_type": "markdown",
   "id": "69c115b7-b057-4f6d-a126-c29920f5a240",
   "metadata": {},
   "source": [
    "\n",
    "### 🔹 1️⃣ `enumerate()` Function\n",
    "  \n",
    "- `enumerate()` function kisi **iterable (list, tuple, string)** ke sath **index number** bhi provide karta hai.  \n",
    "- Yani ye elements ko loop karte waqt unka index numbers bhi return karta hai.\n",
    "\n"
   ]
  },
  {
   "cell_type": "code",
   "execution_count": 212,
   "id": "91bb47b7-5f18-4fe6-bfba-89bb2f2835f7",
   "metadata": {},
   "outputs": [
    {
     "name": "stdout",
     "output_type": "stream",
     "text": [
      "0 apple\n",
      "1 banana\n",
      "2 cherry\n",
      "3 orange\n",
      "4 mango\n",
      "5 strawberry\n",
      "6 Blueberry\n",
      "7 Pineapple\n",
      "8 Watermelon\n"
     ]
    }
   ],
   "source": [
    "# Example 1: Simple list with enumerate\n",
    "fruits = [\"apple\", \"banana\", \"cherry\", \"orange\", \"mango\", \"strawberry\", \"Blueberry\", \"Pineapple\", \"Watermelon\"]\n",
    "for index, fruit in enumerate(fruits):\n",
    "    print(index, fruit)"
   ]
  },
  {
   "cell_type": "code",
   "execution_count": 6,
   "id": "02921b5f-d87f-4b90-be8a-b7b591da1831",
   "metadata": {},
   "outputs": [
    {
     "name": "stdout",
     "output_type": "stream",
     "text": [
      "1, Ibrahim\n",
      "2, Mudasir\n",
      "3, Sono\n",
      "4, Kaka\n",
      "5, Sara\n"
     ]
    }
   ],
   "source": [
    "# Example 2: Start index change karna\n",
    "for i, names in enumerate([\"Ibrahim\", \"Mudasir\", \"Sono\", \"Kaka\", \"Sara\"], start=1):\n",
    "    print(f\"{i}, {names}\")"
   ]
  },
  {
   "cell_type": "code",
   "execution_count": 7,
   "id": "c1bb8e53-4d3a-484f-868b-8e357e4a8852",
   "metadata": {},
   "outputs": [
    {
     "name": "stdout",
     "output_type": "stream",
     "text": [
      "0 , P\n",
      "1 , y\n",
      "2 , t\n",
      "3 , h\n",
      "4 , o\n",
      "5 , n\n"
     ]
    }
   ],
   "source": [
    "# Example 3: String ke characters ke sath\n",
    "\n",
    "for i, ch in enumerate(\"Python\"):\n",
    "    print(f\"{i} , {ch}\")"
   ]
  },
  {
   "cell_type": "code",
   "execution_count": 8,
   "id": "51ae07bf-964b-448e-baa2-0226adf10fc2",
   "metadata": {},
   "outputs": [
    {
     "name": "stdout",
     "output_type": "stream",
     "text": [
      "[(0, 'Pen'), (1, 'Pencil'), (2, 'color'), (3, 'Bag'), (4, 'Shoes'), (5, 'tie'), (6, 'razer'), (7, 'shopner')]\n"
     ]
    }
   ],
   "source": [
    "# Example 4: Index-value pair list banana\n",
    "items = [\"Pen\", \"Pencil\", \"color\", \"Bag\", \"Shoes\", \"tie\" , \"razer\", \"shopner\"]\n",
    "index = list(enumerate(items))\n",
    "print(index)"
   ]
  },
  {
   "cell_type": "code",
   "execution_count": 9,
   "id": "4e94803c-580e-4761-a6c2-2ab51f3d0cec",
   "metadata": {},
   "outputs": [
    {
     "name": "stdout",
     "output_type": "stream",
     "text": [
      "{0: 'Red', 1: 'Green', 2: 'Blue', 3: 'White', 4: 'Puple', 5: 'Orange'}\n"
     ]
    }
   ],
   "source": [
    "# Example 5: Dictionary banana using enumerate\n",
    "\n",
    "colors = [\"Red\", \"Green\", \"Blue\", \"White\", \"Puple\", \"Orange\"]\n",
    "index_dict = {i: c for i, c in enumerate(colors)}\n",
    "print(index_dict)"
   ]
  },
  {
   "cell_type": "markdown",
   "id": "8fe6d0a9-e45b-43da-b53f-033d8a81cb54",
   "metadata": {},
   "source": [
    "\n",
    "### 🔹 2️⃣ zip() Function\n",
    "\n",
    "- zip() function multiple iterables ko combine karta hai taake unke corresponding elements ek he tuple mein mil jaayein.\n",
    "- Ye tab useful hota hai jab aapko parallel data ke sath kaam karna ho.\n",
    "\n"
   ]
  },
  {
   "cell_type": "code",
   "execution_count": 15,
   "id": "ec0d65e3-515e-4442-b82e-23404a5bd517",
   "metadata": {},
   "outputs": [
    {
     "name": "stdout",
     "output_type": "stream",
     "text": [
      "[(1, 'adeel', 'aliya'), (2, 'ameen', 'mariyam'), (3, 'roman', 'aman')]\n"
     ]
    }
   ],
   "source": [
    "# Example 1: Combine two lists\n",
    "x = [1, 2, 3]\n",
    "y = [\"adeel\", \"ameen\", \"roman\"]\n",
    "z = [\"aliya\", \"mariyam\", \"aman\"]\n",
    "print(list(zip(x,y,z)))"
   ]
  },
  {
   "cell_type": "code",
   "execution_count": 20,
   "id": "8c137119-1c75-4b90-b1b0-b38bcd390be2",
   "metadata": {},
   "outputs": [
    {
     "name": "stdout",
     "output_type": "stream",
     "text": [
      "[(18, 'noman', 'sara'), (20, 'kamran', 'komal'), (15, 'zeeshan', 'aliza')]\n"
     ]
    }
   ],
   "source": [
    "# Example 2: 3 lists combine karna\n",
    "age = [18, 20, 15]\n",
    "boys_name = [\"noman\", \"kamran\", \"zeeshan\"]\n",
    "girls_name = [\"sara\", \"komal\", \"aliza\"]\n",
    "print(list(zip(age, boys_name, girls_name)))"
   ]
  },
  {
   "cell_type": "code",
   "execution_count": 22,
   "id": "27f3e250-e71b-40d5-991a-a4e4ea87b2ef",
   "metadata": {},
   "outputs": [
    {
     "name": "stdout",
     "output_type": "stream",
     "text": [
      "[('Name', 'Sher Khan'), ('Age', 25), ('Course', 'Data Science'), ('City', 'Lahore')]\n"
     ]
    }
   ],
   "source": [
    "# Example 3: Dictionary banana using zip\n",
    "key = [\"Name\", \"Age\", \"Course\", \"City\"]\n",
    "value = [\"Sher Khan\", 25, \"Data Science\", \"Lahore\"]\n",
    "print(list(zip(key, value)))"
   ]
  },
  {
   "cell_type": "code",
   "execution_count": 25,
   "id": "75aead1d-65b1-4ea8-9dc6-c2d06eeefd7a",
   "metadata": {},
   "outputs": [
    {
     "name": "stdout",
     "output_type": "stream",
     "text": [
      "Math, 79.\n",
      "Science, 92.\n",
      "English, 85.\n",
      "Physics, 70.\n",
      "Biology, 90.\n",
      "Social Studies, 52.\n"
     ]
    }
   ],
   "source": [
    "# Example 4: Loop with zip\n",
    "subjects = [\"Math\", \"Science\", \"English\", \"Physics\", \"Biology\", \"Social Studies\"]\n",
    "marks = [79, 92, 85, 70, 90, 52]\n",
    "for sub, mark in zip(subjects, marks):\n",
    "    print(f\"{sub}, {mark}.\")"
   ]
  },
  {
   "cell_type": "code",
   "execution_count": 26,
   "id": "39954055-d003-4511-a93c-7668158f7f0f",
   "metadata": {},
   "outputs": [
    {
     "name": "stdout",
     "output_type": "stream",
     "text": [
      "('apple', 'banana', 'cherry')\n",
      "(4, 12, 7)\n"
     ]
    }
   ],
   "source": [
    "# Example 5: Unzip (separate back)\n",
    "pairs = [(\"apple\", 4), (\"banana\", 12), (\"cherry\", 7)]\n",
    "letters, numbers = zip(*pairs)\n",
    "print(letters)\n",
    "print(numbers)"
   ]
  },
  {
   "cell_type": "markdown",
   "id": "0baa375f-56dc-489e-8248-a60d975141d1",
   "metadata": {},
   "source": [
    "### 🔹 3️⃣ map() Function\n",
    "\n",
    "- map() function kisi dusre function ko iterable(list,tuple,set,dict...) ke har element par apply karta hai.\n",
    "- Result ek map object deta hai (jise list ya tuple mein convert kar sakte hain)."
   ]
  },
  {
   "cell_type": "code",
   "execution_count": 34,
   "id": "97356e55-e167-45ba-a2ba-2ed9e63810e0",
   "metadata": {},
   "outputs": [
    {
     "name": "stdout",
     "output_type": "stream",
     "text": [
      "[(<function <lambda> at 0x734c981cd940>,), ([1, 2, 3, 4, 5],)]\n"
     ]
    }
   ],
   "source": [
    "# Example 1: Square of numbers\n",
    "numbers = [1, 2, 3, 4, 5]\n",
    "squares = list(zip([lambda x: x**2 , numbers]))\n",
    "print(squares)"
   ]
  },
  {
   "cell_type": "code",
   "execution_count": 40,
   "id": "ae13dc82-7f9b-47d1-9185-315068f01136",
   "metadata": {},
   "outputs": [
    {
     "name": "stdout",
     "output_type": "stream",
     "text": [
      "['ADEEL', 'ALIYA', 'MARIYAM', 'AMEN', 'AMEEN', 'ROMAN']\n"
     ]
    }
   ],
   "source": [
    "# Example 2: Convert all strings to uppercase\n",
    "names = [\"adeel\", \"aliya\", \"mariyam\", \"amen\", \"ameen\", \"roman\"]\n",
    "upper_name = list(map(str.upper, names))\n",
    "print(upper_names)\n"
   ]
  },
  {
   "cell_type": "code",
   "execution_count": 45,
   "id": "4e7b67c8-96c1-4b6d-b0aa-87bea7c92cdc",
   "metadata": {},
   "outputs": [
    {
     "name": "stdout",
     "output_type": "stream",
     "text": [
      "[5, 5, 7, 4, 5, 5]\n"
     ]
    }
   ],
   "source": [
    "# Example 3: Length of each word\n",
    "names = [\"Adeel\", \"Aliya\", \"Mariyam\", \"Amen\", \"Ameen\", \"Roman\"]\n",
    "lenghts = list(map(len, names))\n",
    "print(lenghts)\n",
    "\n"
   ]
  },
  {
   "cell_type": "code",
   "execution_count": 48,
   "id": "e5988b34-e933-4c75-9ece-327f6a2faf61",
   "metadata": {},
   "outputs": [
    {
     "name": "stdout",
     "output_type": "stream",
     "text": [
      "['100', '200', '300']\n",
      "[100, 200, 300]\n"
     ]
    }
   ],
   "source": [
    "# Example 4: Convert string numbers to int\n",
    "nums = [\"100\", \"200\", \"300\"]\n",
    "converted = list(map(int, nums))\n",
    "print(nums)\n",
    "print(converted)\n"
   ]
  },
  {
   "cell_type": "code",
   "execution_count": 49,
   "id": "7ebaf4b3-3de7-4ec9-a167-7ff92337b0db",
   "metadata": {},
   "outputs": [
    {
     "name": "stdout",
     "output_type": "stream",
     "text": [
      "[158.48931924611142, 339.7292929268496, 530.680806142328]\n"
     ]
    }
   ],
   "source": [
    "# Example 5: Apply custom function\n",
    "def add_taz(price):\n",
    "    return price ** 1.1\n",
    "\n",
    "prices = [100, 200, 300]\n",
    "final_prices = list(map(add_taz, prices))\n",
    "print(final_prices)"
   ]
  },
  {
   "cell_type": "markdown",
   "id": "2f93e6a0-4c56-4b23-b68e-63daf60f76fa",
   "metadata": {},
   "source": [
    "### 🔹 4️⃣ filter() Function\n",
    "\n",
    "- filter() function kisi **condition** ke base par **iterable** ke elements ko **filter** karta hai.\n",
    "- Ye unhi **elements** ko **return** karta hai jo **condition satisfy** karte hain.\n"
   ]
  },
  {
   "cell_type": "code",
   "execution_count": 56,
   "id": "6306f8af-b444-495e-82cb-79ccf04ec351",
   "metadata": {},
   "outputs": [
    {
     "name": "stdout",
     "output_type": "stream",
     "text": [
      "[2, 4, 6]\n"
     ]
    }
   ],
   "source": [
    "# Example 1: Even numbers filter karna\n",
    "nums = [1, 2, 3, 4, 5, 6]\n",
    "even = list(filter(lambda x: x % 2 == 0, nums))\n",
    "print(even)"
   ]
  },
  {
   "cell_type": "code",
   "execution_count": 57,
   "id": "158fe325-41c4-441e-9dfe-66d58c95adf1",
   "metadata": {},
   "outputs": [
    {
     "name": "stdout",
     "output_type": "stream",
     "text": [
      "['Hello', 'Python']\n"
     ]
    }
   ],
   "source": [
    "# Example 2: Filter short words\n",
    "words = [\"Hi\", \"Hello\", \"Python\", \"Go\"]\n",
    "long_words = list(filter(lambda w: len(w) > 2, words))\n",
    "print(long_words)"
   ]
  },
  {
   "cell_type": "code",
   "execution_count": 61,
   "id": "306254bf-2617-4887-9404-a9f494658b24",
   "metadata": {},
   "outputs": [
    {
     "name": "stdout",
     "output_type": "stream",
     "text": [
      "[3, 8]\n"
     ]
    }
   ],
   "source": [
    "\n",
    "# Example 3: Positive numbers\n",
    "numbers = [-5, 0, 3, -1, 8]\n",
    "positive = list(filter(lambda x: x > 0, numbers))\n",
    "print(positive)"
   ]
  },
  {
   "cell_type": "code",
   "execution_count": 62,
   "id": "0816c418-5c99-4026-8a0e-058620ea30b1",
   "metadata": {},
   "outputs": [
    {
     "name": "stdout",
     "output_type": "stream",
     "text": [
      "[1, 'Python', [1, 2]]\n"
     ]
    }
   ],
   "source": [
    "# Example 4: Filter truthy values\n",
    "values = [0, 1 , \"\", \"Python\", [], [1,2]]\n",
    "truthy = list(filter(None, values))\n",
    "print(truthy)"
   ]
  },
  {
   "cell_type": "code",
   "execution_count": 63,
   "id": "b101fe32-60e3-40e9-b163-1a3972da348a",
   "metadata": {},
   "outputs": [
    {
     "name": "stdout",
     "output_type": "stream",
     "text": [
      "['a', 'e', 'i', 'o']\n"
     ]
    }
   ],
   "source": [
    "# Example 5: Filter based on custom function\n",
    "def is_vowels(ch):\n",
    "    return ch.lower() in \"aeiou\"\n",
    "letters = [\"a\", \"b\", \"c\", \"d\", \"e\", \"f\", \"g\", \"i\", \"o\"]\n",
    "vowels = list(filter(is_vowels, letters))\n",
    "print(vowels)"
   ]
  },
  {
   "cell_type": "code",
   "execution_count": 66,
   "id": "3ae4398e-1b00-4cf5-adbb-1a6b2415f1d9",
   "metadata": {},
   "outputs": [
    {
     "data": {
      "text/plain": [
       "True"
      ]
     },
     "execution_count": 66,
     "metadata": {},
     "output_type": "execute_result"
    }
   ],
   "source": [
    "is_vowels(\"a\")"
   ]
  },
  {
   "cell_type": "code",
   "execution_count": 67,
   "id": "eb587ebe-5871-45bd-b372-bd3ae33672b0",
   "metadata": {},
   "outputs": [
    {
     "data": {
      "text/plain": [
       "False"
      ]
     },
     "execution_count": 67,
     "metadata": {},
     "output_type": "execute_result"
    }
   ],
   "source": [
    "is_vowels(\"b\")"
   ]
  },
  {
   "cell_type": "code",
   "execution_count": 68,
   "id": "b1a7ebba-da7e-4597-b6fb-9212579ac043",
   "metadata": {},
   "outputs": [
    {
     "data": {
      "text/plain": [
       "True"
      ]
     },
     "execution_count": 68,
     "metadata": {},
     "output_type": "execute_result"
    }
   ],
   "source": [
    "is_vowels(\"i\")"
   ]
  },
  {
   "cell_type": "markdown",
   "id": "00347ac0-16ee-45a7-b4c8-050be84f544d",
   "metadata": {},
   "source": [
    "### 🔹 5️⃣ sorted() Function\n",
    "\n",
    "- sorted() function kisi **iterable(list, tuple, set, dict....)** ke elements ko **sorted (ascending/descending)** order mein return karta hai, bina original data change karne ke."
   ]
  },
  {
   "cell_type": "code",
   "execution_count": 81,
   "id": "b0eae65d-f43f-4508-89b8-c7745ad58876",
   "metadata": {},
   "outputs": [
    {
     "name": "stdout",
     "output_type": "stream",
     "text": [
      "[1, 2, 3, 4, 5, 6, 7, 8, 9, 10]\n",
      "[10, 20, 30, 40, 50, 60, 70, 80, 90, 100]\n"
     ]
    }
   ],
   "source": [
    "# Example 1: Sort list of numbers\n",
    "nums = [1, 8, 5, 2, 7, 9,6, 10, 3, 4]\n",
    "print(sorted(nums))\n",
    "\n",
    "nums1 = [10, 100, 50, 80, 90, 20, 30, 40, 70, 60]\n",
    "print(sorted(nums1))"
   ]
  },
  {
   "cell_type": "code",
   "execution_count": 82,
   "id": "b781b3b7-01e9-46c0-8f51-c0ff88a87de1",
   "metadata": {},
   "outputs": [
    {
     "name": "stdout",
     "output_type": "stream",
     "text": [
      "['adil', 'aliya', 'ameen', 'amen', 'mariyam', 'roman']\n"
     ]
    }
   ],
   "source": [
    "# Example 2: Sort strings alphabetically\n",
    "names = [\"adil\", \"aliya\", \"mariyam\", \"amen\", \"ameen\", \"roman\"]\n",
    "print(sorted(names))"
   ]
  },
  {
   "cell_type": "code",
   "execution_count": 84,
   "id": "56d819f2-c7ea-4df4-898a-661d40808ab2",
   "metadata": {},
   "outputs": [
    {
     "name": "stdout",
     "output_type": "stream",
     "text": [
      "[100, 90, 80, 70, 60, 50, 40, 30, 20, 10]\n",
      "[10, 9, 8, 7, 6, 5, 4, 3, 2, 1]\n"
     ]
    }
   ],
   "source": [
    "# Example 3: Descending order\n",
    "num = [10, 20, 30, 40, 50, 60, 70, 80, 90, 100]\n",
    "print(sorted(num, reverse=True))\n",
    "\n",
    "num1 = [1,2,3,4,5,6, 7,8, 9, 10]\n",
    "print(sorted(num1, reverse = True))"
   ]
  },
  {
   "cell_type": "code",
   "execution_count": 87,
   "id": "22ec3ba2-a46c-4665-b3c8-73e6e3823d12",
   "metadata": {},
   "outputs": [
    {
     "name": "stdout",
     "output_type": "stream",
     "text": [
      "['is', 'Python', 'awesome', 'leanguage']\n"
     ]
    }
   ],
   "source": [
    "# Example 4: Sort by string length\n",
    "words = [\"Python\", \"is\", \"awesome\" , \"leanguage\"]\n",
    "print(sorted(words, key=len))"
   ]
  },
  {
   "cell_type": "code",
   "execution_count": 89,
   "id": "10b16840-3ec1-4712-9135-839623a6316b",
   "metadata": {},
   "outputs": [
    {
     "name": "stdout",
     "output_type": "stream",
     "text": [
      "['name1', 'name2', 'name3']\n"
     ]
    }
   ],
   "source": [
    "# Example 5: Sort dictionary keys\n",
    "data = {\"name3\": 20, \"name1\": 18, \"name2\": 30}\n",
    "print(sorted(data))"
   ]
  },
  {
   "cell_type": "markdown",
   "id": "27af489e-1ac1-4a2b-bbb5-5f19a4a1d1f7",
   "metadata": {},
   "source": [
    "### 🔹 6️⃣ reversed() Function\n",
    "\n",
    "- reversed() function kisi **iterable(list,tuple, set,dict)** ke **elements** ko **reverse order** mein **return** karta hai.\n",
    "- Ye ek **iterator** deta hai jise list ya tuple mein convert kar sakte hain.\n"
   ]
  },
  {
   "cell_type": "code",
   "execution_count": 92,
   "id": "24e59145-2149-4123-9062-19a723288b6b",
   "metadata": {},
   "outputs": [
    {
     "name": "stdout",
     "output_type": "stream",
     "text": [
      "[5, 4, 3, 2, 1]\n"
     ]
    }
   ],
   "source": [
    "nums = [1, 2, 3, 4, 5]\n",
    "print(list(reversed(nums)))"
   ]
  },
  {
   "cell_type": "code",
   "execution_count": 93,
   "id": "4ba22758-97f9-4f90-aeb8-1e1c72271433",
   "metadata": {},
   "outputs": [
    {
     "name": "stdout",
     "output_type": "stream",
     "text": [
      "nohtyP\n"
     ]
    }
   ],
   "source": [
    "text = \"Python\"\n",
    "print(\"\".join(reversed(text)))"
   ]
  },
  {
   "cell_type": "code",
   "execution_count": 94,
   "id": "80a5c6e9-c26f-487f-9803-4f50ddbd24b6",
   "metadata": {},
   "outputs": [
    {
     "name": "stdout",
     "output_type": "stream",
     "text": [
      "(30, 20, 10)\n"
     ]
    }
   ],
   "source": [
    "t = (10, 20, 30)\n",
    "print(tuple(reversed(t)))"
   ]
  },
  {
   "cell_type": "code",
   "execution_count": 95,
   "id": "e00d426c-153e-4873-bd40-e4d620856d2e",
   "metadata": {},
   "outputs": [
    {
     "name": "stdout",
     "output_type": "stream",
     "text": [
      "o l l e H "
     ]
    }
   ],
   "source": [
    "for ch in reversed(\"Hello\"):\n",
    "    print(ch, end=\" \")"
   ]
  },
  {
   "cell_type": "code",
   "execution_count": 96,
   "id": "9ab7d50f-0def-4f5e-8f77-f089737c30e2",
   "metadata": {},
   "outputs": [
    {
     "name": "stdout",
     "output_type": "stream",
     "text": [
      "['Roman', 'Mariyam', 'Amen', 'Ameen', 'Aliya', 'Adeel']\n"
     ]
    }
   ],
   "source": [
    "names = [\"Adeel\", \"Aliya\", \"Mariyam\", \"Amen\", \"Ameen\", \"Roman\"]\n",
    "print(list(reversed(sorted(names))))"
   ]
  },
  {
   "cell_type": "markdown",
   "id": "6d4a6228-96ca-46f6-ac91-43d2781ce480",
   "metadata": {},
   "source": [
    "## ✅ Summary\n",
    "\n",
    "- **Iteration** aur **sequence control functions** humein data ke sath **efficiently** kaam karne ke tools dete hain.\n",
    "- Ye functions **loops** ko **simple, readable** aur **performance-friendly** banate hain.\n",
    "- Unka sahi use code ko powerful aur pythonic banata hai.\n",
    "\n"
   ]
  },
  {
   "cell_type": "markdown",
   "id": "7b16b300-0b52-4347-bd19-0ecdd344cb9c",
   "metadata": {},
   "source": [
    "---------------------------------------------------------------------------------"
   ]
  },
  {
   "cell_type": "markdown",
   "id": "e14a45ed-0aa8-4712-87af-a7d1cc58dba1",
   "metadata": {},
   "source": [
    "# Math / Counting Support  Functions in Python\n",
    "- sum() \n",
    "- max() \n",
    "- min()\n",
    "- abs()\n",
    "- round()\n",
    "\n",
    "\n",
    "- Python mein **mathematical aur counting** functions **simple calculations** aur **number handling** ke liye use hote hain.  \n",
    "- Ye functions humein **addition, comparison, rounding, aur absolute value** jaise operations ko asaani se **perform** karne ki facility dete hain.\n",
    "\n",
    "Is section mein hum seekhenge:  \n",
    "`sum()`, `max()`, `min()`, `abs()`, `round()`\n",
    "\n"
   ]
  },
  {
   "cell_type": "markdown",
   "id": "9d4e937b-2f48-4d07-bc9f-9235d1b5a7fc",
   "metadata": {},
   "source": [
    "\n",
    "## 🔹 1️⃣ `sum()` Function\n",
    "\n",
    "\n",
    "`sum()` function kisi **iterable (list, tuple, set)** ke saare numeric elements ka **total (addition)** return karta hai.  \n",
    "Ye optional `start` parameter bhi leta hai jisse aap initial value set kar sakte hain.\n"
   ]
  },
  {
   "cell_type": "code",
   "execution_count": 1,
   "id": "9a3e3440-c086-4002-8ece-795daf7521ba",
   "metadata": {},
   "outputs": [
    {
     "name": "stdout",
     "output_type": "stream",
     "text": [
      "150\n",
      "1500\n"
     ]
    }
   ],
   "source": [
    "# Example 1: List ke numbers ka sum\n",
    "num1 = [10, 20, 30, 40, 50]\n",
    "print(sum(num1))\n",
    "\n",
    "num2 = [100, 200, 300, 400, 500]\n",
    "print(sum(num2))"
   ]
  },
  {
   "cell_type": "code",
   "execution_count": 4,
   "id": "090ccaf0-6016-4dee-8ce0-9f6a86e42518",
   "metadata": {},
   "outputs": [
    {
     "name": "stdout",
     "output_type": "stream",
     "text": [
      "55\n",
      "550\n",
      "5500\n"
     ]
    }
   ],
   "source": [
    "# Example 2: Tuple ka sum\n",
    "t1 = (1, 2, 3, 4, 5, 6 ,7, 8 ,9, 10)\n",
    "print(sum(t1))\n",
    "\n",
    "t2 = (10, 20, 30, 40, 50, 60, 70, 80, 90, 100)\n",
    "print(sum(t2))\n",
    "\n",
    "t3 = (100, 200, 300, 400, 500, 600, 700, 800, 900, 1000)\n",
    "print(sum(t3))"
   ]
  },
  {
   "cell_type": "code",
   "execution_count": 6,
   "id": "fb0fc894-e06f-45c0-8b14-189c9d13a58c",
   "metadata": {},
   "outputs": [
    {
     "name": "stdout",
     "output_type": "stream",
     "text": [
      "25\n"
     ]
    }
   ],
   "source": [
    "# Example 3: Sum with start value\n",
    "print(sum([1, 2, 3, 4, 5], 10))"
   ]
  },
  {
   "cell_type": "code",
   "execution_count": 11,
   "id": "979be96f-2ffe-4374-972f-29df30269e57",
   "metadata": {},
   "outputs": [
    {
     "name": "stdout",
     "output_type": "stream",
     "text": [
      "0\n"
     ]
    }
   ],
   "source": [
    "# Example 4: Empty list\n",
    "print(sum([]))"
   ]
  },
  {
   "cell_type": "code",
   "execution_count": 14,
   "id": "06d8b52c-363f-4c87-969f-5db61c0c25e3",
   "metadata": {},
   "outputs": [
    {
     "name": "stdout",
     "output_type": "stream",
     "text": [
      "30\n"
     ]
    }
   ],
   "source": [
    "# Example 5: Filtered sum (only even numbers)\n",
    "nums = [1, 2, 3, 4, 5, 6, 7, 8, 9, 10]\n",
    "even_sum = sum([x for x in nums if x % 2 == 0])\n",
    "print(even_sum)"
   ]
  },
  {
   "cell_type": "markdown",
   "id": "13882411-b0e4-46fe-ab98-bf45450d87a9",
   "metadata": {},
   "source": [
    "### 🔹 2️⃣ max() Function\n",
    "\n",
    "- max() function kisi **iterable** ke **sabse bade (maximum) element** ko return karta hai.\n",
    "- Iska use **strings, numbers, ya multiple arguments** ke sath bhi ho sakta hai."
   ]
  },
  {
   "cell_type": "code",
   "execution_count": 17,
   "id": "4c9c52a8-1fb8-4840-8fee-34bbea91db50",
   "metadata": {},
   "outputs": [
    {
     "name": "stdout",
     "output_type": "stream",
     "text": [
      "51\n",
      "100\n",
      "10\n"
     ]
    }
   ],
   "source": [
    "\n",
    "# Example 1: List ka maximum\n",
    "num1 = [23, 51, 22, 25, 24, 26, 27, 29]\n",
    "print(max(num1))\n",
    "\n",
    "num2 = [10,  90 , 20, 30, 40, 80, 50, 60, 70, 100]\n",
    "print(max(num2))\n",
    "\n",
    "num3 = [1, 2, 3, 4, 5, 6, 7, 8, 9 , 10]\n",
    "print(max(num3))"
   ]
  },
  {
   "cell_type": "code",
   "execution_count": 18,
   "id": "b8d8bcc6-0ab4-458f-b2d5-23f83d51203b",
   "metadata": {},
   "outputs": [
    {
     "name": "stdout",
     "output_type": "stream",
     "text": [
      "sher khan\n"
     ]
    }
   ],
   "source": [
    "# Example 2: Strings mein alphabetically max\n",
    "\n",
    "names = [\"kaka\", \"ramzan\", \"mudasir\", \"bilal\", \"sher khan\"]\n",
    "print(max(names))"
   ]
  },
  {
   "cell_type": "code",
   "execution_count": 19,
   "id": "a3a3b41c-bd34-4906-bd8a-962818bb0e25",
   "metadata": {},
   "outputs": [
    {
     "name": "stdout",
     "output_type": "stream",
     "text": [
      "500\n"
     ]
    }
   ],
   "source": [
    "# Example 3: Multiple arguments ke sath\n",
    "print(max(10, 100,500, 20, 80))"
   ]
  },
  {
   "cell_type": "code",
   "execution_count": 10,
   "id": "73d6e44f-1991-4ad0-9546-c8420d94e176",
   "metadata": {},
   "outputs": [
    {
     "name": "stdout",
     "output_type": "stream",
     "text": [
      "Machine Learning\n"
     ]
    }
   ],
   "source": [
    "# Example 4: Key parameter use karna\n",
    "words = [\"AI\", \"Python\", \"Pandas\", \"Numpy\", \"Machine Learning\", \"Deep Learning\"]\n",
    "print(max(words, key=len))"
   ]
  },
  {
   "cell_type": "code",
   "execution_count": 14,
   "id": "b531ed8e-693e-44df-ba76-3cfbcfc23831",
   "metadata": {},
   "outputs": [
    {
     "name": "stdout",
     "output_type": "stream",
     "text": [
      "99\n"
     ]
    }
   ],
   "source": [
    "# Example 5: Dictionary values ka max\n",
    "marks = {\"Sher Khan\": 99, \"Ahmed\": 80, \"Kamran\": 79}\n",
    "print(max(marks.values()))"
   ]
  },
  {
   "cell_type": "code",
   "execution_count": 15,
   "id": "30ec19a2-7e44-4bac-8ed2-57869ec380cd",
   "metadata": {},
   "outputs": [
    {
     "name": "stdout",
     "output_type": "stream",
     "text": [
      "99\n"
     ]
    }
   ],
   "source": [
    "marks = {80, 50, 99, 88, 62}\n",
    "print(max(marks))"
   ]
  },
  {
   "cell_type": "markdown",
   "id": "ee87a1c3-eb92-4954-9f38-4f856a163ba7",
   "metadata": {},
   "source": [
    "### 🔹 3️⃣ min() Function\n",
    "\n",
    "- min() function kisi **iterable(list, tuple, set, dict)** ke **sabse chhote (minimum) element** ko return karta hai.\n",
    "Ye bhi max() jaise hi kaam karta hai — bas smallest value deta hai.\n",
    "\n",
    "\n"
   ]
  },
  {
   "cell_type": "code",
   "execution_count": 16,
   "id": "5f3d39fe-b189-4fd5-983a-3bd549daf932",
   "metadata": {},
   "outputs": [
    {
     "name": "stdout",
     "output_type": "stream",
     "text": [
      "20\n",
      "1\n",
      "390231348902389\n"
     ]
    }
   ],
   "source": [
    "# Example 1: List ka minimum\n",
    "num1 = [20, 80, 100, 30, 40, 50, 70]\n",
    "print(min(num1))\n",
    "\n",
    "num2 = [10, 3, 5, 8, 9, 2, 1, 4 , 6, 7]\n",
    "print(min(num2))\n",
    "\n",
    "num3 = [390239348902389, 390239348902319, 390239348902229, 390231348902389 ]\n",
    "print(min(num3))"
   ]
  },
  {
   "cell_type": "code",
   "execution_count": 18,
   "id": "abc06040-ede8-4184-95a8-77dd417c0b51",
   "metadata": {},
   "outputs": [
    {
     "name": "stdout",
     "output_type": "stream",
     "text": [
      "amen\n"
     ]
    }
   ],
   "source": [
    "# Example 2: Strings alphabetically\n",
    "names = [\"adeel\", \"aliya\", \"mariyam\", \"amen\", \"ameen\", \"roman\"]\n",
    "print(min(names, key=len))"
   ]
  },
  {
   "cell_type": "code",
   "execution_count": 19,
   "id": "7ffadafa-eb72-4318-8983-512a11bf337f",
   "metadata": {},
   "outputs": [
    {
     "name": "stdout",
     "output_type": "stream",
     "text": [
      "10\n"
     ]
    }
   ],
   "source": [
    "# Example 3: Multiple arguments ke sath\n",
    "print(min(30, 10, 80, 100, 70, 20, 60))"
   ]
  },
  {
   "cell_type": "code",
   "execution_count": 20,
   "id": "445ec909-27b5-4916-b1b1-148eaa7cf64f",
   "metadata": {},
   "outputs": [
    {
     "name": "stdout",
     "output_type": "stream",
     "text": [
      "Machine learning\n"
     ]
    }
   ],
   "source": [
    "# Example 4: Key parameter ke sath\n",
    "words = [\"Python\", \"Pandas\", \"Numpy\", \"Matplotlib\", \"Seaborn\", \"Machine learning\", \"sklearn\", \"pytourch\", \"deep learning\"]\n",
    "print(min(words))"
   ]
  },
  {
   "cell_type": "code",
   "execution_count": 26,
   "id": "86fc77db-1be9-4768-ac55-3f56f692db2d",
   "metadata": {},
   "outputs": [
    {
     "name": "stdout",
     "output_type": "stream",
     "text": [
      "79\n"
     ]
    }
   ],
   "source": [
    "# Example 5: Dictionary values ka min\n",
    "marks = {\"ali\": 88, \"sara\": 92, \"usman\": 79}\n",
    "print(min(marks.values()))"
   ]
  },
  {
   "cell_type": "markdown",
   "id": "3936b263-6552-4b00-b624-440c0c54443b",
   "metadata": {},
   "source": [
    "### 🔹 4️⃣ abs() Function\n",
    "\n",
    "- abs() function kisi **number** ki **absolute (positive) value** return karta hai.\n",
    "- Yani yeh **negative numbers** ko **positive** bana deta hai."
   ]
  },
  {
   "cell_type": "code",
   "execution_count": 28,
   "id": "eb730987-17ed-49ae-bba5-0ea0c4b5720b",
   "metadata": {},
   "outputs": [
    {
     "name": "stdout",
     "output_type": "stream",
     "text": [
      "8\n",
      "10\n",
      "100\n",
      "20\n",
      "60\n"
     ]
    }
   ],
   "source": [
    "# Example 1: Positive number ka abs\n",
    "print(abs(-8))\n",
    "print(abs(-10))\n",
    "print(abs(-100))\n",
    "print(abs(-20))\n",
    "print(abs(-60))"
   ]
  },
  {
   "cell_type": "code",
   "execution_count": 29,
   "id": "f1d9eed5-3f78-48a1-b9e7-d4f661e28f82",
   "metadata": {},
   "outputs": [
    {
     "name": "stdout",
     "output_type": "stream",
     "text": [
      "25\n"
     ]
    }
   ],
   "source": [
    "# Example 2: Negative number ka abs\n",
    "print(abs(-25))"
   ]
  },
  {
   "cell_type": "code",
   "execution_count": 30,
   "id": "5a65d32b-56c1-4293-9343-bc645175f632",
   "metadata": {},
   "outputs": [
    {
     "name": "stdout",
     "output_type": "stream",
     "text": [
      "2.5\n",
      "20.5\n",
      "10.6\n",
      "80.5\n"
     ]
    }
   ],
   "source": [
    "# Example 3: Floating point number\n",
    "print(abs(-2.5))\n",
    "print(abs(-20.5))\n",
    "print(abs(-10.6))\n",
    "print(abs(-80.5))"
   ]
  },
  {
   "cell_type": "code",
   "execution_count": 33,
   "id": "7764601f-3c9f-46ad-aef8-1d858b5949f7",
   "metadata": {},
   "outputs": [
    {
     "name": "stdout",
     "output_type": "stream",
     "text": [
      "5\n"
     ]
    }
   ],
   "source": [
    "# Example 4: Difference between two numbers\n",
    "\n",
    "a, b = 10, 5\n",
    "print(abs(a-b))"
   ]
  },
  {
   "cell_type": "code",
   "execution_count": 34,
   "id": "caa84e0b-04d7-4fba-81b3-2f427269167b",
   "metadata": {},
   "outputs": [
    {
     "name": "stdout",
     "output_type": "stream",
     "text": [
      "30.4138126514911\n"
     ]
    }
   ],
   "source": [
    "# Example 5: Complex number ka abs\n",
    "z = -30 + 5j\n",
    "print(abs(z))\n"
   ]
  },
  {
   "cell_type": "markdown",
   "id": "f6a39be2-089e-41a5-bf98-35ee9b77bfc0",
   "metadata": {},
   "source": [
    "### 🔹 5️⃣ round() Function\n",
    "\n",
    "- round() function kisi **number** ko **nearest integer** ya **specified decimal** places tak **round** karta hai.\n",
    "- Ye mostly **financial** ya **decimal calculations** mein use hota hai."
   ]
  },
  {
   "cell_type": "code",
   "execution_count": 40,
   "id": "8305e902-9ae2-4f59-8931-ad030fd3d591",
   "metadata": {},
   "outputs": [
    {
     "name": "stdout",
     "output_type": "stream",
     "text": [
      "4\n",
      "10\n",
      "6\n",
      "8\n"
     ]
    }
   ],
   "source": [
    "# Example 1: Simple rounding\n",
    "print(round(3.5))\n",
    "print(round(10.5))\n",
    "print(round(5.5))\n",
    "print(round(7.5))"
   ]
  },
  {
   "cell_type": "code",
   "execution_count": 36,
   "id": "d3130a97-5047-4862-aa89-90b1a434e0c8",
   "metadata": {},
   "outputs": [
    {
     "name": "stdout",
     "output_type": "stream",
     "text": [
      "3\n"
     ]
    }
   ],
   "source": [
    "# Example 2: Down rounding\n",
    "print(round(3.3))"
   ]
  },
  {
   "cell_type": "code",
   "execution_count": 41,
   "id": "8cc483e7-dcab-489b-8739-f1d1600fadc5",
   "metadata": {},
   "outputs": [
    {
     "name": "stdout",
     "output_type": "stream",
     "text": [
      "3.14\n"
     ]
    }
   ],
   "source": [
    "# Example 3: Decimal places specify karna\n",
    "print(round(3.14159, 2))"
   ]
  },
  {
   "cell_type": "code",
   "execution_count": 42,
   "id": "09e3043f-6891-4854-8404-6f2a5eb38c8b",
   "metadata": {},
   "outputs": [
    {
     "name": "stdout",
     "output_type": "stream",
     "text": [
      "-3\n"
     ]
    }
   ],
   "source": [
    "# Example 4: Negative numbers rounding\n",
    "print(round(-2.8))"
   ]
  },
  {
   "cell_type": "code",
   "execution_count": 43,
   "id": "d98ebd73-259b-44de-8c15-1e0fcf71ecbe",
   "metadata": {},
   "outputs": [
    {
     "name": "stdout",
     "output_type": "stream",
     "text": [
      "40.987\n"
     ]
    }
   ],
   "source": [
    "# Example 5: Financial rounding example\n",
    "price = 40.987\n",
    "print(round(price, 7))"
   ]
  },
  {
   "cell_type": "markdown",
   "id": "c41d7af1-5d9a-4b0d-8083-6ce36faa9fce",
   "metadata": {},
   "source": [
    "\n",
    "### ✅ Summary\n",
    "\n",
    "- Math aur counting related functions Python ke core part hain.\n",
    "- Ye calculations ko simple, readable aur efficient banate hain.\n",
    "- sum() \n",
    "- max() \n",
    "- min()  \n",
    "- abs()  - \n",
    "- round() \n",
    "En sab ka  sahi use se hum data **analysis** aur **numeric computations** easily kar sakte hain."
   ]
  },
  {
   "cell_type": "markdown",
   "id": "d4fdb4c1-1eda-4de1-b4c1-e3e4bc4af366",
   "metadata": {},
   "source": [
    "----------------------------------------------------------------------------------------------"
   ]
  },
  {
   "cell_type": "markdown",
   "id": "e95c8592-aa77-441c-bba4-334809f77e4c",
   "metadata": {},
   "source": [
    "# 🧩 Object / Type Checking Functions in Python\n",
    "\n",
    "- Python mein **object** aur **type** checking functions humein **data types** aur **objects** ke baare mein **information** provide karte hain.  \n",
    "- Ye functions **programming** mein **debugging**, **validation** aur **dynamic type handling** ke liye kaafi useful hote hain.\n",
    "\n",
    "- Is section mein hum seekhenge:  \n",
    "`type()`, `isinstance()`, `id()`\n"
   ]
  },
  {
   "cell_type": "markdown",
   "id": "96fa6b3e-a8b5-49f4-92c1-95ebb3a0d3ad",
   "metadata": {},
   "source": [
    "### 🔹 1️⃣ `type()` Function\n",
    "  \n",
    "`type()` function kisi bhi object ka **data type** return karta hai.  \n",
    "Ye humein runtime par pata lagane mein madad karta hai ki object ka type kya hai.\n"
   ]
  },
  {
   "cell_type": "code",
   "execution_count": 45,
   "id": "399264f7-7f65-4050-b4a7-62c380289c9d",
   "metadata": {},
   "outputs": [
    {
     "name": "stdout",
     "output_type": "stream",
     "text": [
      "<class 'int'>\n"
     ]
    }
   ],
   "source": [
    "# Example 1: Integer type\n",
    "num = 100\n",
    "print(type(num))"
   ]
  },
  {
   "cell_type": "code",
   "execution_count": 46,
   "id": "e4b77b70-83b7-4353-9d9c-a597cf6fcefb",
   "metadata": {},
   "outputs": [
    {
     "name": "stdout",
     "output_type": "stream",
     "text": [
      "<class 'str'>\n"
     ]
    }
   ],
   "source": [
    "# Example 2: String type\n",
    "word = \"Python\"\n",
    "print(type(word))"
   ]
  },
  {
   "cell_type": "code",
   "execution_count": 47,
   "id": "62ce4f67-c58d-4357-b597-9cad21d046f8",
   "metadata": {},
   "outputs": [
    {
     "name": "stdout",
     "output_type": "stream",
     "text": [
      "<class 'list'>\n"
     ]
    }
   ],
   "source": [
    "# Example 3: List type\n",
    "fruits = [\"apple\", \"banana\", \"cherry\", \"orange\", \"water melon\"]\n",
    "print(type(fruits))"
   ]
  },
  {
   "cell_type": "code",
   "execution_count": 48,
   "id": "943574eb-490b-461c-b91b-becdb54d6b5e",
   "metadata": {},
   "outputs": [
    {
     "name": "stdout",
     "output_type": "stream",
     "text": [
      "<class 'bool'>\n"
     ]
    }
   ],
   "source": [
    "# Example 4: Boolean type\n",
    "is_valid = True\n",
    "print(type(is_valid))"
   ]
  },
  {
   "cell_type": "code",
   "execution_count": 49,
   "id": "6ed98239-7998-4acd-9b4d-73b3f71c0ce1",
   "metadata": {},
   "outputs": [
    {
     "name": "stdout",
     "output_type": "stream",
     "text": [
      "<class 'tuple'>\n"
     ]
    }
   ],
   "source": [
    "# Example 5: Tuple type\n",
    "numbers = (10, 20, 30, 40, 50)\n",
    "print(type(numbers))"
   ]
  },
  {
   "cell_type": "code",
   "execution_count": 50,
   "id": "cb7c160a-b497-438f-9579-838cc10b76a3",
   "metadata": {},
   "outputs": [
    {
     "name": "stdout",
     "output_type": "stream",
     "text": [
      "<class 'dict'>\n"
     ]
    }
   ],
   "source": [
    "marks = {\"sher khan\": 88, \"sajid\": 99, \"suhail\": 30, \"ahmed\": 100}\n",
    "print(type(marks))"
   ]
  },
  {
   "cell_type": "code",
   "execution_count": 51,
   "id": "c2bff473-c6ea-4e01-9c18-aa527b700c86",
   "metadata": {},
   "outputs": [
    {
     "name": "stdout",
     "output_type": "stream",
     "text": [
      "<class 'set'>\n"
     ]
    }
   ],
   "source": [
    "skills = {\"Python\", \"Numpy\", \"Pandas\", \"Matplotlib\", \"Numpy\", \"sklearn\", \"Python\"}\n",
    "print(type(skills))"
   ]
  },
  {
   "cell_type": "code",
   "execution_count": 53,
   "id": "9056b16e-4956-489e-afb4-7e2b82820e1c",
   "metadata": {},
   "outputs": [
    {
     "name": "stdout",
     "output_type": "stream",
     "text": [
      "<class 'frozenset'>\n"
     ]
    }
   ],
   "source": [
    "marks = frozenset(\"Math\")\n",
    "print(type(marks))"
   ]
  },
  {
   "cell_type": "markdown",
   "id": "46dea912-874f-4bb8-ac16-799782bb4882",
   "metadata": {},
   "source": [
    "### 🔹 2️⃣ isinstance() Function\n",
    "\n",
    "- isinstance() function **check** karta hai keh kya **object** ek **specified type** ka hai.\n",
    "- Ye True ya False return karta hai.\n"
   ]
  },
  {
   "cell_type": "code",
   "execution_count": 60,
   "id": "8f746404-17b6-4e1a-bd3c-0900d8293157",
   "metadata": {},
   "outputs": [
    {
     "name": "stdout",
     "output_type": "stream",
     "text": [
      "True\n",
      "True\n",
      "True\n",
      "True\n",
      "False\n"
     ]
    }
   ],
   "source": [
    "#  Example 1: Integer check\n",
    "num = 20\n",
    "print(isinstance(num, int))\n",
    "\n",
    "num1 = 300\n",
    "print(isinstance(num1, int))\n",
    "\n",
    "num3 = 804\n",
    "print(isinstance(num3, int))\n",
    "\n",
    "num4 = 352\n",
    "print(isinstance(num4, int))\n",
    "\n",
    "num5 = 30\n",
    "print(isinstance(num5,float)) "
   ]
  },
  {
   "cell_type": "code",
   "execution_count": 64,
   "id": "dc3790e2-1419-4ff5-aa44-279ba3c6a32e",
   "metadata": {},
   "outputs": [
    {
     "name": "stdout",
     "output_type": "stream",
     "text": [
      "True\n",
      "True\n"
     ]
    }
   ],
   "source": [
    "# Example 2: String check\n",
    "favorite_leanguage = \"Python\"\n",
    "print(isinstance(favorite_leanguage, str))\n",
    "\n",
    "name = \"Sher Khan\"\n",
    "print(isinstance(name, str))"
   ]
  },
  {
   "cell_type": "code",
   "execution_count": 66,
   "id": "6d29d7eb-6156-481a-97e2-aeca3d5d014b",
   "metadata": {},
   "outputs": [
    {
     "name": "stdout",
     "output_type": "stream",
     "text": [
      "True\n",
      "True\n",
      "True\n",
      "True\n"
     ]
    }
   ],
   "source": [
    "# Example 3: Multiple type check\n",
    "value1 = 3.15\n",
    "print(isinstance(values, (int, float)))\n",
    "\n",
    "value2 = 100\n",
    "print(isinstance(value2, (int, float)))\n",
    "\n",
    "value3 = 20 + 3j\n",
    "print(isinstance(value3, (complex, int)))\n",
    "\n",
    "word = \"Python\"\n",
    "print(isinstance(word, (str, int)))\n",
    "\n"
   ]
  },
  {
   "cell_type": "code",
   "execution_count": 67,
   "id": "7ef96d03-f7f5-471f-aca0-1dcdcb7a6a7e",
   "metadata": {},
   "outputs": [
    {
     "name": "stdout",
     "output_type": "stream",
     "text": [
      "True\n"
     ]
    }
   ],
   "source": [
    "# Example 4: List check\n",
    "\n",
    "items = [\"fruits\", \"milk\", \"bread\", \"butter\", \"suger\", \"rise\"]\n",
    "print(isinstance(items, list))"
   ]
  },
  {
   "cell_type": "code",
   "execution_count": 68,
   "id": "ccaa32e8-4b64-4113-9797-ee2833f7d056",
   "metadata": {},
   "outputs": [
    {
     "name": "stdout",
     "output_type": "stream",
     "text": [
      "True\n"
     ]
    }
   ],
   "source": [
    "# Example 5: Boolean check\n",
    "is_valid = True\n",
    "print(isinstance(is_valid, bool))"
   ]
  },
  {
   "cell_type": "markdown",
   "id": "c66666c5-370f-47e4-87ec-812e0820b358",
   "metadata": {},
   "source": [
    "### 🔹 3️⃣ id() Function\n",
    "\n",
    "- id() function kisi **object** ka **unique identity / memory address** return karta hai.\n",
    "- Ye Python objects ki **internal representation** ke liye useful hai.\n"
   ]
  },
  {
   "cell_type": "code",
   "execution_count": 69,
   "id": "081e3cae-ec93-4a1e-9d4e-71758b458b62",
   "metadata": {},
   "outputs": [
    {
     "name": "stdout",
     "output_type": "stream",
     "text": [
      "9667152\n",
      "123541628416656\n",
      "9668112\n"
     ]
    }
   ],
   "source": [
    "# Example 1: ID of an integer\n",
    "\n",
    "num1 = 10\n",
    "print(id(num1))\n",
    "\n",
    "num2 = 3820\n",
    "print(id(num2))\n",
    "\n",
    "num3 = 40\n",
    "print(id(num3))"
   ]
  },
  {
   "cell_type": "code",
   "execution_count": 73,
   "id": "aa3d8f56-de7e-4186-b413-56321076401d",
   "metadata": {},
   "outputs": [
    {
     "name": "stdout",
     "output_type": "stream",
     "text": [
      "123541637429104\n",
      "123541637448752\n",
      "123542334281536\n"
     ]
    }
   ],
   "source": [
    "# Example 2: ID of a string\n",
    "name = \"sher khan\"\n",
    "print(id(name))\n",
    "\n",
    "skill = \"Data Scienctist\"\n",
    "print(id(skill))\n",
    "\n",
    "fav_leanguage = \"Python\"\n",
    "print(id(fav_leanguage))"
   ]
  },
  {
   "cell_type": "code",
   "execution_count": 74,
   "id": "a61e6008-c45d-4e49-ae74-59d1aaa1445d",
   "metadata": {},
   "outputs": [
    {
     "name": "stdout",
     "output_type": "stream",
     "text": [
      "123541639398848\n"
     ]
    }
   ],
   "source": [
    "\n",
    "# Example 3: ID of a list\n",
    "\n",
    "lst = [10 , 20, 30, 40, 50]\n",
    "print(id(lst))"
   ]
  },
  {
   "cell_type": "code",
   "execution_count": 75,
   "id": "9c9a3b8b-457b-4444-9b3c-2bf45ba7bda4",
   "metadata": {},
   "outputs": [
    {
     "name": "stdout",
     "output_type": "stream",
     "text": [
      "True\n"
     ]
    }
   ],
   "source": [
    "\n",
    "# Example 4: Same object comparison\n",
    "\n",
    "a = [1, 2]\n",
    "b = a\n",
    "print(id(a) == id(b))"
   ]
  },
  {
   "cell_type": "code",
   "execution_count": 76,
   "id": "494932fc-7509-44c8-8f1a-aa488e2902d0",
   "metadata": {},
   "outputs": [
    {
     "name": "stdout",
     "output_type": "stream",
     "text": [
      "False\n"
     ]
    }
   ],
   "source": [
    "# Example 5: Different object with same value\n",
    "\n",
    "x = [10, 20, 30]\n",
    "y = [10, 20, 30]\n",
    "print(id(x) == id(y))"
   ]
  },
  {
   "cell_type": "markdown",
   "id": "18771f22-5c44-4070-b0c0-54746be03024",
   "metadata": {},
   "source": [
    "\n",
    "### ✅ Summary\n",
    "\n",
    "- Object aur type checking functions Python ke liye essential tools hain:\n",
    "\n",
    "- type() se object ka type pata chalta hai\n",
    "\n",
    "- isinstance() se type validation kar sakte hain\n",
    "\n",
    "- id() se object ka unique memory address milta hai\n",
    "\n",
    "- Ye functions debugging, validation, aur dynamic programming mein kaafi useful hote hain."
   ]
  },
  {
   "cell_type": "markdown",
   "id": "94a9da0f-df8e-461a-a920-f9b1e35124cb",
   "metadata": {},
   "source": [
    "-----------------------------------------------------------------------------------------------"
   ]
  },
  {
   "cell_type": "markdown",
   "id": "63196a86-ef83-4ea9-a786-c9b58c71d962",
   "metadata": {},
   "source": [
    "# 🔍 Introspection / Utility Functions in Python\n",
    "\n",
    "- Python mein **introspection** aur **utility functions** humein **objects, variables** aur **environment** ke baare mein **information** provide karte hain.  \n",
    "- Ye **programming, debugging** aur **development** mein kaafi helpful hote hain.\n",
    "\n",
    "Is section mein hum seekhenge:  \n",
    "`dir()`, `help()`, `vars()`, `globals()`, `locals()`\n",
    "\n"
   ]
  },
  {
   "cell_type": "markdown",
   "id": "601fb837-801b-4c94-901a-660bb2d083c2",
   "metadata": {},
   "source": [
    "### 🔹 1️⃣ `dir()` Function\n",
    "\n",
    "`dir()` function kisi object ke **available attributes aur methods** ki list return karta hai.  \n",
    "Agar argument na diya jaye to ye current scope ke variables aur functions ki list deta hai.\n",
    "\n"
   ]
  },
  {
   "cell_type": "code",
   "execution_count": 80,
   "id": "1d43e23e-46fd-4ccd-afe3-dab3af2adeb7",
   "metadata": {},
   "outputs": [
    {
     "name": "stdout",
     "output_type": "stream",
     "text": [
      "['__add__', '__class__', '__contains__', '__delattr__', '__dir__', '__doc__', '__eq__', '__format__', '__ge__', '__getattribute__', '__getitem__', '__getnewargs__', '__getstate__', '__gt__', '__hash__', '__init__', '__init_subclass__', '__iter__', '__le__', '__len__', '__lt__', '__mod__', '__mul__', '__ne__', '__new__', '__reduce__', '__reduce_ex__', '__repr__', '__rmod__', '__rmul__', '__setattr__', '__sizeof__', '__str__', '__subclasshook__', 'capitalize', 'casefold', 'center', 'count', 'encode', 'endswith', 'expandtabs', 'find', 'format', 'format_map', 'index', 'isalnum', 'isalpha', 'isascii', 'isdecimal', 'isdigit', 'isidentifier', 'islower', 'isnumeric', 'isprintable', 'isspace', 'istitle', 'isupper', 'join', 'ljust', 'lower', 'lstrip', 'maketrans', 'partition', 'removeprefix', 'removesuffix', 'replace', 'rfind', 'rindex', 'rjust', 'rpartition', 'rsplit', 'rstrip', 'split', 'splitlines', 'startswith', 'strip', 'swapcase', 'title', 'translate', 'upper', 'zfill']\n"
     ]
    }
   ],
   "source": [
    "# Example 1: Attributes of a string\n",
    "\n",
    "print(dir(\"sher khan\"))\n"
   ]
  },
  {
   "cell_type": "code",
   "execution_count": 82,
   "id": "def00085-5320-4ac8-95c0-5868192884b6",
   "metadata": {},
   "outputs": [
    {
     "name": "stdout",
     "output_type": "stream",
     "text": [
      "Python\n",
      "['__add__', '__class__', '__contains__', '__delattr__', '__dir__', '__doc__', '__eq__', '__format__', '__ge__', '__getattribute__', '__getitem__', '__getnewargs__', '__getstate__', '__gt__', '__hash__', '__init__', '__init_subclass__', '__iter__', '__le__', '__len__', '__lt__', '__mod__', '__mul__', '__ne__', '__new__', '__reduce__', '__reduce_ex__', '__repr__', '__rmod__', '__rmul__', '__setattr__', '__sizeof__', '__str__', '__subclasshook__', 'capitalize', 'casefold', 'center', 'count', 'encode', 'endswith', 'expandtabs', 'find', 'format', 'format_map', 'index', 'isalnum', 'isalpha', 'isascii', 'isdecimal', 'isdigit', 'isidentifier', 'islower', 'isnumeric', 'isprintable', 'isspace', 'istitle', 'isupper', 'join', 'ljust', 'lower', 'lstrip', 'maketrans', 'partition', 'removeprefix', 'removesuffix', 'replace', 'rfind', 'rindex', 'rjust', 'rpartition', 'rsplit', 'rstrip', 'split', 'splitlines', 'startswith', 'strip', 'swapcase', 'title', 'translate', 'upper', 'zfill']\n"
     ]
    }
   ],
   "source": [
    "print(\"Python\")\n",
    "print(dir(\"Python\"))"
   ]
  },
  {
   "cell_type": "code",
   "execution_count": 83,
   "id": "05d492ba-3a49-4791-a8b7-a728679efc17",
   "metadata": {},
   "outputs": [
    {
     "name": "stdout",
     "output_type": "stream",
     "text": [
      "['__add__', '__class__', '__class_getitem__', '__contains__', '__delattr__', '__delitem__', '__dir__', '__doc__', '__eq__', '__format__', '__ge__', '__getattribute__', '__getitem__', '__getstate__', '__gt__', '__hash__', '__iadd__', '__imul__', '__init__', '__init_subclass__', '__iter__', '__le__', '__len__', '__lt__', '__mul__', '__ne__', '__new__', '__reduce__', '__reduce_ex__', '__repr__', '__reversed__', '__rmul__', '__setattr__', '__setitem__', '__sizeof__', '__str__', '__subclasshook__', 'append', 'clear', 'copy', 'count', 'extend', 'index', 'insert', 'pop', 'remove', 'reverse', 'sort']\n"
     ]
    }
   ],
   "source": [
    "# Example 2: Attributes of a list\n",
    "\n",
    "fruits = [\"apple\", \"banana\", \"cherry\"]\n",
    "print(dir(fruits))"
   ]
  },
  {
   "cell_type": "code",
   "execution_count": 85,
   "id": "f20ed0fa-e8ec-45e9-97cb-a6cd9baaa3f4",
   "metadata": {},
   "outputs": [
    {
     "name": "stdout",
     "output_type": "stream",
     "text": [
      "['__add__', '__class__', '__class_getitem__', '__contains__', '__delattr__', '__dir__', '__doc__', '__eq__', '__format__', '__ge__', '__getattribute__', '__getitem__', '__getnewargs__', '__getstate__', '__gt__', '__hash__', '__init__', '__init_subclass__', '__iter__', '__le__', '__len__', '__lt__', '__mul__', '__ne__', '__new__', '__reduce__', '__reduce_ex__', '__repr__', '__rmul__', '__setattr__', '__sizeof__', '__str__', '__subclasshook__', 'count', 'index']\n"
     ]
    }
   ],
   "source": [
    "# Attributes of a Tuple\n",
    "marks = (88, 99, 63, 50, 82)\n",
    "print(dir(marks))"
   ]
  },
  {
   "cell_type": "code",
   "execution_count": 84,
   "id": "5cf98ca9-50cc-49ad-b0e2-52b51e6c1f6c",
   "metadata": {},
   "outputs": [
    {
     "name": "stdout",
     "output_type": "stream",
     "text": [
      "['__class__', '__class_getitem__', '__contains__', '__delattr__', '__delitem__', '__dir__', '__doc__', '__eq__', '__format__', '__ge__', '__getattribute__', '__getitem__', '__getstate__', '__gt__', '__hash__', '__init__', '__init_subclass__', '__ior__', '__iter__', '__le__', '__len__', '__lt__', '__ne__', '__new__', '__or__', '__reduce__', '__reduce_ex__', '__repr__', '__reversed__', '__ror__', '__setattr__', '__setitem__', '__sizeof__', '__str__', '__subclasshook__', 'clear', 'copy', 'fromkeys', 'get', 'items', 'keys', 'pop', 'popitem', 'setdefault', 'update', 'values']\n"
     ]
    }
   ],
   "source": [
    "# Example 3: Attributes of a dictionary\n",
    "\n",
    "marks = {\"sher khan\": 99, \"ibrahim\": 88, \"Kamran\": 70, \"Ahmed\": 62}\n",
    "print(dir(marks))"
   ]
  },
  {
   "cell_type": "code",
   "execution_count": 86,
   "id": "8cd9b2ca-db6c-4479-ac3e-a0282e428a6f",
   "metadata": {},
   "outputs": [
    {
     "name": "stdout",
     "output_type": "stream",
     "text": [
      "['__and__', '__class__', '__class_getitem__', '__contains__', '__delattr__', '__dir__', '__doc__', '__eq__', '__format__', '__ge__', '__getattribute__', '__getstate__', '__gt__', '__hash__', '__iand__', '__init__', '__init_subclass__', '__ior__', '__isub__', '__iter__', '__ixor__', '__le__', '__len__', '__lt__', '__ne__', '__new__', '__or__', '__rand__', '__reduce__', '__reduce_ex__', '__repr__', '__ror__', '__rsub__', '__rxor__', '__setattr__', '__sizeof__', '__str__', '__sub__', '__subclasshook__', '__xor__', 'add', 'clear', 'copy', 'difference', 'difference_update', 'discard', 'intersection', 'intersection_update', 'isdisjoint', 'issubset', 'issuperset', 'pop', 'remove', 'symmetric_difference', 'symmetric_difference_update', 'union', 'update']\n"
     ]
    }
   ],
   "source": [
    "# Attributes of set\n",
    "num = {10, 100, 20, 80, 60, 30}\n",
    "print(dir(num))"
   ]
  },
  {
   "cell_type": "code",
   "execution_count": 87,
   "id": "57fa6dd3-dffb-430a-9403-5c38a5fe5b2b",
   "metadata": {},
   "outputs": [
    {
     "name": "stdout",
     "output_type": "stream",
     "text": [
      "['In', 'Out', '_', '__', '___', '__builtin__', '__builtins__', '__doc__', '__loader__', '__name__', '__package__', '__session__', '__spec__', '_dh', '_i', '_i1', '_i10', '_i11', '_i12', '_i13', '_i14', '_i15', '_i16', '_i17', '_i18', '_i19', '_i2', '_i20', '_i21', '_i22', '_i23', '_i24', '_i25', '_i26', '_i27', '_i28', '_i29', '_i3', '_i30', '_i31', '_i32', '_i33', '_i34', '_i35', '_i36', '_i37', '_i38', '_i39', '_i4', '_i40', '_i41', '_i42', '_i43', '_i44', '_i45', '_i46', '_i47', '_i48', '_i49', '_i5', '_i50', '_i51', '_i52', '_i53', '_i54', '_i55', '_i56', '_i57', '_i58', '_i59', '_i6', '_i60', '_i61', '_i62', '_i63', '_i64', '_i65', '_i66', '_i67', '_i68', '_i69', '_i7', '_i70', '_i71', '_i72', '_i73', '_i74', '_i75', '_i76', '_i77', '_i78', '_i79', '_i8', '_i80', '_i81', '_i82', '_i83', '_i84', '_i85', '_i86', '_i87', '_i9', '_ih', '_ii', '_iii', '_oh', 'a', 'b', 'exit', 'fav_leanguage', 'favorite_leanguage', 'fruits', 'get_ipython', 'is_valid', 'items', 'lst', 'marks', 'name', 'names', 'num', 'num1', 'num2', 'num3', 'num4', 'num5', 'numbers', 'obj', 'open', 'price', 'quit', 'skill', 'skills', 'student', 'value1', 'value2', 'value3', 'values', 'word', 'words', 'x', 'y', 'z']\n"
     ]
    }
   ],
   "source": [
    "# Example 4: Built-in functions in current scope\n",
    "\n",
    "print(dir())"
   ]
  },
  {
   "cell_type": "code",
   "execution_count": 88,
   "id": "d1169abd-bcac-4e2e-849d-d6d08ce58ef9",
   "metadata": {},
   "outputs": [
    {
     "name": "stdout",
     "output_type": "stream",
     "text": [
      "['__class__', '__delattr__', '__dict__', '__dir__', '__doc__', '__eq__', '__firstlineno__', '__format__', '__ge__', '__getattribute__', '__getstate__', '__gt__', '__hash__', '__init__', '__init_subclass__', '__le__', '__lt__', '__module__', '__ne__', '__new__', '__reduce__', '__reduce_ex__', '__repr__', '__setattr__', '__sizeof__', '__static_attributes__', '__str__', '__subclasshook__', '__weakref__', 'name']\n"
     ]
    }
   ],
   "source": [
    "# Example 5: Custom class attributes\n",
    "\n",
    "class student:\n",
    "    def __init__(self, name):\n",
    "        self.name = name\n",
    "\n",
    "s = student(\"sher khan\")\n",
    "print(dir(s))"
   ]
  },
  {
   "cell_type": "markdown",
   "id": "788aaed1-8377-4432-ab3c-e7f6718c7594",
   "metadata": {},
   "source": [
    "### 🔹 2️⃣ help() Function\n",
    "\n",
    "- help() function kisi **object, function, module** ya **class ka documentation / usage information** provide karta hai.\n",
    "\n"
   ]
  },
  {
   "cell_type": "code",
   "execution_count": 89,
   "id": "61a6b9cb-722d-4862-8392-402ac3621cc1",
   "metadata": {},
   "outputs": [
    {
     "name": "stdout",
     "output_type": "stream",
     "text": [
      "Help on built-in function len in module builtins:\n",
      "\n",
      "len(obj, /)\n",
      "    Return the number of items in a container.\n",
      "\n"
     ]
    }
   ],
   "source": [
    "# Example 1: Help on a built-in function\n",
    "\n",
    "help(len)"
   ]
  },
  {
   "cell_type": "code",
   "execution_count": 90,
   "id": "3c53078d-3a40-4681-92da-ece2c7e1623e",
   "metadata": {},
   "outputs": [
    {
     "name": "stdout",
     "output_type": "stream",
     "text": [
      "Help on built-in function print in module builtins:\n",
      "\n",
      "print(*args, sep=' ', end='\\n', file=None, flush=False)\n",
      "    Prints the values to a stream, or to sys.stdout by default.\n",
      "\n",
      "    sep\n",
      "      string inserted between values, default a space.\n",
      "    end\n",
      "      string appended after the last value, default a newline.\n",
      "    file\n",
      "      a file-like object (stream); defaults to the current sys.stdout.\n",
      "    flush\n",
      "      whether to forcibly flush the stream.\n",
      "\n"
     ]
    }
   ],
   "source": [
    "help(print)"
   ]
  },
  {
   "cell_type": "code",
   "execution_count": 91,
   "id": "d5897188-3881-4871-9eff-a862efd17c1d",
   "metadata": {},
   "outputs": [
    {
     "name": "stdout",
     "output_type": "stream",
     "text": [
      "Help on method raw_input in module ipykernel.kernelbase:\n",
      "\n",
      "raw_input(prompt='') method of ipykernel.ipkernel.IPythonKernel instance\n",
      "    Forward raw_input to frontends\n",
      "\n",
      "    Raises\n",
      "    ------\n",
      "    StdinNotImplementedError if active frontend doesn't support stdin.\n",
      "\n"
     ]
    }
   ],
   "source": [
    "help(input)"
   ]
  },
  {
   "cell_type": "code",
   "execution_count": 92,
   "id": "bf40a4e4-1f37-49a7-890f-1aec137c3513",
   "metadata": {},
   "outputs": [
    {
     "name": "stdout",
     "output_type": "stream",
     "text": [
      "Help on built-in function id in module builtins:\n",
      "\n",
      "id(obj, /)\n",
      "    Return the identity of an object.\n",
      "\n",
      "    This is guaranteed to be unique among simultaneously existing objects.\n",
      "    (CPython uses the object's memory address.)\n",
      "\n"
     ]
    }
   ],
   "source": [
    "help(id)"
   ]
  },
  {
   "cell_type": "code",
   "execution_count": 94,
   "id": "b2cab26b-7572-4dd0-939b-72e46e7a7786",
   "metadata": {},
   "outputs": [
    {
     "name": "stdout",
     "output_type": "stream",
     "text": [
      "Help on built-in function abs in module builtins:\n",
      "\n",
      "abs(x, /)\n",
      "    Return the absolute value of the argument.\n",
      "\n"
     ]
    }
   ],
   "source": [
    "help(abs)"
   ]
  },
  {
   "cell_type": "code",
   "execution_count": 96,
   "id": "d160d896-f8f6-480e-8d70-dfc47f7855b7",
   "metadata": {},
   "outputs": [
    {
     "name": "stdout",
     "output_type": "stream",
     "text": [
      "Help on method_descriptor:\n",
      "\n",
      "upper(self, /) unbound builtins.str method\n",
      "    Return a copy of the string converted to uppercase.\n",
      "\n"
     ]
    }
   ],
   "source": [
    "# Example 2: Help on string methods\n",
    "\n",
    "help(str.upper)"
   ]
  },
  {
   "cell_type": "code",
   "execution_count": 97,
   "id": "76c8729b-59a3-4431-aa24-fb83c9920346",
   "metadata": {},
   "outputs": [
    {
     "name": "stdout",
     "output_type": "stream",
     "text": [
      "Help on method_descriptor:\n",
      "\n",
      "lower(self, /) unbound builtins.str method\n",
      "    Return a copy of the string converted to lowercase.\n",
      "\n"
     ]
    }
   ],
   "source": [
    "help(str.lower)"
   ]
  },
  {
   "cell_type": "code",
   "execution_count": 98,
   "id": "a6949585-3269-447c-b164-c4fad20982ac",
   "metadata": {},
   "outputs": [
    {
     "name": "stdout",
     "output_type": "stream",
     "text": [
      "Help on method_descriptor:\n",
      "\n",
      "split(self, /, sep=None, maxsplit=-1) unbound builtins.str method\n",
      "    Return a list of the substrings in the string, using sep as the separator string.\n",
      "\n",
      "      sep\n",
      "        The separator used to split the string.\n",
      "\n",
      "        When set to None (the default value), will split on any whitespace\n",
      "        character (including \\n \\r \\t \\f and spaces) and will discard\n",
      "        empty strings from the result.\n",
      "      maxsplit\n",
      "        Maximum number of splits.\n",
      "        -1 (the default value) means no limit.\n",
      "\n",
      "    Splitting starts at the front of the string and works to the end.\n",
      "\n",
      "    Note, str.split() is mainly useful for data that has been intentionally\n",
      "    delimited.  With natural text that includes punctuation, consider using\n",
      "    the regular expression module.\n",
      "\n"
     ]
    }
   ],
   "source": [
    "help(str.split)"
   ]
  },
  {
   "cell_type": "code",
   "execution_count": 100,
   "id": "cc9e1cd1-d8f7-4b20-8eeb-a434dca299b0",
   "metadata": {},
   "outputs": [
    {
     "data": {
      "text/plain": [
       "['__add__',\n",
       " '__class__',\n",
       " '__contains__',\n",
       " '__delattr__',\n",
       " '__dir__',\n",
       " '__doc__',\n",
       " '__eq__',\n",
       " '__format__',\n",
       " '__ge__',\n",
       " '__getattribute__',\n",
       " '__getitem__',\n",
       " '__getnewargs__',\n",
       " '__getstate__',\n",
       " '__gt__',\n",
       " '__hash__',\n",
       " '__init__',\n",
       " '__init_subclass__',\n",
       " '__iter__',\n",
       " '__le__',\n",
       " '__len__',\n",
       " '__lt__',\n",
       " '__mod__',\n",
       " '__mul__',\n",
       " '__ne__',\n",
       " '__new__',\n",
       " '__reduce__',\n",
       " '__reduce_ex__',\n",
       " '__repr__',\n",
       " '__rmod__',\n",
       " '__rmul__',\n",
       " '__setattr__',\n",
       " '__sizeof__',\n",
       " '__str__',\n",
       " '__subclasshook__',\n",
       " 'capitalize',\n",
       " 'casefold',\n",
       " 'center',\n",
       " 'count',\n",
       " 'encode',\n",
       " 'endswith',\n",
       " 'expandtabs',\n",
       " 'find',\n",
       " 'format',\n",
       " 'format_map',\n",
       " 'index',\n",
       " 'isalnum',\n",
       " 'isalpha',\n",
       " 'isascii',\n",
       " 'isdecimal',\n",
       " 'isdigit',\n",
       " 'isidentifier',\n",
       " 'islower',\n",
       " 'isnumeric',\n",
       " 'isprintable',\n",
       " 'isspace',\n",
       " 'istitle',\n",
       " 'isupper',\n",
       " 'join',\n",
       " 'ljust',\n",
       " 'lower',\n",
       " 'lstrip',\n",
       " 'maketrans',\n",
       " 'partition',\n",
       " 'removeprefix',\n",
       " 'removesuffix',\n",
       " 'replace',\n",
       " 'rfind',\n",
       " 'rindex',\n",
       " 'rjust',\n",
       " 'rpartition',\n",
       " 'rsplit',\n",
       " 'rstrip',\n",
       " 'split',\n",
       " 'splitlines',\n",
       " 'startswith',\n",
       " 'strip',\n",
       " 'swapcase',\n",
       " 'title',\n",
       " 'translate',\n",
       " 'upper',\n",
       " 'zfill']"
      ]
     },
     "execution_count": 100,
     "metadata": {},
     "output_type": "execute_result"
    }
   ],
   "source": [
    "dir(str)"
   ]
  },
  {
   "cell_type": "code",
   "execution_count": 101,
   "id": "7bfc76bd-c09b-4e2b-8cb8-df57bbb39655",
   "metadata": {},
   "outputs": [
    {
     "name": "stdout",
     "output_type": "stream",
     "text": [
      "Help on method_descriptor:\n",
      "\n",
      "swapcase(self, /) unbound builtins.str method\n",
      "    Convert uppercase characters to lowercase and lowercase characters to uppercase.\n",
      "\n"
     ]
    }
   ],
   "source": [
    "help(str.swapcase)"
   ]
  },
  {
   "cell_type": "code",
   "execution_count": 102,
   "id": "2f67f843-005a-44b7-b367-ac164643a208",
   "metadata": {},
   "outputs": [
    {
     "name": "stdout",
     "output_type": "stream",
     "text": [
      "Help on method_descriptor:\n",
      "\n",
      "zfill(self, width, /) unbound builtins.str method\n",
      "    Pad a numeric string with zeros on the left, to fill a field of the given width.\n",
      "\n",
      "    The string is never truncated.\n",
      "\n"
     ]
    }
   ],
   "source": [
    "help(str.zfill)"
   ]
  },
  {
   "cell_type": "code",
   "execution_count": 103,
   "id": "ad8d77af-d818-4e4c-bf7a-af70394e8f5d",
   "metadata": {},
   "outputs": [
    {
     "name": "stdout",
     "output_type": "stream",
     "text": [
      "Help on method_descriptor:\n",
      "\n",
      "strip(self, chars=None, /) unbound builtins.str method\n",
      "    Return a copy of the string with leading and trailing whitespace removed.\n",
      "\n",
      "    If chars is given and not None, remove characters in chars instead.\n",
      "\n"
     ]
    }
   ],
   "source": [
    "help(str.strip)"
   ]
  },
  {
   "cell_type": "code",
   "execution_count": 104,
   "id": "ac0cdde7-6ec6-4538-9f0a-2460b807fdce",
   "metadata": {},
   "outputs": [
    {
     "name": "stdout",
     "output_type": "stream",
     "text": [
      "Help on method_descriptor:\n",
      "\n",
      "endswith(self, suffix[, start[, end]], /) unbound builtins.str method\n",
      "    Return True if the string ends with the specified suffix, False otherwise.\n",
      "\n",
      "    suffix\n",
      "      A string or a tuple of strings to try.\n",
      "    start\n",
      "      Optional start position. Default: start of the string.\n",
      "    end\n",
      "      Optional stop position. Default: end of the string.\n",
      "\n"
     ]
    }
   ],
   "source": [
    "help(str.endswith)"
   ]
  },
  {
   "cell_type": "code",
   "execution_count": 105,
   "id": "a5bfa161-76be-447c-a44f-242555dfe507",
   "metadata": {},
   "outputs": [
    {
     "name": "stdout",
     "output_type": "stream",
     "text": [
      "Help on module math:\n",
      "\n",
      "NAME\n",
      "    math\n",
      "\n",
      "MODULE REFERENCE\n",
      "    https://docs.python.org/3.13/library/math.html\n",
      "\n",
      "    The following documentation is automatically generated from the Python\n",
      "    source files.  It may be incomplete, incorrect or include features that\n",
      "    are considered implementation detail and may vary between Python\n",
      "    implementations.  When in doubt, consult the module reference at the\n",
      "    location listed above.\n",
      "\n",
      "DESCRIPTION\n",
      "    This module provides access to the mathematical functions\n",
      "    defined by the C standard.\n",
      "\n",
      "FUNCTIONS\n",
      "    acos(x, /)\n",
      "        Return the arc cosine (measured in radians) of x.\n",
      "\n",
      "        The result is between 0 and pi.\n",
      "\n",
      "    acosh(x, /)\n",
      "        Return the inverse hyperbolic cosine of x.\n",
      "\n",
      "    asin(x, /)\n",
      "        Return the arc sine (measured in radians) of x.\n",
      "\n",
      "        The result is between -pi/2 and pi/2.\n",
      "\n",
      "    asinh(x, /)\n",
      "        Return the inverse hyperbolic sine of x.\n",
      "\n",
      "    atan(x, /)\n",
      "        Return the arc tangent (measured in radians) of x.\n",
      "\n",
      "        The result is between -pi/2 and pi/2.\n",
      "\n",
      "    atan2(y, x, /)\n",
      "        Return the arc tangent (measured in radians) of y/x.\n",
      "\n",
      "        Unlike atan(y/x), the signs of both x and y are considered.\n",
      "\n",
      "    atanh(x, /)\n",
      "        Return the inverse hyperbolic tangent of x.\n",
      "\n",
      "    cbrt(x, /)\n",
      "        Return the cube root of x.\n",
      "\n",
      "    ceil(x, /)\n",
      "        Return the ceiling of x as an Integral.\n",
      "\n",
      "        This is the smallest integer >= x.\n",
      "\n",
      "    comb(n, k, /)\n",
      "        Number of ways to choose k items from n items without repetition and without order.\n",
      "\n",
      "        Evaluates to n! / (k! * (n - k)!) when k <= n and evaluates\n",
      "        to zero when k > n.\n",
      "\n",
      "        Also called the binomial coefficient because it is equivalent\n",
      "        to the coefficient of k-th term in polynomial expansion of the\n",
      "        expression (1 + x)**n.\n",
      "\n",
      "        Raises TypeError if either of the arguments are not integers.\n",
      "        Raises ValueError if either of the arguments are negative.\n",
      "\n",
      "    copysign(x, y, /)\n",
      "        Return a float with the magnitude (absolute value) of x but the sign of y.\n",
      "\n",
      "        On platforms that support signed zeros, copysign(1.0, -0.0)\n",
      "        returns -1.0.\n",
      "\n",
      "    cos(x, /)\n",
      "        Return the cosine of x (measured in radians).\n",
      "\n",
      "    cosh(x, /)\n",
      "        Return the hyperbolic cosine of x.\n",
      "\n",
      "    degrees(x, /)\n",
      "        Convert angle x from radians to degrees.\n",
      "\n",
      "    dist(p, q, /)\n",
      "        Return the Euclidean distance between two points p and q.\n",
      "\n",
      "        The points should be specified as sequences (or iterables) of\n",
      "        coordinates.  Both inputs must have the same dimension.\n",
      "\n",
      "        Roughly equivalent to:\n",
      "            sqrt(sum((px - qx) ** 2.0 for px, qx in zip(p, q)))\n",
      "\n",
      "    erf(x, /)\n",
      "        Error function at x.\n",
      "\n",
      "    erfc(x, /)\n",
      "        Complementary error function at x.\n",
      "\n",
      "    exp(x, /)\n",
      "        Return e raised to the power of x.\n",
      "\n",
      "    exp2(x, /)\n",
      "        Return 2 raised to the power of x.\n",
      "\n",
      "    expm1(x, /)\n",
      "        Return exp(x)-1.\n",
      "\n",
      "        This function avoids the loss of precision involved in the direct evaluation of exp(x)-1 for small x.\n",
      "\n",
      "    fabs(x, /)\n",
      "        Return the absolute value of the float x.\n",
      "\n",
      "    factorial(n, /)\n",
      "        Find n!.\n",
      "\n",
      "    floor(x, /)\n",
      "        Return the floor of x as an Integral.\n",
      "\n",
      "        This is the largest integer <= x.\n",
      "\n",
      "    fma(x, y, z, /)\n",
      "        Fused multiply-add operation.\n",
      "\n",
      "        Compute (x * y) + z with a single round.\n",
      "\n",
      "    fmod(x, y, /)\n",
      "        Return fmod(x, y), according to platform C.\n",
      "\n",
      "        x % y may differ.\n",
      "\n",
      "    frexp(x, /)\n",
      "        Return the mantissa and exponent of x, as pair (m, e).\n",
      "\n",
      "        m is a float and e is an int, such that x = m * 2.**e.\n",
      "        If x is 0, m and e are both 0.  Else 0.5 <= abs(m) < 1.0.\n",
      "\n",
      "    fsum(seq, /)\n",
      "        Return an accurate floating-point sum of values in the iterable seq.\n",
      "\n",
      "        Assumes IEEE-754 floating-point arithmetic.\n",
      "\n",
      "    gamma(x, /)\n",
      "        Gamma function at x.\n",
      "\n",
      "    gcd(*integers)\n",
      "        Greatest Common Divisor.\n",
      "\n",
      "    hypot(...)\n",
      "        hypot(*coordinates) -> value\n",
      "\n",
      "        Multidimensional Euclidean distance from the origin to a point.\n",
      "\n",
      "        Roughly equivalent to:\n",
      "            sqrt(sum(x**2 for x in coordinates))\n",
      "\n",
      "        For a two dimensional point (x, y), gives the hypotenuse\n",
      "        using the Pythagorean theorem:  sqrt(x*x + y*y).\n",
      "\n",
      "        For example, the hypotenuse of a 3/4/5 right triangle is:\n",
      "\n",
      "            >>> hypot(3.0, 4.0)\n",
      "            5.0\n",
      "\n",
      "    isclose(a, b, *, rel_tol=1e-09, abs_tol=0.0)\n",
      "        Determine whether two floating-point numbers are close in value.\n",
      "\n",
      "          rel_tol\n",
      "            maximum difference for being considered \"close\", relative to the\n",
      "            magnitude of the input values\n",
      "          abs_tol\n",
      "            maximum difference for being considered \"close\", regardless of the\n",
      "            magnitude of the input values\n",
      "\n",
      "        Return True if a is close in value to b, and False otherwise.\n",
      "\n",
      "        For the values to be considered close, the difference between them\n",
      "        must be smaller than at least one of the tolerances.\n",
      "\n",
      "        -inf, inf and NaN behave similarly to the IEEE 754 Standard.  That\n",
      "        is, NaN is not close to anything, even itself.  inf and -inf are\n",
      "        only close to themselves.\n",
      "\n",
      "    isfinite(x, /)\n",
      "        Return True if x is neither an infinity nor a NaN, and False otherwise.\n",
      "\n",
      "    isinf(x, /)\n",
      "        Return True if x is a positive or negative infinity, and False otherwise.\n",
      "\n",
      "    isnan(x, /)\n",
      "        Return True if x is a NaN (not a number), and False otherwise.\n",
      "\n",
      "    isqrt(n, /)\n",
      "        Return the integer part of the square root of the input.\n",
      "\n",
      "    lcm(*integers)\n",
      "        Least Common Multiple.\n",
      "\n",
      "    ldexp(x, i, /)\n",
      "        Return x * (2**i).\n",
      "\n",
      "        This is essentially the inverse of frexp().\n",
      "\n",
      "    lgamma(x, /)\n",
      "        Natural logarithm of absolute value of Gamma function at x.\n",
      "\n",
      "    log(...)\n",
      "        log(x, [base=math.e])\n",
      "        Return the logarithm of x to the given base.\n",
      "\n",
      "        If the base is not specified, returns the natural logarithm (base e) of x.\n",
      "\n",
      "    log10(x, /)\n",
      "        Return the base 10 logarithm of x.\n",
      "\n",
      "    log1p(x, /)\n",
      "        Return the natural logarithm of 1+x (base e).\n",
      "\n",
      "        The result is computed in a way which is accurate for x near zero.\n",
      "\n",
      "    log2(x, /)\n",
      "        Return the base 2 logarithm of x.\n",
      "\n",
      "    modf(x, /)\n",
      "        Return the fractional and integer parts of x.\n",
      "\n",
      "        Both results carry the sign of x and are floats.\n",
      "\n",
      "    nextafter(x, y, /, *, steps=None)\n",
      "        Return the floating-point value the given number of steps after x towards y.\n",
      "\n",
      "        If steps is not specified or is None, it defaults to 1.\n",
      "\n",
      "        Raises a TypeError, if x or y is not a double, or if steps is not an integer.\n",
      "        Raises ValueError if steps is negative.\n",
      "\n",
      "    perm(n, k=None, /)\n",
      "        Number of ways to choose k items from n items without repetition and with order.\n",
      "\n",
      "        Evaluates to n! / (n - k)! when k <= n and evaluates\n",
      "        to zero when k > n.\n",
      "\n",
      "        If k is not specified or is None, then k defaults to n\n",
      "        and the function returns n!.\n",
      "\n",
      "        Raises TypeError if either of the arguments are not integers.\n",
      "        Raises ValueError if either of the arguments are negative.\n",
      "\n",
      "    pow(x, y, /)\n",
      "        Return x**y (x to the power of y).\n",
      "\n",
      "    prod(iterable, /, *, start=1)\n",
      "        Calculate the product of all the elements in the input iterable.\n",
      "\n",
      "        The default start value for the product is 1.\n",
      "\n",
      "        When the iterable is empty, return the start value.  This function is\n",
      "        intended specifically for use with numeric values and may reject\n",
      "        non-numeric types.\n",
      "\n",
      "    radians(x, /)\n",
      "        Convert angle x from degrees to radians.\n",
      "\n",
      "    remainder(x, y, /)\n",
      "        Difference between x and the closest integer multiple of y.\n",
      "\n",
      "        Return x - n*y where n*y is the closest integer multiple of y.\n",
      "        In the case where x is exactly halfway between two multiples of\n",
      "        y, the nearest even value of n is used. The result is always exact.\n",
      "\n",
      "    sin(x, /)\n",
      "        Return the sine of x (measured in radians).\n",
      "\n",
      "    sinh(x, /)\n",
      "        Return the hyperbolic sine of x.\n",
      "\n",
      "    sqrt(x, /)\n",
      "        Return the square root of x.\n",
      "\n",
      "    sumprod(p, q, /)\n",
      "        Return the sum of products of values from two iterables p and q.\n",
      "\n",
      "        Roughly equivalent to:\n",
      "\n",
      "            sum(itertools.starmap(operator.mul, zip(p, q, strict=True)))\n",
      "\n",
      "        For float and mixed int/float inputs, the intermediate products\n",
      "        and sums are computed with extended precision.\n",
      "\n",
      "    tan(x, /)\n",
      "        Return the tangent of x (measured in radians).\n",
      "\n",
      "    tanh(x, /)\n",
      "        Return the hyperbolic tangent of x.\n",
      "\n",
      "    trunc(x, /)\n",
      "        Truncates the Real x to the nearest Integral toward 0.\n",
      "\n",
      "        Uses the __trunc__ magic method.\n",
      "\n",
      "    ulp(x, /)\n",
      "        Return the value of the least significant bit of the float x.\n",
      "\n",
      "DATA\n",
      "    e = 2.718281828459045\n",
      "    inf = inf\n",
      "    nan = nan\n",
      "    pi = 3.141592653589793\n",
      "    tau = 6.283185307179586\n",
      "\n",
      "FILE\n",
      "    /home/sheraking/anaconda3/lib/python3.13/lib-dynload/math.cpython-313-x86_64-linux-gnu.so\n",
      "\n",
      "\n"
     ]
    }
   ],
   "source": [
    "# Example 3: Help on a module\n",
    "\n",
    "import math\n",
    "help(math)"
   ]
  },
  {
   "cell_type": "code",
   "execution_count": 106,
   "id": "3eb89cae-cc74-435d-a757-3b98774291cb",
   "metadata": {},
   "outputs": [
    {
     "name": "stdout",
     "output_type": "stream",
     "text": [
      "Help on function greet in module __main__:\n",
      "\n",
      "greet(name)\n",
      "    Prints a greeting message\n",
      "\n"
     ]
    }
   ],
   "source": [
    "# Example 4: Help on a custom function\n",
    "def greet(name):\n",
    "    \"\"\"Prints a greeting message\"\"\"\n",
    "    print(f\"Hello, {name}\")\n",
    "help(greet)"
   ]
  },
  {
   "cell_type": "code",
   "execution_count": 108,
   "id": "d0b6e754-14a0-42c9-abc3-a680d23121eb",
   "metadata": {},
   "outputs": [
    {
     "name": "stdout",
     "output_type": "stream",
     "text": [
      "Help on class student in module __main__:\n",
      "\n",
      "class student(builtins.object)\n",
      " |  student(name)\n",
      " |\n",
      " |  Represents a student\n",
      " |\n",
      " |  Methods defined here:\n",
      " |\n",
      " |  __init__(self, name)\n",
      " |      Initialize self.  See help(type(self)) for accurate signature.\n",
      " |\n",
      " |  ----------------------------------------------------------------------\n",
      " |  Data descriptors defined here:\n",
      " |\n",
      " |  __dict__\n",
      " |      dictionary for instance variables\n",
      " |\n",
      " |  __weakref__\n",
      " |      list of weak references to the object\n",
      "\n"
     ]
    }
   ],
   "source": [
    "# Example 5: Help on a class\n",
    "\n",
    "class student:\n",
    "    \"\"\"Represents a student\"\"\"\n",
    "    def __init__(self, name):\n",
    "        self.name = name\n",
    "help(student)"
   ]
  },
  {
   "cell_type": "markdown",
   "id": "e5dbd907-4ec5-4a09-bccb-cfdae3165b92",
   "metadata": {},
   "source": [
    "\n",
    "### 🔹 3️⃣ vars() Function\n",
    "\n",
    "vars() function kisi **object** ke **dict attribute (attributes ka dictionary)** return karta hai.\n",
    "Ye mostly objects ke **internal variables** dekhne ke liye useful hai."
   ]
  },
  {
   "cell_type": "code",
   "execution_count": 110,
   "id": "b79e1d46-f680-4233-bb0a-e337ca782ef8",
   "metadata": {},
   "outputs": [
    {
     "name": "stdout",
     "output_type": "stream",
     "text": [
      "{'name': 'Sher Khan', 'age': 20}\n"
     ]
    }
   ],
   "source": [
    "# Example 1: Object attributes\n",
    "\n",
    "class student:\n",
    "    def __init__(self, name , age):\n",
    "        self.name = name\n",
    "        self.age = age\n",
    "s = student(\"Sher Khan\", 20)\n",
    "print(vars(s))"
   ]
  },
  {
   "cell_type": "code",
   "execution_count": 111,
   "id": "1ce319cc-14bd-4899-b8b9-f574e7f412c0",
   "metadata": {},
   "outputs": [
    {
     "name": "stdout",
     "output_type": "stream",
     "text": [
      "{'name': 'Sher Khan', 'age': 25}\n"
     ]
    }
   ],
   "source": [
    "# Example 2: Modify attributes\n",
    "attr = vars(s)\n",
    "attr['age'] = 25\n",
    "print(vars(s))"
   ]
  },
  {
   "cell_type": "code",
   "execution_count": 112,
   "id": "c752d552-375e-45b0-9951-8b625fb7c79f",
   "metadata": {},
   "outputs": [
    {
     "name": "stdout",
     "output_type": "stream",
     "text": [
      "{'__name__': '__main__', '__doc__': 'Automatically created module for IPython interactive environment', '__package__': None, '__loader__': None, '__spec__': None, '__builtin__': <module 'builtins' (built-in)>, '__builtins__': <module 'builtins' (built-in)>, '_ih': ['', '# Example 5: Object representation\\n\\nclass student:\\n    def __init__(self, name):\\n        self.name = name\\n\\nobj = student(\"ahmed\")\\nprint(repr(obj))', '---------------------------------------------------------------------------------', '----------------------------------------------------------------------------------', '---------------------------------------------------------------------------------', '# Example 4: Key parameter use karna\\nwords = [ \"Python\", \"AI\", \"Pandas\", \"Numpy\", \"Machine Learning\", \"Deep Learning\"]\\nprint(max(words))', '# Example 4: Key parameter use karna\\nwords = [ \"Python\", \"AI\", \"Pandas\", \"Numpy\", \"Machine Learning\", \"Deep Learning\"]\\nprint(max(words))', '# Example 4: Key parameter use karna\\nwords = [ \"Python\", \"AI\", \"Pandas\", \"Numpy\", \"Machine Learning\", \"Deep Learning\"]\\nprint(max(words))', '# Example 4: Key parameter use karna\\nwords = [\"AI\", \"Python\", \"Pandas\", \"Numpy\", \"Machine Learning\", \"Deep Learning\"]\\nprint(max(words))', '# Example 4: Key parameter use karna\\nwords = [\"AI\", \"Python\", \"Pandas\", \"Numpy\", \"Machine Learning\", \"Deep Learning\"]\\nprint(max(words key=len))', '# Example 4: Key parameter use karna\\nwords = [\"AI\", \"Python\", \"Pandas\", \"Numpy\", \"Machine Learning\", \"Deep Learning\"]\\nprint(max(words, key=len))', '# Example 5: Dictionary values ka max\\nmarks = {\"Sher Khan\": 99, \"Ahmed\": 80, \"Kamran\": 79}\\nprint(max(marks.values()))', '# Example 5: Dictionary values ka max\\nmarks = {\"Sher Khan\": 99, \"Ahmed\": 80, \"Kamran\": 79}\\nprint(max(marks.key()))', '# Example 5: Dictionary values ka max\\nmarks = {\"Sher Khan\": 99, \"Ahmed\": 80, \"Kamran\": 79}\\nprint(max(marks.keys()))', '# Example 5: Dictionary values ka max\\nmarks = {\"Sher Khan\": 99, \"Ahmed\": 80, \"Kamran\": 79}\\nprint(max(marks.values()))', 'marks = {80, 50, 99, 88, 62}\\nprint(max(marks))', '# Example 1: List ka minimum\\nnum1 = [20, 80, 100, 30, 40, 50, 70]\\nprint(min(num1))\\n\\nnum2 = [10, 3, 5, 8, 9, 2, 1, 4 , 6, 7]\\nprint(min(num2))\\n\\nnum3 = [390239348902389, 390239348902319, 390239348902229, 390231348902389 ]\\nprint(min(num3))', '# Example 2: Strings alphabetically\\nnames = [\"adeel\", \"aliya\", \"mariyam\", \"amen\", \"ameen\", \"roman\"]\\nprint(min(names))', '# Example 2: Strings alphabetically\\nnames = [\"adeel\", \"aliya\", \"mariyam\", \"amen\", \"ameen\", \"roman\"]\\nprint(min(names, key=len))', '# Example 3: Multiple arguments ke sath\\nprint(min(30, 10, 80, 100, 70, 20, 60))', '# Example 4: Key parameter ke sath\\nwords = [\"Python\", \"Pandas\", \"Numpy\", \"Matplotlib\", \"Seaborn\", \"Machine learning\", \"sklearn\", \"pytourch\", \"deep learning\"]\\nprint(min(words))', '# Example 5: Dictionary values ka min', '# Example 1: Positive number ka abs', '# Example 2: Negative number ka abs', '# Example 3: Floating point number', '# Example 5: Dictionary values ka min\\nmarks = {\"ali\": 88, \"sara\": 92, \"usman\": 79}\\nprint(min(marks))', '# Example 5: Dictionary values ka min\\nmarks = {\"ali\": 88, \"sara\": 92, \"usman\": 79}\\nprint(min(marks.values()))', '# Example 1: Positive number ka abs\\nprint(abs(-8))', '# Example 1: Positive number ka abs\\nprint(abs(-8))\\nprint(abs(-10))\\nprint(abs(-100))\\nprint(abs(-20))\\nprint(abs(-60))', '# Example 2: Negative number ka abs\\nprint(abs(-25))', '# Example 3: Floating point number\\nprint(abs(-2.5))\\nprint(abs(-20.5))\\nprint(abs(-10.6))\\nprint(abs(-80.5))', '# Example 4: Difference between two numbers', '# Example 4: Difference between two numbers\\n\\na, b = 10, 5\\nprint(a -b)', '# Example 4: Difference between two numbers\\n\\na, b = 10, 5\\nprint(abs(a-b))', '# Example 5: Complex number ka abs\\nz = -30 + 5j\\nprint(abs(z))', '# Example 1: Simple rounding\\nprint(round(3.5))', '# Example 2: Down rounding\\nprint(round(3.3))', '# Example 3: Decimal places specify karna', '# Example 4: Negative numbers rounding', '# Example 5: Financial rounding example', '# Example 1: Simple rounding\\nprint(round(3.5))\\nprint(round(10.5))\\nprint(round(5.5))\\nprint(round(7.5))', '# Example 3: Decimal places specify karna\\nprint(round(3.14159, 2))', '# Example 4: Negative numbers rounding\\nprint(round(-2.8))', '# Example 5: Financial rounding example\\nprice = 40.987\\nprint(round(price, 7))', '----------------------------------------------------------------------------------------------', '# Example 1: Integer type\\nnum = 100\\nprint(type(num))', '# Example 2: String type\\nword = \"Python\"\\nprint(type(word))', '# Example 3: List type\\nfruits = [\"apple\", \"banana\", \"cherry\", \"orange\", \"water melon\"]\\nprint(type(fruits))', '# Example 4: Boolean type\\nis_valid = True\\nprint(type(is_valid))', '# Example 5: Tuple type\\nnumbers = (10, 20, 30, 40, 50)\\nprint(type(numbers))', 'marks = {\"sher khan\": 88, \"sajid\": 99, \"suhail\": 30, \"ahmed\": 100}\\nprint(type(marks))', 'skills = {\"Python\", \"Numpy\", \"Pandas\", \"Matplotlib\", \"Numpy\", \"sklearn\", \"Python\"}\\nprint(type(skills))', 'marks = frozenset(\"Math\", \"Biology\", \"Physics\", \"English\")\\nprint(type(marks))', 'marks = frozenset(\"Math\")\\nprint(type(marks))', '#  Example 1: Integer check\\nnum = 20\\nprint(num.isinstance())', '#  Example 1: Integer check\\nnum = 20\\nprint(isinstance(num))', '#  Example 1: Integer check\\nnum = 20\\nprint(isinstance(num, int))', '#  Example 1: Integer check\\nnum = 20\\nprint(isinstance(num, int))\\n\\nnum1 = 300\\nprint(isinstance(num1, int))', '#  Example 1: Integer check\\nnum = 20\\nprint(isinstance(num, int))\\n\\nnum1 = 300\\nprint(isinstance(num1, int))\\n\\nnum3 = 804\\nprint(isinstance(num3, int))', '#  Example 1: Integer check\\nnum = 20\\nprint(isinstance(num, int))\\n\\nnum1 = 300\\nprint(isinstance(num1, int))\\n\\nnum3 = 804\\nprint(isinstance(num3, int))\\n\\nnum4 = 352\\nprint(isinstance(num4, int))', '#  Example 1: Integer check\\nnum = 20\\nprint(isinstance(num, int))\\n\\nnum1 = 300\\nprint(isinstance(num1, int))\\n\\nnum3 = 804\\nprint(isinstance(num3, int))\\n\\nnum4 = 352\\nprint(isinstance(num4, int))\\n\\nnum5 = 30\\nprint(isinstance(num5,float)) ', '# Example 2: String check\\nfavorite_leanguage = \"Python\"\\nprint(isinstance(favorite_leanguage, str))', '# Example 3: Multiple type check', '# Example 4: List check', '# Example 2: String check\\nfavorite_leanguage = \"Python\"\\nprint(isinstance(favorite_leanguage, str))\\n\\nname = \"Sher Khan\"\\nprint(isinstance(name, str))', '# Example 3: Multiple type check\\nvalues = 3.15\\nprint(isinstance(values, (int, float)))', '# Example 3: Multiple type check\\nvalue1 = 3.15\\nprint(isinstance(values, (int, float)))\\n\\nvalue2 = 100\\nprint(isinstance(value2, (int, float)))\\n\\nvalue3 = 20 + 3j\\nprint(isinstance(value3, (complex, int)))\\n\\nword = \"Python\"\\nprint(isinstance(word, (str, int)))', '# Example 4: List check\\n\\nitems = [\"fruits\", \"milk\", \"bread\", \"butter\", \"suger\", \"rise\"]\\nprint(isinstance(items, list))', '# Example 5: Boolean check\\nis_valid = True\\nprint(isinstance(is_valid, bool))', '# Example 1: ID of an integer\\n\\nnum1 = 10\\nprint(id(num1))\\n\\nnum2 = 3820\\nprint(id(num2))\\n\\nnum3 = 40\\nprint(id(num3))', '# Example 2: ID of a string', 'print(9667152)', '# Example 2: ID of a string\\nname = \"sher khan\"\\nprint(id(name))', '# Example 2: ID of a string\\nname = \"sher khan\"\\nprint(id(name))\\n\\nskill = \"Data Scienctist\"\\nprint(id(skill))\\n\\nfav_leanguage = \"Python\"\\nprint(id(fav_leanguage))', '# Example 3: ID of a list\\n\\nlst = [10 , 20, 30, 40, 50]\\nprint(id(lst))', '# Example 4: Same object comparison\\n\\na = [1, 2]\\nb = a\\nprint(id(a) == id(b))', '# Example 5: Different object with same value\\n\\nx = [10, 20, 30]\\ny = [10, 20, 30]\\nprint(id(x) == id(y))', '-----------------------------------------------------------------------------------------------', '# Example 1: Attributes of a string', '# Example 1: Attributes of a string\\n\\nprint(dir(\"sher khan\"))\\nprint(dir(\"Python\"))', '# Example 1: Attributes of a string\\n\\nprint(dir(\"sher khan\"))', 'print(\"Python\")', 'print(\"Python\")\\nprint(dir(\"Python\"))', '# Example 2: Attributes of a list\\n\\nfruits = [\"apple\", \"banana\", \"cherry\"]\\nprint(dir(fruits))', '# Example 3: Attributes of a dictionary\\n\\nmarks = {\"sher khan\": 99, \"ibrahim\": 88, \"Kamran\": 70, \"Ahmed\": 62}\\nprint(dir(marks))', '# Attributes of a Tuple\\nmarks = (88, 99, 63, 50, 82)\\nprint(dir(marks))', '# Attributes of set\\nnum = {10, 100, 20, 80, 60, 30}\\nprint(dir(num))', '# Example 4: Built-in functions in current scope\\n\\nprint(dir())', '# Example 5: Custom class attributes\\n\\nclass student:\\n    def __init__(self, name):\\n        self.name = name\\n\\ns = student(\"sher khan\")\\nprint(dir(s))', '# Example 1: Help on a built-in function\\n\\nhelp(len)', 'help(print)', 'help(input)', 'help(id)', 'help(def)', 'help(abs)', '# Example 2: Help on string methods\\n\\nprint(str.upper)', '# Example 2: Help on string methods\\n\\nhelp(str.upper)', 'help(str.lower)', 'help(str.split)', 'help(str.remove)', 'dir(str)', 'help(str.swapcase)', 'help(str.zfill)', 'help(str.strip)', 'help(str.endswith)', '# Example 3: Help on a module\\n\\nimport math\\nhelp(math)', '# Example 4: Help on a custom function\\ndef greet(name):\\n    \"\"\"Prints a greeting message\"\"\"\\n    print(f\"Hello, {name}\")\\nhelp(greet)', '# Example 5: Help on a class\\n\\nclass student:\\n    \"\"\"R', '# Example 5: Help on a class\\n\\nclass student:\\n    \"\"\"Represents a student\"\"\"\\n    def __init__(self, name):\\n        self.name = name\\nhelp(student)', '# Example 1: Object attributes\\n\\nclass student:\\n    def __init__(self, name , age):\\n        self.name = name\\n        self.age = age\\ns = Student(\"Sher Khan\", 20)\\nprint(vars(s))', '# Example 1: Object attributes\\n\\nclass student:\\n    def __init__(self, name , age):\\n        self.name = name\\n        self.age = age\\ns = student(\"Sher Khan\", 20)\\nprint(vars(s))', \"# Example 2: Modify attributes\\nattr = vars(s)\\nattr['age'] = 25\\nprint(vars(s))\", '# Example 3: Empty vars\\n\\nprint(vars())'], '_oh': {100: ['__add__', '__class__', '__contains__', '__delattr__', '__dir__', '__doc__', '__eq__', '__format__', '__ge__', '__getattribute__', '__getitem__', '__getnewargs__', '__getstate__', '__gt__', '__hash__', '__init__', '__init_subclass__', '__iter__', '__le__', '__len__', '__lt__', '__mod__', '__mul__', '__ne__', '__new__', '__reduce__', '__reduce_ex__', '__repr__', '__rmod__', '__rmul__', '__setattr__', '__sizeof__', '__str__', '__subclasshook__', 'capitalize', 'casefold', 'center', 'count', 'encode', 'endswith', 'expandtabs', 'find', 'format', 'format_map', 'index', 'isalnum', 'isalpha', 'isascii', 'isdecimal', 'isdigit', 'isidentifier', 'islower', 'isnumeric', 'isprintable', 'isspace', 'istitle', 'isupper', 'join', 'ljust', 'lower', 'lstrip', 'maketrans', 'partition', 'removeprefix', 'removesuffix', 'replace', 'rfind', 'rindex', 'rjust', 'rpartition', 'rsplit', 'rstrip', 'split', 'splitlines', 'startswith', 'strip', 'swapcase', 'title', 'translate', 'upper', 'zfill']}, '_dh': [PosixPath('/home/sheraking/Desktop/#03 Data Science Git Hub Repository/#01 Basic Python repository for github/#01 Python_BuiltIn_Functions/Jupyter')], 'In': ['', '# Example 5: Object representation\\n\\nclass student:\\n    def __init__(self, name):\\n        self.name = name\\n\\nobj = student(\"ahmed\")\\nprint(repr(obj))', '---------------------------------------------------------------------------------', '----------------------------------------------------------------------------------', '---------------------------------------------------------------------------------', '# Example 4: Key parameter use karna\\nwords = [ \"Python\", \"AI\", \"Pandas\", \"Numpy\", \"Machine Learning\", \"Deep Learning\"]\\nprint(max(words))', '# Example 4: Key parameter use karna\\nwords = [ \"Python\", \"AI\", \"Pandas\", \"Numpy\", \"Machine Learning\", \"Deep Learning\"]\\nprint(max(words))', '# Example 4: Key parameter use karna\\nwords = [ \"Python\", \"AI\", \"Pandas\", \"Numpy\", \"Machine Learning\", \"Deep Learning\"]\\nprint(max(words))', '# Example 4: Key parameter use karna\\nwords = [\"AI\", \"Python\", \"Pandas\", \"Numpy\", \"Machine Learning\", \"Deep Learning\"]\\nprint(max(words))', '# Example 4: Key parameter use karna\\nwords = [\"AI\", \"Python\", \"Pandas\", \"Numpy\", \"Machine Learning\", \"Deep Learning\"]\\nprint(max(words key=len))', '# Example 4: Key parameter use karna\\nwords = [\"AI\", \"Python\", \"Pandas\", \"Numpy\", \"Machine Learning\", \"Deep Learning\"]\\nprint(max(words, key=len))', '# Example 5: Dictionary values ka max\\nmarks = {\"Sher Khan\": 99, \"Ahmed\": 80, \"Kamran\": 79}\\nprint(max(marks.values()))', '# Example 5: Dictionary values ka max\\nmarks = {\"Sher Khan\": 99, \"Ahmed\": 80, \"Kamran\": 79}\\nprint(max(marks.key()))', '# Example 5: Dictionary values ka max\\nmarks = {\"Sher Khan\": 99, \"Ahmed\": 80, \"Kamran\": 79}\\nprint(max(marks.keys()))', '# Example 5: Dictionary values ka max\\nmarks = {\"Sher Khan\": 99, \"Ahmed\": 80, \"Kamran\": 79}\\nprint(max(marks.values()))', 'marks = {80, 50, 99, 88, 62}\\nprint(max(marks))', '# Example 1: List ka minimum\\nnum1 = [20, 80, 100, 30, 40, 50, 70]\\nprint(min(num1))\\n\\nnum2 = [10, 3, 5, 8, 9, 2, 1, 4 , 6, 7]\\nprint(min(num2))\\n\\nnum3 = [390239348902389, 390239348902319, 390239348902229, 390231348902389 ]\\nprint(min(num3))', '# Example 2: Strings alphabetically\\nnames = [\"adeel\", \"aliya\", \"mariyam\", \"amen\", \"ameen\", \"roman\"]\\nprint(min(names))', '# Example 2: Strings alphabetically\\nnames = [\"adeel\", \"aliya\", \"mariyam\", \"amen\", \"ameen\", \"roman\"]\\nprint(min(names, key=len))', '# Example 3: Multiple arguments ke sath\\nprint(min(30, 10, 80, 100, 70, 20, 60))', '# Example 4: Key parameter ke sath\\nwords = [\"Python\", \"Pandas\", \"Numpy\", \"Matplotlib\", \"Seaborn\", \"Machine learning\", \"sklearn\", \"pytourch\", \"deep learning\"]\\nprint(min(words))', '# Example 5: Dictionary values ka min', '# Example 1: Positive number ka abs', '# Example 2: Negative number ka abs', '# Example 3: Floating point number', '# Example 5: Dictionary values ka min\\nmarks = {\"ali\": 88, \"sara\": 92, \"usman\": 79}\\nprint(min(marks))', '# Example 5: Dictionary values ka min\\nmarks = {\"ali\": 88, \"sara\": 92, \"usman\": 79}\\nprint(min(marks.values()))', '# Example 1: Positive number ka abs\\nprint(abs(-8))', '# Example 1: Positive number ka abs\\nprint(abs(-8))\\nprint(abs(-10))\\nprint(abs(-100))\\nprint(abs(-20))\\nprint(abs(-60))', '# Example 2: Negative number ka abs\\nprint(abs(-25))', '# Example 3: Floating point number\\nprint(abs(-2.5))\\nprint(abs(-20.5))\\nprint(abs(-10.6))\\nprint(abs(-80.5))', '# Example 4: Difference between two numbers', '# Example 4: Difference between two numbers\\n\\na, b = 10, 5\\nprint(a -b)', '# Example 4: Difference between two numbers\\n\\na, b = 10, 5\\nprint(abs(a-b))', '# Example 5: Complex number ka abs\\nz = -30 + 5j\\nprint(abs(z))', '# Example 1: Simple rounding\\nprint(round(3.5))', '# Example 2: Down rounding\\nprint(round(3.3))', '# Example 3: Decimal places specify karna', '# Example 4: Negative numbers rounding', '# Example 5: Financial rounding example', '# Example 1: Simple rounding\\nprint(round(3.5))\\nprint(round(10.5))\\nprint(round(5.5))\\nprint(round(7.5))', '# Example 3: Decimal places specify karna\\nprint(round(3.14159, 2))', '# Example 4: Negative numbers rounding\\nprint(round(-2.8))', '# Example 5: Financial rounding example\\nprice = 40.987\\nprint(round(price, 7))', '----------------------------------------------------------------------------------------------', '# Example 1: Integer type\\nnum = 100\\nprint(type(num))', '# Example 2: String type\\nword = \"Python\"\\nprint(type(word))', '# Example 3: List type\\nfruits = [\"apple\", \"banana\", \"cherry\", \"orange\", \"water melon\"]\\nprint(type(fruits))', '# Example 4: Boolean type\\nis_valid = True\\nprint(type(is_valid))', '# Example 5: Tuple type\\nnumbers = (10, 20, 30, 40, 50)\\nprint(type(numbers))', 'marks = {\"sher khan\": 88, \"sajid\": 99, \"suhail\": 30, \"ahmed\": 100}\\nprint(type(marks))', 'skills = {\"Python\", \"Numpy\", \"Pandas\", \"Matplotlib\", \"Numpy\", \"sklearn\", \"Python\"}\\nprint(type(skills))', 'marks = frozenset(\"Math\", \"Biology\", \"Physics\", \"English\")\\nprint(type(marks))', 'marks = frozenset(\"Math\")\\nprint(type(marks))', '#  Example 1: Integer check\\nnum = 20\\nprint(num.isinstance())', '#  Example 1: Integer check\\nnum = 20\\nprint(isinstance(num))', '#  Example 1: Integer check\\nnum = 20\\nprint(isinstance(num, int))', '#  Example 1: Integer check\\nnum = 20\\nprint(isinstance(num, int))\\n\\nnum1 = 300\\nprint(isinstance(num1, int))', '#  Example 1: Integer check\\nnum = 20\\nprint(isinstance(num, int))\\n\\nnum1 = 300\\nprint(isinstance(num1, int))\\n\\nnum3 = 804\\nprint(isinstance(num3, int))', '#  Example 1: Integer check\\nnum = 20\\nprint(isinstance(num, int))\\n\\nnum1 = 300\\nprint(isinstance(num1, int))\\n\\nnum3 = 804\\nprint(isinstance(num3, int))\\n\\nnum4 = 352\\nprint(isinstance(num4, int))', '#  Example 1: Integer check\\nnum = 20\\nprint(isinstance(num, int))\\n\\nnum1 = 300\\nprint(isinstance(num1, int))\\n\\nnum3 = 804\\nprint(isinstance(num3, int))\\n\\nnum4 = 352\\nprint(isinstance(num4, int))\\n\\nnum5 = 30\\nprint(isinstance(num5,float)) ', '# Example 2: String check\\nfavorite_leanguage = \"Python\"\\nprint(isinstance(favorite_leanguage, str))', '# Example 3: Multiple type check', '# Example 4: List check', '# Example 2: String check\\nfavorite_leanguage = \"Python\"\\nprint(isinstance(favorite_leanguage, str))\\n\\nname = \"Sher Khan\"\\nprint(isinstance(name, str))', '# Example 3: Multiple type check\\nvalues = 3.15\\nprint(isinstance(values, (int, float)))', '# Example 3: Multiple type check\\nvalue1 = 3.15\\nprint(isinstance(values, (int, float)))\\n\\nvalue2 = 100\\nprint(isinstance(value2, (int, float)))\\n\\nvalue3 = 20 + 3j\\nprint(isinstance(value3, (complex, int)))\\n\\nword = \"Python\"\\nprint(isinstance(word, (str, int)))', '# Example 4: List check\\n\\nitems = [\"fruits\", \"milk\", \"bread\", \"butter\", \"suger\", \"rise\"]\\nprint(isinstance(items, list))', '# Example 5: Boolean check\\nis_valid = True\\nprint(isinstance(is_valid, bool))', '# Example 1: ID of an integer\\n\\nnum1 = 10\\nprint(id(num1))\\n\\nnum2 = 3820\\nprint(id(num2))\\n\\nnum3 = 40\\nprint(id(num3))', '# Example 2: ID of a string', 'print(9667152)', '# Example 2: ID of a string\\nname = \"sher khan\"\\nprint(id(name))', '# Example 2: ID of a string\\nname = \"sher khan\"\\nprint(id(name))\\n\\nskill = \"Data Scienctist\"\\nprint(id(skill))\\n\\nfav_leanguage = \"Python\"\\nprint(id(fav_leanguage))', '# Example 3: ID of a list\\n\\nlst = [10 , 20, 30, 40, 50]\\nprint(id(lst))', '# Example 4: Same object comparison\\n\\na = [1, 2]\\nb = a\\nprint(id(a) == id(b))', '# Example 5: Different object with same value\\n\\nx = [10, 20, 30]\\ny = [10, 20, 30]\\nprint(id(x) == id(y))', '-----------------------------------------------------------------------------------------------', '# Example 1: Attributes of a string', '# Example 1: Attributes of a string\\n\\nprint(dir(\"sher khan\"))\\nprint(dir(\"Python\"))', '# Example 1: Attributes of a string\\n\\nprint(dir(\"sher khan\"))', 'print(\"Python\")', 'print(\"Python\")\\nprint(dir(\"Python\"))', '# Example 2: Attributes of a list\\n\\nfruits = [\"apple\", \"banana\", \"cherry\"]\\nprint(dir(fruits))', '# Example 3: Attributes of a dictionary\\n\\nmarks = {\"sher khan\": 99, \"ibrahim\": 88, \"Kamran\": 70, \"Ahmed\": 62}\\nprint(dir(marks))', '# Attributes of a Tuple\\nmarks = (88, 99, 63, 50, 82)\\nprint(dir(marks))', '# Attributes of set\\nnum = {10, 100, 20, 80, 60, 30}\\nprint(dir(num))', '# Example 4: Built-in functions in current scope\\n\\nprint(dir())', '# Example 5: Custom class attributes\\n\\nclass student:\\n    def __init__(self, name):\\n        self.name = name\\n\\ns = student(\"sher khan\")\\nprint(dir(s))', '# Example 1: Help on a built-in function\\n\\nhelp(len)', 'help(print)', 'help(input)', 'help(id)', 'help(def)', 'help(abs)', '# Example 2: Help on string methods\\n\\nprint(str.upper)', '# Example 2: Help on string methods\\n\\nhelp(str.upper)', 'help(str.lower)', 'help(str.split)', 'help(str.remove)', 'dir(str)', 'help(str.swapcase)', 'help(str.zfill)', 'help(str.strip)', 'help(str.endswith)', '# Example 3: Help on a module\\n\\nimport math\\nhelp(math)', '# Example 4: Help on a custom function\\ndef greet(name):\\n    \"\"\"Prints a greeting message\"\"\"\\n    print(f\"Hello, {name}\")\\nhelp(greet)', '# Example 5: Help on a class\\n\\nclass student:\\n    \"\"\"R', '# Example 5: Help on a class\\n\\nclass student:\\n    \"\"\"Represents a student\"\"\"\\n    def __init__(self, name):\\n        self.name = name\\nhelp(student)', '# Example 1: Object attributes\\n\\nclass student:\\n    def __init__(self, name , age):\\n        self.name = name\\n        self.age = age\\ns = Student(\"Sher Khan\", 20)\\nprint(vars(s))', '# Example 1: Object attributes\\n\\nclass student:\\n    def __init__(self, name , age):\\n        self.name = name\\n        self.age = age\\ns = student(\"Sher Khan\", 20)\\nprint(vars(s))', \"# Example 2: Modify attributes\\nattr = vars(s)\\nattr['age'] = 25\\nprint(vars(s))\", '# Example 3: Empty vars\\n\\nprint(vars())'], 'Out': {100: ['__add__', '__class__', '__contains__', '__delattr__', '__dir__', '__doc__', '__eq__', '__format__', '__ge__', '__getattribute__', '__getitem__', '__getnewargs__', '__getstate__', '__gt__', '__hash__', '__init__', '__init_subclass__', '__iter__', '__le__', '__len__', '__lt__', '__mod__', '__mul__', '__ne__', '__new__', '__reduce__', '__reduce_ex__', '__repr__', '__rmod__', '__rmul__', '__setattr__', '__sizeof__', '__str__', '__subclasshook__', 'capitalize', 'casefold', 'center', 'count', 'encode', 'endswith', 'expandtabs', 'find', 'format', 'format_map', 'index', 'isalnum', 'isalpha', 'isascii', 'isdecimal', 'isdigit', 'isidentifier', 'islower', 'isnumeric', 'isprintable', 'isspace', 'istitle', 'isupper', 'join', 'ljust', 'lower', 'lstrip', 'maketrans', 'partition', 'removeprefix', 'removesuffix', 'replace', 'rfind', 'rindex', 'rjust', 'rpartition', 'rsplit', 'rstrip', 'split', 'splitlines', 'startswith', 'strip', 'swapcase', 'title', 'translate', 'upper', 'zfill']}, 'get_ipython': <bound method InteractiveShell.get_ipython of <ipykernel.zmqshell.ZMQInteractiveShell object at 0x705c6c1f5940>>, 'exit': <IPython.core.autocall.ZMQExitAutocall object at 0x705c6c09da90>, 'quit': <IPython.core.autocall.ZMQExitAutocall object at 0x705c6c09da90>, 'open': <function open at 0x705c6f226980>, '_': ['__add__', '__class__', '__contains__', '__delattr__', '__dir__', '__doc__', '__eq__', '__format__', '__ge__', '__getattribute__', '__getitem__', '__getnewargs__', '__getstate__', '__gt__', '__hash__', '__init__', '__init_subclass__', '__iter__', '__le__', '__len__', '__lt__', '__mod__', '__mul__', '__ne__', '__new__', '__reduce__', '__reduce_ex__', '__repr__', '__rmod__', '__rmul__', '__setattr__', '__sizeof__', '__str__', '__subclasshook__', 'capitalize', 'casefold', 'center', 'count', 'encode', 'endswith', 'expandtabs', 'find', 'format', 'format_map', 'index', 'isalnum', 'isalpha', 'isascii', 'isdecimal', 'isdigit', 'isidentifier', 'islower', 'isnumeric', 'isprintable', 'isspace', 'istitle', 'isupper', 'join', 'ljust', 'lower', 'lstrip', 'maketrans', 'partition', 'removeprefix', 'removesuffix', 'replace', 'rfind', 'rindex', 'rjust', 'rpartition', 'rsplit', 'rstrip', 'split', 'splitlines', 'startswith', 'strip', 'swapcase', 'title', 'translate', 'upper', 'zfill'], '__': '', '___': '', '__session__': '/home/sheraking/Desktop/#03 Data Science Git Hub Repository/#01 Basic Python repository for github/#01 Python_BuiltIn_Functions/Jupyter/Python_BuiltIn_Functions_Masterclass.ipynb.ipynb', '_i': \"# Example 2: Modify attributes\\nattr = vars(s)\\nattr['age'] = 25\\nprint(vars(s))\", '_ii': '# Example 1: Object attributes\\n\\nclass student:\\n    def __init__(self, name , age):\\n        self.name = name\\n        self.age = age\\ns = student(\"Sher Khan\", 20)\\nprint(vars(s))', '_iii': '# Example 1: Object attributes\\n\\nclass student:\\n    def __init__(self, name , age):\\n        self.name = name\\n        self.age = age\\ns = Student(\"Sher Khan\", 20)\\nprint(vars(s))', '_i1': '# Example 5: Object representation\\n\\nclass student:\\n    def __init__(self, name):\\n        self.name = name\\n\\nobj = student(\"ahmed\")\\nprint(repr(obj))', 'student': <class '__main__.student'>, 'obj': <__main__.student object at 0x705c5d7f5400>, '_i2': '---------------------------------------------------------------------------------', '_i3': '----------------------------------------------------------------------------------', '_i4': '---------------------------------------------------------------------------------', '_i5': '# Example 4: Key parameter use karna\\nwords = [ \"Python\", \"AI\", \"Pandas\", \"Numpy\", \"Machine Learning\", \"Deep Learning\"]\\nprint(max(words))', 'words': ['Python', 'Pandas', 'Numpy', 'Matplotlib', 'Seaborn', 'Machine learning', 'sklearn', 'pytourch', 'deep learning'], '_i6': '# Example 4: Key parameter use karna\\nwords = [ \"Python\", \"AI\", \"Pandas\", \"Numpy\", \"Machine Learning\", \"Deep Learning\"]\\nprint(max(words))', '_i7': '# Example 4: Key parameter use karna\\nwords = [ \"Python\", \"AI\", \"Pandas\", \"Numpy\", \"Machine Learning\", \"Deep Learning\"]\\nprint(max(words))', '_i8': '# Example 4: Key parameter use karna\\nwords = [\"AI\", \"Python\", \"Pandas\", \"Numpy\", \"Machine Learning\", \"Deep Learning\"]\\nprint(max(words))', '_i9': '# Example 4: Key parameter use karna\\nwords = [\"AI\", \"Python\", \"Pandas\", \"Numpy\", \"Machine Learning\", \"Deep Learning\"]\\nprint(max(words key=len))', '_i10': '# Example 4: Key parameter use karna\\nwords = [\"AI\", \"Python\", \"Pandas\", \"Numpy\", \"Machine Learning\", \"Deep Learning\"]\\nprint(max(words, key=len))', '_i11': '# Example 5: Dictionary values ka max\\nmarks = {\"Sher Khan\": 99, \"Ahmed\": 80, \"Kamran\": 79}\\nprint(max(marks.values()))', 'marks': (88, 99, 63, 50, 82), '_i12': '# Example 5: Dictionary values ka max\\nmarks = {\"Sher Khan\": 99, \"Ahmed\": 80, \"Kamran\": 79}\\nprint(max(marks.key()))', '_i13': '# Example 5: Dictionary values ka max\\nmarks = {\"Sher Khan\": 99, \"Ahmed\": 80, \"Kamran\": 79}\\nprint(max(marks.keys()))', '_i14': '# Example 5: Dictionary values ka max\\nmarks = {\"Sher Khan\": 99, \"Ahmed\": 80, \"Kamran\": 79}\\nprint(max(marks.values()))', '_i15': 'marks = {80, 50, 99, 88, 62}\\nprint(max(marks))', '_i16': '# Example 1: List ka minimum\\nnum1 = [20, 80, 100, 30, 40, 50, 70]\\nprint(min(num1))\\n\\nnum2 = [10, 3, 5, 8, 9, 2, 1, 4 , 6, 7]\\nprint(min(num2))\\n\\nnum3 = [390239348902389, 390239348902319, 390239348902229, 390231348902389 ]\\nprint(min(num3))', 'num1': 10, 'num2': 3820, 'num3': 40, '_i17': '# Example 2: Strings alphabetically\\nnames = [\"adeel\", \"aliya\", \"mariyam\", \"amen\", \"ameen\", \"roman\"]\\nprint(min(names))', 'names': ['adeel', 'aliya', 'mariyam', 'amen', 'ameen', 'roman'], '_i18': '# Example 2: Strings alphabetically\\nnames = [\"adeel\", \"aliya\", \"mariyam\", \"amen\", \"ameen\", \"roman\"]\\nprint(min(names, key=len))', '_i19': '# Example 3: Multiple arguments ke sath\\nprint(min(30, 10, 80, 100, 70, 20, 60))', '_i20': '# Example 4: Key parameter ke sath\\nwords = [\"Python\", \"Pandas\", \"Numpy\", \"Matplotlib\", \"Seaborn\", \"Machine learning\", \"sklearn\", \"pytourch\", \"deep learning\"]\\nprint(min(words))', '_i21': '# Example 5: Dictionary values ka min', '_i22': '# Example 1: Positive number ka abs', '_i23': '# Example 2: Negative number ka abs', '_i24': '# Example 3: Floating point number', '_i25': '# Example 5: Dictionary values ka min\\nmarks = {\"ali\": 88, \"sara\": 92, \"usman\": 79}\\nprint(min(marks))', '_i26': '# Example 5: Dictionary values ka min\\nmarks = {\"ali\": 88, \"sara\": 92, \"usman\": 79}\\nprint(min(marks.values()))', '_i27': '# Example 1: Positive number ka abs\\nprint(abs(-8))', '_i28': '# Example 1: Positive number ka abs\\nprint(abs(-8))\\nprint(abs(-10))\\nprint(abs(-100))\\nprint(abs(-20))\\nprint(abs(-60))', '_i29': '# Example 2: Negative number ka abs\\nprint(abs(-25))', '_i30': '# Example 3: Floating point number\\nprint(abs(-2.5))\\nprint(abs(-20.5))\\nprint(abs(-10.6))\\nprint(abs(-80.5))', '_i31': '# Example 4: Difference between two numbers', '_i32': '# Example 4: Difference between two numbers\\n\\na, b = 10, 5\\nprint(a -b)', 'a': [1, 2], 'b': [1, 2], '_i33': '# Example 4: Difference between two numbers\\n\\na, b = 10, 5\\nprint(abs(a-b))', '_i34': '# Example 5: Complex number ka abs\\nz = -30 + 5j\\nprint(abs(z))', 'z': (-30+5j), '_i35': '# Example 1: Simple rounding\\nprint(round(3.5))', '_i36': '# Example 2: Down rounding\\nprint(round(3.3))', '_i37': '# Example 3: Decimal places specify karna', '_i38': '# Example 4: Negative numbers rounding', '_i39': '# Example 5: Financial rounding example', '_i40': '# Example 1: Simple rounding\\nprint(round(3.5))\\nprint(round(10.5))\\nprint(round(5.5))\\nprint(round(7.5))', '_i41': '# Example 3: Decimal places specify karna\\nprint(round(3.14159, 2))', '_i42': '# Example 4: Negative numbers rounding\\nprint(round(-2.8))', '_i43': '# Example 5: Financial rounding example\\nprice = 40.987\\nprint(round(price, 7))', 'price': 40.987, '_i44': '----------------------------------------------------------------------------------------------', '_i45': '# Example 1: Integer type\\nnum = 100\\nprint(type(num))', 'num': {80, 100, 20, 10, 60, 30}, '_i46': '# Example 2: String type\\nword = \"Python\"\\nprint(type(word))', 'word': 'Python', '_i47': '# Example 3: List type\\nfruits = [\"apple\", \"banana\", \"cherry\", \"orange\", \"water melon\"]\\nprint(type(fruits))', 'fruits': ['apple', 'banana', 'cherry'], '_i48': '# Example 4: Boolean type\\nis_valid = True\\nprint(type(is_valid))', 'is_valid': True, '_i49': '# Example 5: Tuple type\\nnumbers = (10, 20, 30, 40, 50)\\nprint(type(numbers))', 'numbers': (10, 20, 30, 40, 50), '_i50': 'marks = {\"sher khan\": 88, \"sajid\": 99, \"suhail\": 30, \"ahmed\": 100}\\nprint(type(marks))', '_i51': 'skills = {\"Python\", \"Numpy\", \"Pandas\", \"Matplotlib\", \"Numpy\", \"sklearn\", \"Python\"}\\nprint(type(skills))', 'skills': {'Pandas', 'Numpy', 'Matplotlib', 'Python', 'sklearn'}, '_i52': 'marks = frozenset(\"Math\", \"Biology\", \"Physics\", \"English\")\\nprint(type(marks))', '_i53': 'marks = frozenset(\"Math\")\\nprint(type(marks))', '_i54': '#  Example 1: Integer check\\nnum = 20\\nprint(num.isinstance())', '_i55': '#  Example 1: Integer check\\nnum = 20\\nprint(isinstance(num))', '_i56': '#  Example 1: Integer check\\nnum = 20\\nprint(isinstance(num, int))', '_i57': '#  Example 1: Integer check\\nnum = 20\\nprint(isinstance(num, int))\\n\\nnum1 = 300\\nprint(isinstance(num1, int))', '_i58': '#  Example 1: Integer check\\nnum = 20\\nprint(isinstance(num, int))\\n\\nnum1 = 300\\nprint(isinstance(num1, int))\\n\\nnum3 = 804\\nprint(isinstance(num3, int))', '_i59': '#  Example 1: Integer check\\nnum = 20\\nprint(isinstance(num, int))\\n\\nnum1 = 300\\nprint(isinstance(num1, int))\\n\\nnum3 = 804\\nprint(isinstance(num3, int))\\n\\nnum4 = 352\\nprint(isinstance(num4, int))', 'num4': 352, '_i60': '#  Example 1: Integer check\\nnum = 20\\nprint(isinstance(num, int))\\n\\nnum1 = 300\\nprint(isinstance(num1, int))\\n\\nnum3 = 804\\nprint(isinstance(num3, int))\\n\\nnum4 = 352\\nprint(isinstance(num4, int))\\n\\nnum5 = 30\\nprint(isinstance(num5,float)) ', 'num5': 30, '_i61': '# Example 2: String check\\nfavorite_leanguage = \"Python\"\\nprint(isinstance(favorite_leanguage, str))', 'favorite_leanguage': 'Python', '_i62': '# Example 3: Multiple type check', '_i63': '# Example 4: List check', '_i64': '# Example 2: String check\\nfavorite_leanguage = \"Python\"\\nprint(isinstance(favorite_leanguage, str))\\n\\nname = \"Sher Khan\"\\nprint(isinstance(name, str))', 'name': 'sher khan', '_i65': '# Example 3: Multiple type check\\nvalues = 3.15\\nprint(isinstance(values, (int, float)))', 'values': 3.15, '_i66': '# Example 3: Multiple type check\\nvalue1 = 3.15\\nprint(isinstance(values, (int, float)))\\n\\nvalue2 = 100\\nprint(isinstance(value2, (int, float)))\\n\\nvalue3 = 20 + 3j\\nprint(isinstance(value3, (complex, int)))\\n\\nword = \"Python\"\\nprint(isinstance(word, (str, int)))', 'value1': 3.15, 'value2': 100, 'value3': (20+3j), '_i67': '# Example 4: List check\\n\\nitems = [\"fruits\", \"milk\", \"bread\", \"butter\", \"suger\", \"rise\"]\\nprint(isinstance(items, list))', 'items': ['fruits', 'milk', 'bread', 'butter', 'suger', 'rise'], '_i68': '# Example 5: Boolean check\\nis_valid = True\\nprint(isinstance(is_valid, bool))', '_i69': '# Example 1: ID of an integer\\n\\nnum1 = 10\\nprint(id(num1))\\n\\nnum2 = 3820\\nprint(id(num2))\\n\\nnum3 = 40\\nprint(id(num3))', '_i70': '# Example 2: ID of a string', '_i71': 'print(9667152)', '_i72': '# Example 2: ID of a string\\nname = \"sher khan\"\\nprint(id(name))', '_i73': '# Example 2: ID of a string\\nname = \"sher khan\"\\nprint(id(name))\\n\\nskill = \"Data Scienctist\"\\nprint(id(skill))\\n\\nfav_leanguage = \"Python\"\\nprint(id(fav_leanguage))', 'skill': 'Data Scienctist', 'fav_leanguage': 'Python', '_i74': '\\n# Example 3: ID of a list\\n\\nlst = [10 , 20, 30, 40, 50]\\nprint(id(lst))', 'lst': [10, 20, 30, 40, 50], '_i75': '\\n# Example 4: Same object comparison\\n\\na = [1, 2]\\nb = a\\nprint(id(a) == id(b))', '_i76': '# Example 5: Different object with same value\\n\\nx = [10, 20, 30]\\ny = [10, 20, 30]\\nprint(id(x) == id(y))', 'x': [10, 20, 30], 'y': [10, 20, 30], '_i77': '-----------------------------------------------------------------------------------------------', '_i78': '# Example 1: Attributes of a string', '_i79': '# Example 1: Attributes of a string\\n\\nprint(dir(\"sher khan\"))\\nprint(dir(\"Python\"))', '_i80': '# Example 1: Attributes of a string\\n\\nprint(dir(\"sher khan\"))', '_i81': 'print(\"Python\")', '_i82': 'print(\"Python\")\\nprint(dir(\"Python\"))', '_i83': '# Example 2: Attributes of a list\\n\\nfruits = [\"apple\", \"banana\", \"cherry\"]\\nprint(dir(fruits))', '_i84': '# Example 3: Attributes of a dictionary\\n\\nmarks = {\"sher khan\": 99, \"ibrahim\": 88, \"Kamran\": 70, \"Ahmed\": 62}\\nprint(dir(marks))', '_i85': '# Attributes of a Tuple\\nmarks = (88, 99, 63, 50, 82)\\nprint(dir(marks))', '_i86': '# Attributes of set\\nnum = {10, 100, 20, 80, 60, 30}\\nprint(dir(num))', '_i87': '# Example 4: Built-in functions in current scope\\n\\nprint(dir())', '_i88': '# Example 5: Custom class attributes\\n\\nclass student:\\n    def __init__(self, name):\\n        self.name = name\\n\\ns = student(\"sher khan\")\\nprint(dir(s))', 's': <__main__.student object at 0x705c4774ef90>, '_i89': '# Example 1: Help on a built-in function\\n\\nhelp(len)', '_i90': 'help(print)', '_i91': 'help(input)', '_i92': 'help(id)', '_i93': 'help(def)', '_i94': 'help(abs)', '_i95': '# Example 2: Help on string methods\\n\\nprint(str.upper)', '_i96': '# Example 2: Help on string methods\\n\\nhelp(str.upper)', '_i97': 'help(str.lower)', '_i98': 'help(str.split)', '_i99': 'help(str.remove)', '_i100': 'dir(str)', '_100': ['__add__', '__class__', '__contains__', '__delattr__', '__dir__', '__doc__', '__eq__', '__format__', '__ge__', '__getattribute__', '__getitem__', '__getnewargs__', '__getstate__', '__gt__', '__hash__', '__init__', '__init_subclass__', '__iter__', '__le__', '__len__', '__lt__', '__mod__', '__mul__', '__ne__', '__new__', '__reduce__', '__reduce_ex__', '__repr__', '__rmod__', '__rmul__', '__setattr__', '__sizeof__', '__str__', '__subclasshook__', 'capitalize', 'casefold', 'center', 'count', 'encode', 'endswith', 'expandtabs', 'find', 'format', 'format_map', 'index', 'isalnum', 'isalpha', 'isascii', 'isdecimal', 'isdigit', 'isidentifier', 'islower', 'isnumeric', 'isprintable', 'isspace', 'istitle', 'isupper', 'join', 'ljust', 'lower', 'lstrip', 'maketrans', 'partition', 'removeprefix', 'removesuffix', 'replace', 'rfind', 'rindex', 'rjust', 'rpartition', 'rsplit', 'rstrip', 'split', 'splitlines', 'startswith', 'strip', 'swapcase', 'title', 'translate', 'upper', 'zfill'], '_i101': 'help(str.swapcase)', '_i102': 'help(str.zfill)', '_i103': 'help(str.strip)', '_i104': 'help(str.endswith)', '_i105': '# Example 3: Help on a module\\n\\nimport math\\nhelp(math)', 'math': <module 'math' from '/home/sheraking/anaconda3/lib/python3.13/lib-dynload/math.cpython-313-x86_64-linux-gnu.so'>, '_i106': '# Example 4: Help on a custom function\\ndef greet(name):\\n    \"\"\"Prints a greeting message\"\"\"\\n    print(f\"Hello, {name}\")\\nhelp(greet)', 'greet': <function greet at 0x705c477d67a0>, '_i107': '# Example 5: Help on a class\\n\\nclass student:\\n    \"\"\"R', '_i108': '# Example 5: Help on a class\\n\\nclass student:\\n    \"\"\"Represents a student\"\"\"\\n    def __init__(self, name):\\n        self.name = name\\nhelp(student)', '_i109': '# Example 1: Object attributes\\n\\nclass student:\\n    def __init__(self, name , age):\\n        self.name = name\\n        self.age = age\\ns = Student(\"Sher Khan\", 20)\\nprint(vars(s))', '_i110': '# Example 1: Object attributes\\n\\nclass student:\\n    def __init__(self, name , age):\\n        self.name = name\\n        self.age = age\\ns = student(\"Sher Khan\", 20)\\nprint(vars(s))', '_i111': \"# Example 2: Modify attributes\\nattr = vars(s)\\nattr['age'] = 25\\nprint(vars(s))\", 'attr': {'name': 'Sher Khan', 'age': 25}, '_i112': '# Example 3: Empty vars\\n\\nprint(vars())'}\n"
     ]
    }
   ],
   "source": [
    "# Example 3: Empty vars\n",
    "\n",
    "print(vars())"
   ]
  },
  {
   "cell_type": "code",
   "execution_count": 113,
   "id": "76325747-3519-4f28-b4aa-49b74cad8c33",
   "metadata": {},
   "outputs": [
    {
     "name": "stdout",
     "output_type": "stream",
     "text": [
      "{'x': 10, 'y': 20}\n"
     ]
    }
   ],
   "source": [
    "# Example 4: Using with custom object\n",
    "\n",
    "class Point:\n",
    "    def __init__(self, x , y):\n",
    "        self.x = x \n",
    "        self.y = y\n",
    "p = Point(10, 20)\n",
    "print(vars(p))"
   ]
  },
  {
   "cell_type": "code",
   "execution_count": 114,
   "id": "842c467f-6d66-4830-a151-7d9b96e01a90",
   "metadata": {},
   "outputs": [
    {
     "name": "stdout",
     "output_type": "stream",
     "text": [
      "{'x': 10, 'y': 20, 'z': 30}\n"
     ]
    }
   ],
   "source": [
    "# Example 5: After adding new attribute dynamically\n",
    "\n",
    "p.z = 30\n",
    "print(vars(p))"
   ]
  },
  {
   "cell_type": "markdown",
   "id": "16f4470b-bc04-415f-86ff-4ed454d5a925",
   "metadata": {},
   "source": [
    "### 🔹 4️⃣ globals() Function\n",
    "\n",
    "globals() function **current global scope** ke **variables** aur **functions** ka dictionary return karta hai."
   ]
  },
  {
   "cell_type": "code",
   "execution_count": 2,
   "id": "b4c6ecc7-b3fa-48a1-a5cc-91095afbb950",
   "metadata": {},
   "outputs": [
    {
     "name": "stdout",
     "output_type": "stream",
     "text": [
      "{'__name__': '__main__', '__doc__': 'Automatically created module for IPython interactive environment', '__package__': None, '__loader__': None, '__spec__': None, '__builtin__': <module 'builtins' (built-in)>, '__builtins__': <module 'builtins' (built-in)>, '_ih': ['', '# Example 1: Define a global variable', '# Example 1: Define a global variable\\nx = 10\\nprint(globals())'], '_oh': {}, '_dh': [PosixPath('/home/sheraking/Desktop/#03 Data Science Git Hub Repository/#01 Basic Python repository for github/#01 Python_BuiltIn_Functions/Jupyter')], 'In': ['', '# Example 1: Define a global variable', '# Example 1: Define a global variable\\nx = 10\\nprint(globals())'], 'Out': {}, 'get_ipython': <bound method InteractiveShell.get_ipython of <ipykernel.zmqshell.ZMQInteractiveShell object at 0x77dfdc521940>>, 'exit': <IPython.core.autocall.ZMQExitAutocall object at 0x77dfdc3c5a90>, 'quit': <IPython.core.autocall.ZMQExitAutocall object at 0x77dfdc3c5a90>, 'open': <function open at 0x77dfe1d42980>, '_': '', '__': '', '___': '', '__session__': '/home/sheraking/Desktop/#03 Data Science Git Hub Repository/#01 Basic Python repository for github/#01 Python_BuiltIn_Functions/Jupyter/Python_BuiltIn_Functions_Masterclass.ipynb.ipynb', '_i': '# Example 1: Define a global variable', '_ii': '', '_iii': '', '_i1': '# Example 1: Define a global variable', '_i2': '# Example 1: Define a global variable\\nx = 10\\nprint(globals())', 'x': 10}\n"
     ]
    }
   ],
   "source": [
    "# Example 1: Define a global variable\n",
    "x = 10\n",
    "print(globals())\n"
   ]
  },
  {
   "cell_type": "code",
   "execution_count": 2,
   "id": "654032d1-1376-4b7b-b659-a9f8f1058817",
   "metadata": {},
   "outputs": [
    {
     "name": "stdout",
     "output_type": "stream",
     "text": [
      "{'__name__': '__main__', '__doc__': 'Automatically created module for IPython interactive environment', '__package__': None, '__loader__': None, '__spec__': None, '__builtin__': <module 'builtins' (built-in)>, '__builtins__': <module 'builtins' (built-in)>, '_ih': ['', \"# Example 4: Modify global variable dynamically\\n\\ng['x'] = 20\\nprint(x)\", '# Example 2: Global function\\n\\ndef greet():\\n    return(\"Hello!\")\\nprint(globals())'], '_oh': {}, '_dh': [PosixPath('/home/sheraking/Desktop/#03 Data Science Git Hub Repository/#01 Basic Python repository for github/#01 Python_BuiltIn_Functions/Jupyter')], 'In': ['', \"# Example 4: Modify global variable dynamically\\n\\ng['x'] = 20\\nprint(x)\", '# Example 2: Global function\\n\\ndef greet():\\n    return(\"Hello!\")\\nprint(globals())'], 'Out': {}, 'get_ipython': <bound method InteractiveShell.get_ipython of <ipykernel.zmqshell.ZMQInteractiveShell object at 0x7036fcfb5940>>, 'exit': <IPython.core.autocall.ZMQExitAutocall object at 0x7036fce5da90>, 'quit': <IPython.core.autocall.ZMQExitAutocall object at 0x7036fce5da90>, 'open': <function open at 0x703706802980>, '_': '', '__': '', '___': '', '__session__': '/home/sheraking/Desktop/#03 Data Science Git Hub Repository/#01 Basic Python repository for github/#01 Python_BuiltIn_Functions/Jupyter/Python_BuiltIn_Functions_Masterclass.ipynb.ipynb', '_i': \"# Example 4: Modify global variable dynamically\\n\\ng['x'] = 20\\nprint(x)\", '_ii': '', '_iii': '', '_i1': \"# Example 4: Modify global variable dynamically\\n\\ng['x'] = 20\\nprint(x)\", '_i2': '# Example 2: Global function\\n\\ndef greet():\\n    return(\"Hello!\")\\nprint(globals())', 'greet': <function greet at 0x7036e2fd1620>}\n"
     ]
    }
   ],
   "source": [
    "# Example 2: Global function\n",
    "\n",
    "def greet():\n",
    "    return(\"Hello!\")\n",
    "print(globals())"
   ]
  },
  {
   "cell_type": "code",
   "execution_count": 3,
   "id": "70bcf614-d006-4d5f-8dee-614c1bd00cc1",
   "metadata": {},
   "outputs": [
    {
     "ename": "KeyError",
     "evalue": "'x'",
     "output_type": "error",
     "traceback": [
      "\u001b[0;31m---------------------------------------------------------------------------\u001b[0m",
      "\u001b[0;31mKeyError\u001b[0m                                  Traceback (most recent call last)",
      "Cell \u001b[0;32mIn[3], line 4\u001b[0m\n\u001b[1;32m      1\u001b[0m \u001b[38;5;66;03m# Example 3: Access a global variable from dict\u001b[39;00m\n\u001b[1;32m      3\u001b[0m g \u001b[38;5;241m=\u001b[39m \u001b[38;5;28mglobals\u001b[39m()\n\u001b[0;32m----> 4\u001b[0m \u001b[38;5;28mprint\u001b[39m(g[\u001b[38;5;124m'\u001b[39m\u001b[38;5;124mx\u001b[39m\u001b[38;5;124m'\u001b[39m])\n",
      "\u001b[0;31mKeyError\u001b[0m: 'x'"
     ]
    }
   ],
   "source": [
    "# Example 3: Access a global variable from dict\n",
    "\n",
    "g = globals()\n",
    "print(g['x'])"
   ]
  },
  {
   "cell_type": "code",
   "execution_count": 4,
   "id": "ac095b64-6b5b-4928-9d78-25253a3153ee",
   "metadata": {},
   "outputs": [
    {
     "name": "stdout",
     "output_type": "stream",
     "text": [
      "20\n"
     ]
    }
   ],
   "source": [
    "# Example 4: Modify global variable dynamically\n",
    "\n",
    "g['x'] = 20\n",
    "print(x)"
   ]
  },
  {
   "cell_type": "code",
   "execution_count": 5,
   "id": "61871301-be1a-41b1-921f-acf52f9e40c0",
   "metadata": {},
   "outputs": [
    {
     "name": "stdout",
     "output_type": "stream",
     "text": [
      "x exists globally\n"
     ]
    }
   ],
   "source": [
    "# Example 5: Check existence of variable\n",
    "\n",
    "if 'x' in globals():\n",
    "    print(\"x exists globally\")"
   ]
  },
  {
   "cell_type": "markdown",
   "id": "2c16dbcb-f72e-4287-a938-8ccda3b3bdd1",
   "metadata": {},
   "source": [
    "### 🔹 5️⃣ locals() Function\n",
    "\n",
    "\n",
    "locals() function **current local scope** ke **variables** ka dictionary return karta hai.\n",
    "Ye mostly function ke **andar** use hota hai."
   ]
  },
  {
   "cell_type": "code",
   "execution_count": 6,
   "id": "46041977-6425-44cd-b702-b31b66b6d92e",
   "metadata": {},
   "outputs": [
    {
     "name": "stdout",
     "output_type": "stream",
     "text": [
      "{'a': 5, 'b': 10}\n"
     ]
    }
   ],
   "source": [
    "\n",
    "# Example 1: Local variables inside function\n",
    "def my_func():\n",
    "    a = 5\n",
    "    b = 10\n",
    "    print(locals())\n",
    "my_func()"
   ]
  },
  {
   "cell_type": "code",
   "execution_count": 9,
   "id": "1fe67036-d21b-4aad-a12d-5e91fbfa6570",
   "metadata": {},
   "outputs": [
    {
     "name": "stdout",
     "output_type": "stream",
     "text": [
      "{'y': 200}\n"
     ]
    }
   ],
   "source": [
    "# Example 2: Nested function locals\n",
    "\n",
    "def outer():\n",
    "    x = 100\n",
    "    def inner():\n",
    "        y = 200\n",
    "        print(locals())\n",
    "    inner()\n",
    "outer()\n"
   ]
  },
  {
   "cell_type": "code",
   "execution_count": 10,
   "id": "c2eb2194-fd84-4f81-bf45-36b2c1da76df",
   "metadata": {},
   "outputs": [
    {
     "name": "stdout",
     "output_type": "stream",
     "text": [
      "1\n"
     ]
    }
   ],
   "source": [
    "# Example 3: Modifying local variables\n",
    "\n",
    "def f():\n",
    "    x = 1\n",
    "    l = locals()\n",
    "    l['x'] = 10\n",
    "    print(x)\n",
    "f()"
   ]
  },
  {
   "cell_type": "code",
   "execution_count": 11,
   "id": "69e43f43-ea52-4821-a198-7269cc450be1",
   "metadata": {},
   "outputs": [
    {
     "name": "stdout",
     "output_type": "stream",
     "text": [
      "{'__name__': '__main__', '__doc__': 'Automatically created module for IPython interactive environment', '__package__': None, '__loader__': None, '__spec__': None, '__builtin__': <module 'builtins' (built-in)>, '__builtins__': <module 'builtins' (built-in)>, '_ih': ['', \"# Example 4: Modify global variable dynamically\\n\\ng['x'] = 20\\nprint(x)\", '# Example 2: Global function\\n\\ndef greet():\\n    return(\"Hello!\")\\nprint(globals())', \"# Example 3: Access a global variable from dict\\n\\ng = globals()\\nprint(g['x'])\", \"# Example 4: Modify global variable dynamically\\n\\ng['x'] = 20\\nprint(x)\", '# Example 5: Check existence of variable\\n\\nif \\'x\\' in globals():\\n    print(\"x exists globally\")', '# Example 1: Local variables inside function\\ndef my_func():\\n    a = 5\\n    b = 10\\n    print(locals())\\nmy_func()', '# Example 2: Nested function locals', '# Example 3: Modifying local variables', '# Example 2: Nested function locals\\n\\ndef outer():\\n    x = 100\\n    def inner():\\n        y = 200\\n        print(locals())\\n    inner()\\nouter()', \"# Example 3: Modifying local variables\\n\\ndef f():\\n    x = 1\\n    l = locals()\\n    l['x'] = 10\\n    print(x)\\nf()\", '# Example 4: Local in loop\\n\\nfor i in range(1):\\n    j = 5\\n    print(locals())'], '_oh': {}, '_dh': [PosixPath('/home/sheraking/Desktop/#03 Data Science Git Hub Repository/#01 Basic Python repository for github/#01 Python_BuiltIn_Functions/Jupyter')], 'In': ['', \"# Example 4: Modify global variable dynamically\\n\\ng['x'] = 20\\nprint(x)\", '# Example 2: Global function\\n\\ndef greet():\\n    return(\"Hello!\")\\nprint(globals())', \"# Example 3: Access a global variable from dict\\n\\ng = globals()\\nprint(g['x'])\", \"# Example 4: Modify global variable dynamically\\n\\ng['x'] = 20\\nprint(x)\", '# Example 5: Check existence of variable\\n\\nif \\'x\\' in globals():\\n    print(\"x exists globally\")', '# Example 1: Local variables inside function\\ndef my_func():\\n    a = 5\\n    b = 10\\n    print(locals())\\nmy_func()', '# Example 2: Nested function locals', '# Example 3: Modifying local variables', '# Example 2: Nested function locals\\n\\ndef outer():\\n    x = 100\\n    def inner():\\n        y = 200\\n        print(locals())\\n    inner()\\nouter()', \"# Example 3: Modifying local variables\\n\\ndef f():\\n    x = 1\\n    l = locals()\\n    l['x'] = 10\\n    print(x)\\nf()\", '# Example 4: Local in loop\\n\\nfor i in range(1):\\n    j = 5\\n    print(locals())'], 'Out': {}, 'get_ipython': <bound method InteractiveShell.get_ipython of <ipykernel.zmqshell.ZMQInteractiveShell object at 0x7036fcfb5940>>, 'exit': <IPython.core.autocall.ZMQExitAutocall object at 0x7036fce5da90>, 'quit': <IPython.core.autocall.ZMQExitAutocall object at 0x7036fce5da90>, 'open': <function open at 0x703706802980>, '_': '', '__': '', '___': '', '__session__': '/home/sheraking/Desktop/#03 Data Science Git Hub Repository/#01 Basic Python repository for github/#01 Python_BuiltIn_Functions/Jupyter/Python_BuiltIn_Functions_Masterclass.ipynb.ipynb', '_i': \"# Example 3: Modifying local variables\\n\\ndef f():\\n    x = 1\\n    l = locals()\\n    l['x'] = 10\\n    print(x)\\nf()\", '_ii': '# Example 2: Nested function locals\\n\\ndef outer():\\n    x = 100\\n    def inner():\\n        y = 200\\n        print(locals())\\n    inner()\\nouter()', '_iii': '# Example 3: Modifying local variables', '_i1': \"# Example 4: Modify global variable dynamically\\n\\ng['x'] = 20\\nprint(x)\", '_i2': '# Example 2: Global function\\n\\ndef greet():\\n    return(\"Hello!\")\\nprint(globals())', 'greet': <function greet at 0x7036e2fd1620>, '_i3': \"# Example 3: Access a global variable from dict\\n\\ng = globals()\\nprint(g['x'])\", 'g': {...}, '_i4': \"# Example 4: Modify global variable dynamically\\n\\ng['x'] = 20\\nprint(x)\", 'x': 20, '_i5': '# Example 5: Check existence of variable\\n\\nif \\'x\\' in globals():\\n    print(\"x exists globally\")', '_i6': '\\n# Example 1: Local variables inside function\\ndef my_func():\\n    a = 5\\n    b = 10\\n    print(locals())\\nmy_func()', 'my_func': <function my_func at 0x7036e2fd2480>, '_i7': '# Example 2: Nested function locals', '_i8': '# Example 3: Modifying local variables', '_i9': '# Example 2: Nested function locals\\n\\ndef outer():\\n    x = 100\\n    def inner():\\n        y = 200\\n        print(locals())\\n    inner()\\nouter()', 'outer': <function outer at 0x7036e2fd32e0>, '_i10': \"# Example 3: Modifying local variables\\n\\ndef f():\\n    x = 1\\n    l = locals()\\n    l['x'] = 10\\n    print(x)\\nf()\", 'f': <function f at 0x7036e2fd28e0>, '_i11': '# Example 4: Local in loop\\n\\nfor i in range(1):\\n    j = 5\\n    print(locals())', 'i': 0, 'j': 5}\n"
     ]
    }
   ],
   "source": [
    "# Example 4: Local in loop\n",
    "\n",
    "for i in range(1):\n",
    "    j = 5\n",
    "    print(locals())\n"
   ]
  },
  {
   "cell_type": "code",
   "execution_count": 12,
   "id": "b2fdddce-f9aa-4bae-9385-5ecb9490189d",
   "metadata": {},
   "outputs": [
    {
     "name": "stdout",
     "output_type": "stream",
     "text": [
      "locals: {'y': 25}\n",
      "globals: {'__name__': '__main__', '__doc__': 'Automatically created module for IPython interactive environment', '__package__': None, '__loader__': None, '__spec__': None, '__builtin__': <module 'builtins' (built-in)>, '__builtins__': <module 'builtins' (built-in)>, '_ih': ['', \"# Example 4: Modify global variable dynamically\\n\\ng['x'] = 20\\nprint(x)\", '# Example 2: Global function\\n\\ndef greet():\\n    return(\"Hello!\")\\nprint(globals())', \"# Example 3: Access a global variable from dict\\n\\ng = globals()\\nprint(g['x'])\", \"# Example 4: Modify global variable dynamically\\n\\ng['x'] = 20\\nprint(x)\", '# Example 5: Check existence of variable\\n\\nif \\'x\\' in globals():\\n    print(\"x exists globally\")', '# Example 1: Local variables inside function\\ndef my_func():\\n    a = 5\\n    b = 10\\n    print(locals())\\nmy_func()', '# Example 2: Nested function locals', '# Example 3: Modifying local variables', '# Example 2: Nested function locals\\n\\ndef outer():\\n    x = 100\\n    def inner():\\n        y = 200\\n        print(locals())\\n    inner()\\nouter()', \"# Example 3: Modifying local variables\\n\\ndef f():\\n    x = 1\\n    l = locals()\\n    l['x'] = 10\\n    print(x)\\nf()\", '# Example 4: Local in loop\\n\\nfor i in range(1):\\n    j = 5\\n    print(locals())', '# Example 5: Combining locals with globals\\n\\nx = 50\\ndef check():\\n    y = 25\\n    print(\"locals:\", locals())\\n    print(\"globals:\", globals())\\ncheck()'], '_oh': {}, '_dh': [PosixPath('/home/sheraking/Desktop/#03 Data Science Git Hub Repository/#01 Basic Python repository for github/#01 Python_BuiltIn_Functions/Jupyter')], 'In': ['', \"# Example 4: Modify global variable dynamically\\n\\ng['x'] = 20\\nprint(x)\", '# Example 2: Global function\\n\\ndef greet():\\n    return(\"Hello!\")\\nprint(globals())', \"# Example 3: Access a global variable from dict\\n\\ng = globals()\\nprint(g['x'])\", \"# Example 4: Modify global variable dynamically\\n\\ng['x'] = 20\\nprint(x)\", '# Example 5: Check existence of variable\\n\\nif \\'x\\' in globals():\\n    print(\"x exists globally\")', '# Example 1: Local variables inside function\\ndef my_func():\\n    a = 5\\n    b = 10\\n    print(locals())\\nmy_func()', '# Example 2: Nested function locals', '# Example 3: Modifying local variables', '# Example 2: Nested function locals\\n\\ndef outer():\\n    x = 100\\n    def inner():\\n        y = 200\\n        print(locals())\\n    inner()\\nouter()', \"# Example 3: Modifying local variables\\n\\ndef f():\\n    x = 1\\n    l = locals()\\n    l['x'] = 10\\n    print(x)\\nf()\", '# Example 4: Local in loop\\n\\nfor i in range(1):\\n    j = 5\\n    print(locals())', '# Example 5: Combining locals with globals\\n\\nx = 50\\ndef check():\\n    y = 25\\n    print(\"locals:\", locals())\\n    print(\"globals:\", globals())\\ncheck()'], 'Out': {}, 'get_ipython': <bound method InteractiveShell.get_ipython of <ipykernel.zmqshell.ZMQInteractiveShell object at 0x7036fcfb5940>>, 'exit': <IPython.core.autocall.ZMQExitAutocall object at 0x7036fce5da90>, 'quit': <IPython.core.autocall.ZMQExitAutocall object at 0x7036fce5da90>, 'open': <function open at 0x703706802980>, '_': '', '__': '', '___': '', '__session__': '/home/sheraking/Desktop/#03 Data Science Git Hub Repository/#01 Basic Python repository for github/#01 Python_BuiltIn_Functions/Jupyter/Python_BuiltIn_Functions_Masterclass.ipynb.ipynb', '_i': '# Example 4: Local in loop\\n\\nfor i in range(1):\\n    j = 5\\n    print(locals())', '_ii': \"# Example 3: Modifying local variables\\n\\ndef f():\\n    x = 1\\n    l = locals()\\n    l['x'] = 10\\n    print(x)\\nf()\", '_iii': '# Example 2: Nested function locals\\n\\ndef outer():\\n    x = 100\\n    def inner():\\n        y = 200\\n        print(locals())\\n    inner()\\nouter()', '_i1': \"# Example 4: Modify global variable dynamically\\n\\ng['x'] = 20\\nprint(x)\", '_i2': '# Example 2: Global function\\n\\ndef greet():\\n    return(\"Hello!\")\\nprint(globals())', 'greet': <function greet at 0x7036e2fd1620>, '_i3': \"# Example 3: Access a global variable from dict\\n\\ng = globals()\\nprint(g['x'])\", 'g': {...}, '_i4': \"# Example 4: Modify global variable dynamically\\n\\ng['x'] = 20\\nprint(x)\", 'x': 50, '_i5': '# Example 5: Check existence of variable\\n\\nif \\'x\\' in globals():\\n    print(\"x exists globally\")', '_i6': '\\n# Example 1: Local variables inside function\\ndef my_func():\\n    a = 5\\n    b = 10\\n    print(locals())\\nmy_func()', 'my_func': <function my_func at 0x7036e2fd2480>, '_i7': '# Example 2: Nested function locals', '_i8': '# Example 3: Modifying local variables', '_i9': '# Example 2: Nested function locals\\n\\ndef outer():\\n    x = 100\\n    def inner():\\n        y = 200\\n        print(locals())\\n    inner()\\nouter()', 'outer': <function outer at 0x7036e2fd32e0>, '_i10': \"# Example 3: Modifying local variables\\n\\ndef f():\\n    x = 1\\n    l = locals()\\n    l['x'] = 10\\n    print(x)\\nf()\", 'f': <function f at 0x7036e2fd28e0>, '_i11': '# Example 4: Local in loop\\n\\nfor i in range(1):\\n    j = 5\\n    print(locals())', 'i': 0, 'j': 5, '_i12': '# Example 5: Combining locals with globals\\n\\nx = 50\\ndef check():\\n    y = 25\\n    print(\"locals:\", locals())\\n    print(\"globals:\", globals())\\ncheck()', 'check': <function check at 0x7036e2fd1440>}\n"
     ]
    }
   ],
   "source": [
    "# Example 5: Combining locals with globals\n",
    "\n",
    "x = 50\n",
    "def check():\n",
    "    y = 25\n",
    "    print(\"locals:\", locals())\n",
    "    print(\"globals:\", globals())\n",
    "check()"
   ]
  },
  {
   "cell_type": "markdown",
   "id": "3f8d6e95-04b4-4a5b-81de-d629250dbdbd",
   "metadata": {},
   "source": [
    "\n",
    "### ✅ Summary\n",
    "\n",
    "- **Introspection** aur **utility** functions Python mein **programming environment** aur **objects** ke baare mein **information** provide karte hain.\n",
    "\n",
    "- dir() → attributes aur methods\n",
    "\n",
    "- help() → documentation\n",
    "\n",
    "- vars() → object attributes\n",
    "\n",
    "- globals() → global scope\n",
    "\n",
    "- locals() → local scope"
   ]
  },
  {
   "cell_type": "markdown",
   "id": "be9962e2-80e9-4d61-b46e-7fffec1d22b6",
   "metadata": {},
   "source": [
    "# 🖊️ Input / Output Functions in Python\n",
    "\n",
    "- Python mein **input aur output** functions humein **data read karne aur display karne** mein help karte hain.  \n",
    "- Ye functions user interaction aur file handling ke liye kaafi useful hote hain.\n",
    "\n",
    "Is section mein hum seekhenge:  \n",
    "`input()`, `open()` (text data files read/write)\n"
   ]
  },
  {
   "cell_type": "markdown",
   "id": "ec01a1da-f600-4cbd-a133-a2a23eef7ba2",
   "metadata": {},
   "source": [
    "\n",
    "### 🔹 1️⃣ `input()` Function\n",
    "\n",
    "`input()` function user se **keyboard input** leta hai aur usse **string** ke form mein return karta hai.  \n",
    "Isse hum user interaction enable kar sakte hain."
   ]
  },
  {
   "cell_type": "code",
   "execution_count": 13,
   "id": "1cbda737-e8c3-4749-8fd4-7e6d2846f8ee",
   "metadata": {},
   "outputs": [
    {
     "name": "stdin",
     "output_type": "stream",
     "text": [
      "Enter your name sher khan\n"
     ]
    },
    {
     "name": "stdout",
     "output_type": "stream",
     "text": [
      "my name: sher khan\n"
     ]
    }
   ],
   "source": [
    "# Example 1: Simple text input\n",
    "name = input(\"Enter your name\")\n",
    "print(\"my name:\", name)"
   ]
  },
  {
   "cell_type": "code",
   "execution_count": 14,
   "id": "7a9acb08-2069-4d4b-8002-bfd6e765163e",
   "metadata": {},
   "outputs": [
    {
     "name": "stdin",
     "output_type": "stream",
     "text": [
      "Enter your age: 20\n"
     ]
    },
    {
     "name": "stdout",
     "output_type": "stream",
     "text": [
      "Age: 20\n"
     ]
    }
   ],
   "source": [
    "# Example 2: Numeric input (convert to int)\n",
    "\n",
    "age = int(input(\"Enter your age:\"))\n",
    "print(\"Age:\", age)"
   ]
  },
  {
   "cell_type": "code",
   "execution_count": 16,
   "id": "b98db9f9-80ee-4c76-a19e-f3a40def3f09",
   "metadata": {},
   "outputs": [
    {
     "name": "stdin",
     "output_type": "stream",
     "text": [
      "Enter laptop price: 50000\n"
     ]
    },
    {
     "name": "stdout",
     "output_type": "stream",
     "text": [
      "Price with tax: 55000.00000000001\n"
     ]
    }
   ],
   "source": [
    "\n",
    "# Example 3: Float input\n",
    "\n",
    "price = float(input(\"Enter laptop price:\"))\n",
    "print(\"Price with tax:\", price * 1.1)"
   ]
  },
  {
   "cell_type": "code",
   "execution_count": 19,
   "id": "6ec87355-f3bc-4ab1-a21a-d13c08be0a64",
   "metadata": {},
   "outputs": [
    {
     "name": "stdin",
     "output_type": "stream",
     "text": [
      "Enter Two number sperated by  spaces: 10 20\n"
     ]
    },
    {
     "name": "stdout",
     "output_type": "stream",
     "text": [
      "sum: 30\n"
     ]
    }
   ],
   "source": [
    "# Example 4: Multiple inputs\n",
    "\n",
    "x, y = input(\"Enter Two number sperated by  spaces:\").split()\n",
    "print(\"sum:\", int(x) + int(y))\n"
   ]
  },
  {
   "cell_type": "code",
   "execution_count": 21,
   "id": "f3d539b6-90be-4d03-bbb4-1820c0b5dd6f",
   "metadata": {},
   "outputs": [
    {
     "name": "stdin",
     "output_type": "stream",
     "text": [
      "Enter your fruit: apple\n"
     ]
    },
    {
     "name": "stdout",
     "output_type": "stream",
     "text": [
      "Your Enter fruits: apple\n"
     ]
    },
    {
     "name": "stdin",
     "output_type": "stream",
     "text": [
      "Enter your fruit: banana\n"
     ]
    },
    {
     "name": "stdout",
     "output_type": "stream",
     "text": [
      "Your Enter fruits: banana\n"
     ]
    }
   ],
   "source": [
    "# Example 5: Using input in a loop\n",
    "\n",
    "for i in range(2):\n",
    "    fruit = input(\"Enter your fruit:\")\n",
    "    print(\"Your Enter fruits:\", fruit)"
   ]
  },
  {
   "cell_type": "markdown",
   "id": "a97ba4c7-f2da-4826-bc16-d220e6fd1b7e",
   "metadata": {},
   "source": [
    "### 🔹 2️⃣ open() Function\n",
    "\n",
    "- open() function kisi **file** ko **read/write/append** mode mein open karta hai.\n",
    "- Ye file **object return** karta hai jiske sath hum file **read/write operations** perform kar sakte hain."
   ]
  },
  {
   "cell_type": "code",
   "execution_count": 32,
   "id": "17a8103c-4ba1-4873-beb8-8374ced74b3d",
   "metadata": {},
   "outputs": [],
   "source": [
    "# Example 1: Open a file in write mode and write text\n",
    "file = open(\"example.txt\", \"w\")\n",
    "file.write(\"Hello World\\nPython is fun\")\n",
    "file.close()\n"
   ]
  },
  {
   "cell_type": "code",
   "execution_count": 24,
   "id": "6779d323-93f7-4812-9b1f-d8459e682bba",
   "metadata": {},
   "outputs": [
    {
     "name": "stdout",
     "output_type": "stream",
     "text": [
      "Hello World\n",
      "Python is fun\n"
     ]
    }
   ],
   "source": [
    "# Example 2: Open a file in read mode\n",
    "file  = open(\"example.txt\", \"r\")\n",
    "content = file.read()\n",
    "print(content)\n",
    "file.close()"
   ]
  },
  {
   "cell_type": "code",
   "execution_count": 25,
   "id": "5968e659-7d95-478c-a6eb-f8af28d72211",
   "metadata": {},
   "outputs": [
    {
     "name": "stdout",
     "output_type": "stream",
     "text": [
      "['Hello World\\n', 'Python is fun']\n"
     ]
    }
   ],
   "source": [
    "# Example 3: Read lines into a list\n",
    "\n",
    "file = open(\"example.txt\", \"r\")\n",
    "lines = file.readlines()\n",
    "print(lines)\n",
    "file.close()"
   ]
  },
  {
   "cell_type": "code",
   "execution_count": 26,
   "id": "48b2c530-8061-4b54-906b-4bad131e4e5c",
   "metadata": {},
   "outputs": [],
   "source": [
    "# Example 4: Append new text to file\n",
    "\n",
    "file = open(\"example.txt\", \"a\")\n",
    "file.write(\"\\nLet's Learn Python\")\n",
    "file.close()"
   ]
  },
  {
   "cell_type": "code",
   "execution_count": 28,
   "id": "6203cdc1-2308-4dc1-8551-ecf1e2ef3f9c",
   "metadata": {},
   "outputs": [
    {
     "name": "stdout",
     "output_type": "stream",
     "text": [
      "Hello World\n",
      "Python is fun\n",
      "Let's Learn Python\n"
     ]
    }
   ],
   "source": [
    "# Example 5: Using 'with' statement (better practice)\n",
    "\n",
    "with open(\"example.txt\", \"r\") as f:\n",
    "    for line in f:\n",
    "        print(line.strip())"
   ]
  },
  {
   "cell_type": "code",
   "execution_count": null,
   "id": "fbf6b0d0-81ff-48a2-8987-7329d9da1163",
   "metadata": {},
   "outputs": [],
   "source": []
  },
  {
   "cell_type": "code",
   "execution_count": null,
   "id": "e9ddf091-67ca-43ab-b00c-9439a145c2aa",
   "metadata": {},
   "outputs": [],
   "source": [
    "\n"
   ]
  }
 ],
 "metadata": {
  "kernelspec": {
   "display_name": "Python 3 (ipykernel)",
   "language": "python",
   "name": "python3"
  },
  "language_info": {
   "codemirror_mode": {
    "name": "ipython",
    "version": 3
   },
   "file_extension": ".py",
   "mimetype": "text/x-python",
   "name": "python",
   "nbconvert_exporter": "python",
   "pygments_lexer": "ipython3",
   "version": "3.13.5"
  }
 },
 "nbformat": 4,
 "nbformat_minor": 5
}
